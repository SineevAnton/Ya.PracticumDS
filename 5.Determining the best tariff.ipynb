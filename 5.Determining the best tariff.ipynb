{
 "cells": [
  {
   "cell_type": "markdown",
   "metadata": {},
   "source": [
    "## <center> Определение лучшего тарифа </center>\n",
    "___\n",
    "### <center> Статистический анализ данных </center>\n",
    "___\n",
    "___"
   ]
  },
  {
   "cell_type": "markdown",
   "metadata": {},
   "source": [
    "### Описание проекта\n",
    "\n",
    "___\n",
    "Федеральный оператор сотовой связи «Мегалайн» предлагает клиентам два тарифных плана: «Смарт» и «Ультра». Чтобы скорректировать рекламный бюджет, коммерческий департамент хочет понять, какой тариф приносит больше денег.   \n",
    "Необходимо сделать предварительный анализ тарифов на небольшой выборке клиентов. В нашем распоряжении данные 500 пользователей «Мегалайна»: кто они, откуда, каким тарифом пользуются, сколько звонков и сообщений каждый отправил за 2018 год. Нужно проанализировать поведение клиентов и сделать вывод — какой тариф лучше.\n",
    "___\n",
    "___"
   ]
  },
  {
   "cell_type": "markdown",
   "metadata": {},
   "source": [
    "### <center> Описание тарифов </center>\n",
    "___\n",
    "\n",
    "<table class=\"table_dark\">\n",
    "\t<tbody>\n",
    "\t\t<tr>\n",
    "\t\t\t<td rowspan=\"2\"><b>Тариф</b></td>\n",
    "\t\t\t<td rowspan=\"2\"><b>Ежемесячная плата</b></td>\n",
    "\t\t\t<td colspan=\"3\"><center><b>Включено</b></center></td>\n",
    "\t\t\t<td colspan=\"3\"><center><b>Стоимость услуг сверх тарифного пакета</b></center></td>\n",
    "\t\t</tr>\n",
    "\t\t<tr>\n",
    "\t\t\t<td>Минуты разговора</td>\n",
    "\t\t\t<td>Сообщения (шт.)</td>\n",
    "\t\t\t<td>Интернет (Гб)</td>\n",
    "\t\t\t<td>Минута разговора</td>\n",
    "\t\t\t<td>Сообщение (руб. за 1 шт.)</td>\n",
    "\t\t\t<td>1 Гб интернета</td>\n",
    "\t\t</tr>\n",
    "\t\t<tr>\n",
    "\t\t\t<td>\"Смарт\"</td>\n",
    "\t\t\t<td>550</td>\n",
    "\t\t\t<td>500</td>\n",
    "\t\t\t<td>50</td>\n",
    "\t\t\t<td>15</td>\n",
    "\t\t\t<td>3</td>\n",
    "\t\t\t<td>3</td>\n",
    "\t\t\t<td>200</td>\n",
    "\t\t</tr>\n",
    "\t\t<tr>\n",
    "\t\t\t<td>\"Ультра\"</td>\n",
    "\t\t\t<td>1950</td>\n",
    "\t\t\t<td>3000</td>\n",
    "\t\t\t<td>1000</td>\n",
    "\t\t\t<td>30</td>\n",
    "\t\t\t<td>1</td>\n",
    "\t\t\t<td>1</td>\n",
    "\t\t\t<td>150</td>\n",
    "\t\t</tr>\n",
    "\t</tbody>\n",
    "</table>\n",
    "\n",
    "\n",
    "***Примечание***: «Мегалайн» всегда округляет вверх значения минут и мегабайтов. Если пользователь проговорил всего 1 секунду, в тарифе засчитывается целая минута.\n",
    "___\n",
    "___"
   ]
  },
  {
   "cell_type": "markdown",
   "metadata": {},
   "source": [
    "### Состав проекта\n",
    "<a id = 'back'></a>\n",
    "___\n",
    "[1. Шаг 1. Изучение представленных данных](#step_1)   \n",
    "   \n",
    "   - [1.1. Данные о пользователях](#users_data)\n",
    "   - [1.2. Данные о звонках](#calls_data)\n",
    "   - [1.3. Данные о сообщениях](#messages_data)\n",
    "   - [1.4. Интернет данные](#internet_data)\n",
    "   - [1.5. Данные по тарифам](#tariffs_data)\n",
    "   - [1.6. Выводы](#conclusions)\n",
    "   \n",
    "[2. Шаг 2. Подготовка данных](#step_2)   \n",
    "\n",
    "   - [2.1. Изменение типа данных и добавление новых столбцов](#changing_types)\n",
    "   - [2.2. Помесячные расчеты](#calculations)\n",
    "   \n",
    "[3. Шаг 3. Анализ данных](#step_3)   \n",
    "\n",
    "   - [3.1. Выбросы в данных](#3.1.)\n",
    "   - [3.2. Гистограммы по тарифам](#3.2.)\n",
    "   \n",
    "[4. Шаг 4. Проверка гипотез](#step_4)   \n",
    "\n",
    "   - [4.1. Средняя выручка абонентов в зависимости от тарифа](#4.1.)   \n",
    "   - [4.2. Средняя выручка абонентов в зависимости от региона](#4.2.)\n",
    "   \n",
    "[5. Шаг 5. Общий вывод](#step_5)   \n",
    "   \n",
    "___\n",
    "___"
   ]
  },
  {
   "cell_type": "markdown",
   "metadata": {},
   "source": [
    "### Описание данных\n",
    "___\n",
    "#### Таблица *users* (информация о пользователях):   \n",
    "\n",
    " - *'user_id'* — уникальный идентификатор пользователя   \n",
    " - *'first_name'* — имя пользователя   \n",
    " - *'last_name'* — фамилия пользователя   \n",
    " - *'age'* — возраст пользователя (годы)   \n",
    " - *'reg_date'* — дата подключения тарифа (день, месяц, год)   \n",
    " - *'churn_date'* — дата прекращения пользования тарифом (если значение пропущено, то тариф ещё действовал на момент выгрузки данных)   \n",
    " - *'city'* — город проживания пользователя   \n",
    " - *'tariff'* — название тарифного плана   \n",
    "\n",
    "#### Таблица *calls* (информация о звонках):   \n",
    "\n",
    " - *'id'* — уникальный номер звонка\n",
    " - *'call_date'* — дата звонка\n",
    " - *'duration'* — длительность звонка в минутах\n",
    " - *'user_id'* — идентификатор пользователя, сделавшего звонок\n",
    "\n",
    "#### Таблица *messages* (информация о сообщениях):   \n",
    "\n",
    " - *'id'* — уникальный номер сообщения\n",
    " - *'message_date'* — дата сообщения\n",
    " - *'user_id'* — идентификатор пользователя, отправившего сообщение\n",
    "\n",
    "#### Таблица *internet* (информация об интернет-сессиях):   \n",
    "\n",
    " - *'id'* — уникальный номер сессии\n",
    " - *'mb_used'* — объём потраченного за сессию интернет-трафика (в мегабайтах)\n",
    " - *'session_date'* — дата интернет-сессии\n",
    " - *'user_id'* — идентификатор пользователя\n",
    "\n",
    "#### Таблица *tariffs* (информация о тарифах):   \n",
    "\n",
    " - *'tariff_name'* — название тарифа\n",
    " - *'rub_monthly_fee'* — ежемесячная абонентская плата в рублях\n",
    " - *'minutes_included'* — количество минут разговора в месяц, включённых в абонентскую плату\n",
    " - *'messages_included'* — количество сообщений в месяц, включённых в абонентскую плату\n",
    " - *'mb_per_month_included'* — объём интернет-трафика, включённого в абонентскую плату (в мегабайтах)\n",
    " - *'rub_per_minute'* — стоимость минуты разговора сверх тарифного пакета (например, если в тарифе 100 минут разговора в месяц, то со 101 минуты будет взиматься плата)\n",
    " - *'rub_per_message'* — стоимость отправки сообщения сверх тарифного пакета\n",
    " - *'rub_per_gb'* — стоимость дополнительного гигабайта интернет-трафика сверх тарифного пакета (1 гигабайт = 1024 мегабайта)\n",
    "\n",
    "___\n",
    "___"
   ]
  },
  {
   "cell_type": "markdown",
   "metadata": {},
   "source": [
    "# <center> ВЫПОЛНЕНИЕ ПРОЕКТА </center>\n",
    "___\n",
    "___\n",
    "___"
   ]
  },
  {
   "cell_type": "markdown",
   "metadata": {},
   "source": [
    "Импортируем нужные библиотеки."
   ]
  },
  {
   "cell_type": "code",
   "execution_count": 13,
   "metadata": {},
   "outputs": [],
   "source": [
    "import pandas as pd\n",
    "import numpy as np\n",
    "import matplotlib.pyplot as plt\n",
    "%matplotlib inline"
   ]
  },
  {
   "cell_type": "markdown",
   "metadata": {},
   "source": [
    "___\n",
    "<a id = 'step_1'></a>\n",
    "### Шаг 1. Изучение общей информации\n",
    "___\n",
    "___"
   ]
  },
  {
   "cell_type": "code",
   "execution_count": 14,
   "metadata": {},
   "outputs": [],
   "source": [
    "users = pd.read_csv('/datasets/users.csv')\n",
    "calls = pd.read_csv('/datasets/calls.csv')\n",
    "messages = pd.read_csv('/datasets/messages.csv')\n",
    "internet = pd.read_csv('/datasets/internet.csv')\n",
    "tariffs = pd.read_csv('/datasets/tariffs.csv')"
   ]
  },
  {
   "cell_type": "code",
   "execution_count": 18,
   "metadata": {},
   "outputs": [],
   "source": [
    "users.to_csv(r'C:\\users.csv', index = False)"
   ]
  },
  {
   "cell_type": "markdown",
   "metadata": {},
   "source": [
    "[*к содержанию*](#back)"
   ]
  },
  {
   "cell_type": "markdown",
   "metadata": {},
   "source": [
    "___\n",
    "<a id = 'users_data'></a>\n",
    "- **1.1. Данные о пользователях**"
   ]
  },
  {
   "cell_type": "code",
   "execution_count": 12,
   "metadata": {},
   "outputs": [],
   "source": [
    "pd.set_option('display.max_rows', 30)\n",
    "pd.set_option('display.max_columns', 30)\n",
    "pd.set_option('display.max_colwidth', 30)"
   ]
  },
  {
   "cell_type": "code",
   "execution_count": 4,
   "metadata": {},
   "outputs": [
    {
     "name": "stdout",
     "output_type": "stream",
     "text": [
      "<class 'pandas.core.frame.DataFrame'>\n",
      "RangeIndex: 500 entries, 0 to 499\n",
      "Data columns (total 8 columns):\n",
      "user_id       500 non-null int64\n",
      "age           500 non-null int64\n",
      "churn_date    38 non-null object\n",
      "city          500 non-null object\n",
      "first_name    500 non-null object\n",
      "last_name     500 non-null object\n",
      "reg_date      500 non-null object\n",
      "tariff        500 non-null object\n",
      "dtypes: int64(2), object(6)\n",
      "memory usage: 31.4+ KB\n"
     ]
    }
   ],
   "source": [
    "users.info()"
   ]
  },
  {
   "cell_type": "code",
   "execution_count": 5,
   "metadata": {},
   "outputs": [
    {
     "name": "stdout",
     "output_type": "stream",
     "text": [
      "Количество дубликатов: 0\n"
     ]
    }
   ],
   "source": [
    "print(\"Количество дубликатов:\", users.duplicated().sum())"
   ]
  },
  {
   "cell_type": "markdown",
   "metadata": {},
   "source": [
    "___\n",
    "Пропуски только в данных *'churn_date'*.   \n",
    "Согласно условию задачи это дата прекращения пользования тарифом (если значение пропущено, то тариф ещё действовал на момент выгрузки данных).   \n",
    "Пропуски не требуют обработки.   \n",
    "Дубликаты отсутствуют."
   ]
  },
  {
   "cell_type": "markdown",
   "metadata": {},
   "source": [
    "[*к содержанию*](#back)"
   ]
  },
  {
   "cell_type": "markdown",
   "metadata": {},
   "source": [
    "___\n",
    "<a id = 'calls_data'></a>\n",
    " - **1.2. Данные о звонках**"
   ]
  },
  {
   "cell_type": "code",
   "execution_count": 6,
   "metadata": {},
   "outputs": [
    {
     "data": {
      "text/html": [
       "<div>\n",
       "<style scoped>\n",
       "    .dataframe tbody tr th:only-of-type {\n",
       "        vertical-align: middle;\n",
       "    }\n",
       "\n",
       "    .dataframe tbody tr th {\n",
       "        vertical-align: top;\n",
       "    }\n",
       "\n",
       "    .dataframe thead th {\n",
       "        text-align: right;\n",
       "    }\n",
       "</style>\n",
       "<table border=\"1\" class=\"dataframe\">\n",
       "  <thead>\n",
       "    <tr style=\"text-align: right;\">\n",
       "      <th></th>\n",
       "      <th>id</th>\n",
       "      <th>call_date</th>\n",
       "      <th>duration</th>\n",
       "      <th>user_id</th>\n",
       "    </tr>\n",
       "  </thead>\n",
       "  <tbody>\n",
       "    <tr>\n",
       "      <td>0</td>\n",
       "      <td>1000_0</td>\n",
       "      <td>2018-07-25</td>\n",
       "      <td>0.00</td>\n",
       "      <td>1000</td>\n",
       "    </tr>\n",
       "    <tr>\n",
       "      <td>1</td>\n",
       "      <td>1000_1</td>\n",
       "      <td>2018-08-17</td>\n",
       "      <td>0.00</td>\n",
       "      <td>1000</td>\n",
       "    </tr>\n",
       "    <tr>\n",
       "      <td>2</td>\n",
       "      <td>1000_2</td>\n",
       "      <td>2018-06-11</td>\n",
       "      <td>2.85</td>\n",
       "      <td>1000</td>\n",
       "    </tr>\n",
       "    <tr>\n",
       "      <td>3</td>\n",
       "      <td>1000_3</td>\n",
       "      <td>2018-09-21</td>\n",
       "      <td>13.80</td>\n",
       "      <td>1000</td>\n",
       "    </tr>\n",
       "    <tr>\n",
       "      <td>4</td>\n",
       "      <td>1000_4</td>\n",
       "      <td>2018-12-15</td>\n",
       "      <td>5.18</td>\n",
       "      <td>1000</td>\n",
       "    </tr>\n",
       "    <tr>\n",
       "      <td>5</td>\n",
       "      <td>1000_5</td>\n",
       "      <td>2018-11-02</td>\n",
       "      <td>0.00</td>\n",
       "      <td>1000</td>\n",
       "    </tr>\n",
       "    <tr>\n",
       "      <td>6</td>\n",
       "      <td>1000_6</td>\n",
       "      <td>2018-10-18</td>\n",
       "      <td>0.00</td>\n",
       "      <td>1000</td>\n",
       "    </tr>\n",
       "    <tr>\n",
       "      <td>7</td>\n",
       "      <td>1000_7</td>\n",
       "      <td>2018-08-22</td>\n",
       "      <td>18.31</td>\n",
       "      <td>1000</td>\n",
       "    </tr>\n",
       "    <tr>\n",
       "      <td>8</td>\n",
       "      <td>1000_8</td>\n",
       "      <td>2018-09-15</td>\n",
       "      <td>18.44</td>\n",
       "      <td>1000</td>\n",
       "    </tr>\n",
       "    <tr>\n",
       "      <td>9</td>\n",
       "      <td>1000_9</td>\n",
       "      <td>2018-08-15</td>\n",
       "      <td>0.00</td>\n",
       "      <td>1000</td>\n",
       "    </tr>\n",
       "  </tbody>\n",
       "</table>\n",
       "</div>"
      ],
      "text/plain": [
       "       id   call_date  duration  user_id\n",
       "0  1000_0  2018-07-25      0.00     1000\n",
       "1  1000_1  2018-08-17      0.00     1000\n",
       "2  1000_2  2018-06-11      2.85     1000\n",
       "3  1000_3  2018-09-21     13.80     1000\n",
       "4  1000_4  2018-12-15      5.18     1000\n",
       "5  1000_5  2018-11-02      0.00     1000\n",
       "6  1000_6  2018-10-18      0.00     1000\n",
       "7  1000_7  2018-08-22     18.31     1000\n",
       "8  1000_8  2018-09-15     18.44     1000\n",
       "9  1000_9  2018-08-15      0.00     1000"
      ]
     },
     "metadata": {},
     "output_type": "display_data"
    }
   ],
   "source": [
    "display(calls.head(10))"
   ]
  },
  {
   "cell_type": "code",
   "execution_count": 7,
   "metadata": {},
   "outputs": [
    {
     "name": "stdout",
     "output_type": "stream",
     "text": [
      "<class 'pandas.core.frame.DataFrame'>\n",
      "RangeIndex: 202607 entries, 0 to 202606\n",
      "Data columns (total 4 columns):\n",
      "id           202607 non-null object\n",
      "call_date    202607 non-null object\n",
      "duration     202607 non-null float64\n",
      "user_id      202607 non-null int64\n",
      "dtypes: float64(1), int64(1), object(2)\n",
      "memory usage: 6.2+ MB\n"
     ]
    }
   ],
   "source": [
    "calls.info()"
   ]
  },
  {
   "cell_type": "code",
   "execution_count": 8,
   "metadata": {},
   "outputs": [
    {
     "name": "stdout",
     "output_type": "stream",
     "text": [
      "Количество дубликатов: 0\n"
     ]
    }
   ],
   "source": [
    "print(\"Количество дубликатов:\", calls.duplicated().sum())"
   ]
  },
  {
   "cell_type": "markdown",
   "metadata": {},
   "source": [
    "___\n",
    "Пропуски отсутствуют.   \n",
    "Дубликаты отсутствуют.   \n",
    "Построим гистограмму по длительности звонков."
   ]
  },
  {
   "cell_type": "code",
   "execution_count": 9,
   "metadata": {},
   "outputs": [
    {
     "data": {
      "text/plain": [
       "<matplotlib.axes._subplots.AxesSubplot at 0x7f3da437e890>"
      ]
     },
     "execution_count": 9,
     "metadata": {},
     "output_type": "execute_result"
    },
    {
     "data": {
      "image/png": "[encoded data removed]",
      "text/plain": [
       "<Figure size 432x288 with 1 Axes>"
      ]
     },
     "metadata": {
      "needs_background": "light"
     },
     "output_type": "display_data"
    }
   ],
   "source": [
    "plt.style.use('seaborn-pastel')\n",
    "calls['duration'].plot(kind = 'hist', ec = 'green', bins = 50)"
   ]
  },
  {
   "cell_type": "markdown",
   "metadata": {},
   "source": [
    "___\n",
    "Слишком большой пик на нуле.   \n",
    "В условии сказано, что оператор округляет звонки до целых минут в большую сторону.   \n",
    "При этом ранее мы видели, что данные выгружены буз округления.   \n",
    "Посмотрим есть ли звонки меньше минуты, но больше нуля.   "
   ]
  },
  {
   "cell_type": "code",
   "execution_count": 10,
   "metadata": {},
   "outputs": [
    {
     "data": {
      "text/html": [
       "<div>\n",
       "<style scoped>\n",
       "    .dataframe tbody tr th:only-of-type {\n",
       "        vertical-align: middle;\n",
       "    }\n",
       "\n",
       "    .dataframe tbody tr th {\n",
       "        vertical-align: top;\n",
       "    }\n",
       "\n",
       "    .dataframe thead th {\n",
       "        text-align: right;\n",
       "    }\n",
       "</style>\n",
       "<table border=\"1\" class=\"dataframe\">\n",
       "  <thead>\n",
       "    <tr style=\"text-align: right;\">\n",
       "      <th></th>\n",
       "      <th>id</th>\n",
       "      <th>call_date</th>\n",
       "      <th>duration</th>\n",
       "      <th>user_id</th>\n",
       "    </tr>\n",
       "  </thead>\n",
       "  <tbody>\n",
       "    <tr>\n",
       "      <td>55</td>\n",
       "      <td>1000_55</td>\n",
       "      <td>2018-09-19</td>\n",
       "      <td>0.31</td>\n",
       "      <td>1000</td>\n",
       "    </tr>\n",
       "    <tr>\n",
       "      <td>65</td>\n",
       "      <td>1000_65</td>\n",
       "      <td>2018-10-28</td>\n",
       "      <td>0.34</td>\n",
       "      <td>1000</td>\n",
       "    </tr>\n",
       "    <tr>\n",
       "      <td>97</td>\n",
       "      <td>1000_97</td>\n",
       "      <td>2018-10-26</td>\n",
       "      <td>0.33</td>\n",
       "      <td>1000</td>\n",
       "    </tr>\n",
       "    <tr>\n",
       "      <td>122</td>\n",
       "      <td>1000_122</td>\n",
       "      <td>2018-10-07</td>\n",
       "      <td>0.13</td>\n",
       "      <td>1000</td>\n",
       "    </tr>\n",
       "    <tr>\n",
       "      <td>135</td>\n",
       "      <td>1000_135</td>\n",
       "      <td>2018-10-25</td>\n",
       "      <td>0.02</td>\n",
       "      <td>1000</td>\n",
       "    </tr>\n",
       "    <tr>\n",
       "      <td>...</td>\n",
       "      <td>...</td>\n",
       "      <td>...</td>\n",
       "      <td>...</td>\n",
       "      <td>...</td>\n",
       "    </tr>\n",
       "    <tr>\n",
       "      <td>202484</td>\n",
       "      <td>1499_97</td>\n",
       "      <td>2018-12-22</td>\n",
       "      <td>0.07</td>\n",
       "      <td>1499</td>\n",
       "    </tr>\n",
       "    <tr>\n",
       "      <td>202537</td>\n",
       "      <td>1499_150</td>\n",
       "      <td>2018-12-09</td>\n",
       "      <td>0.56</td>\n",
       "      <td>1499</td>\n",
       "    </tr>\n",
       "    <tr>\n",
       "      <td>202545</td>\n",
       "      <td>1499_158</td>\n",
       "      <td>2018-11-16</td>\n",
       "      <td>0.64</td>\n",
       "      <td>1499</td>\n",
       "    </tr>\n",
       "    <tr>\n",
       "      <td>202579</td>\n",
       "      <td>1499_192</td>\n",
       "      <td>2018-12-07</td>\n",
       "      <td>0.76</td>\n",
       "      <td>1499</td>\n",
       "    </tr>\n",
       "    <tr>\n",
       "      <td>202602</td>\n",
       "      <td>1499_215</td>\n",
       "      <td>2018-12-26</td>\n",
       "      <td>0.76</td>\n",
       "      <td>1499</td>\n",
       "    </tr>\n",
       "  </tbody>\n",
       "</table>\n",
       "<p>8402 rows × 4 columns</p>\n",
       "</div>"
      ],
      "text/plain": [
       "              id   call_date  duration  user_id\n",
       "55       1000_55  2018-09-19      0.31     1000\n",
       "65       1000_65  2018-10-28      0.34     1000\n",
       "97       1000_97  2018-10-26      0.33     1000\n",
       "122     1000_122  2018-10-07      0.13     1000\n",
       "135     1000_135  2018-10-25      0.02     1000\n",
       "...          ...         ...       ...      ...\n",
       "202484   1499_97  2018-12-22      0.07     1499\n",
       "202537  1499_150  2018-12-09      0.56     1499\n",
       "202545  1499_158  2018-11-16      0.64     1499\n",
       "202579  1499_192  2018-12-07      0.76     1499\n",
       "202602  1499_215  2018-12-26      0.76     1499\n",
       "\n",
       "[8402 rows x 4 columns]"
      ]
     },
     "metadata": {},
     "output_type": "display_data"
    }
   ],
   "source": [
    "display(calls.query('0 < duration <= 1'))"
   ]
  },
  {
   "cell_type": "markdown",
   "metadata": {},
   "source": [
    "Округлим длительность звонков и обновим гистограмму."
   ]
  },
  {
   "cell_type": "code",
   "execution_count": 11,
   "metadata": {},
   "outputs": [
    {
     "data": {
      "text/html": [
       "<div>\n",
       "<style scoped>\n",
       "    .dataframe tbody tr th:only-of-type {\n",
       "        vertical-align: middle;\n",
       "    }\n",
       "\n",
       "    .dataframe tbody tr th {\n",
       "        vertical-align: top;\n",
       "    }\n",
       "\n",
       "    .dataframe thead th {\n",
       "        text-align: right;\n",
       "    }\n",
       "</style>\n",
       "<table border=\"1\" class=\"dataframe\">\n",
       "  <thead>\n",
       "    <tr style=\"text-align: right;\">\n",
       "      <th></th>\n",
       "      <th>id</th>\n",
       "      <th>call_date</th>\n",
       "      <th>duration</th>\n",
       "      <th>user_id</th>\n",
       "    </tr>\n",
       "  </thead>\n",
       "  <tbody>\n",
       "    <tr>\n",
       "      <td>0</td>\n",
       "      <td>1000_0</td>\n",
       "      <td>2018-07-25</td>\n",
       "      <td>0.0</td>\n",
       "      <td>1000</td>\n",
       "    </tr>\n",
       "    <tr>\n",
       "      <td>1</td>\n",
       "      <td>1000_1</td>\n",
       "      <td>2018-08-17</td>\n",
       "      <td>0.0</td>\n",
       "      <td>1000</td>\n",
       "    </tr>\n",
       "    <tr>\n",
       "      <td>2</td>\n",
       "      <td>1000_2</td>\n",
       "      <td>2018-06-11</td>\n",
       "      <td>3.0</td>\n",
       "      <td>1000</td>\n",
       "    </tr>\n",
       "    <tr>\n",
       "      <td>3</td>\n",
       "      <td>1000_3</td>\n",
       "      <td>2018-09-21</td>\n",
       "      <td>14.0</td>\n",
       "      <td>1000</td>\n",
       "    </tr>\n",
       "    <tr>\n",
       "      <td>4</td>\n",
       "      <td>1000_4</td>\n",
       "      <td>2018-12-15</td>\n",
       "      <td>6.0</td>\n",
       "      <td>1000</td>\n",
       "    </tr>\n",
       "    <tr>\n",
       "      <td>5</td>\n",
       "      <td>1000_5</td>\n",
       "      <td>2018-11-02</td>\n",
       "      <td>0.0</td>\n",
       "      <td>1000</td>\n",
       "    </tr>\n",
       "    <tr>\n",
       "      <td>6</td>\n",
       "      <td>1000_6</td>\n",
       "      <td>2018-10-18</td>\n",
       "      <td>0.0</td>\n",
       "      <td>1000</td>\n",
       "    </tr>\n",
       "    <tr>\n",
       "      <td>7</td>\n",
       "      <td>1000_7</td>\n",
       "      <td>2018-08-22</td>\n",
       "      <td>19.0</td>\n",
       "      <td>1000</td>\n",
       "    </tr>\n",
       "    <tr>\n",
       "      <td>8</td>\n",
       "      <td>1000_8</td>\n",
       "      <td>2018-09-15</td>\n",
       "      <td>19.0</td>\n",
       "      <td>1000</td>\n",
       "    </tr>\n",
       "    <tr>\n",
       "      <td>9</td>\n",
       "      <td>1000_9</td>\n",
       "      <td>2018-08-15</td>\n",
       "      <td>0.0</td>\n",
       "      <td>1000</td>\n",
       "    </tr>\n",
       "  </tbody>\n",
       "</table>\n",
       "</div>"
      ],
      "text/plain": [
       "       id   call_date  duration  user_id\n",
       "0  1000_0  2018-07-25       0.0     1000\n",
       "1  1000_1  2018-08-17       0.0     1000\n",
       "2  1000_2  2018-06-11       3.0     1000\n",
       "3  1000_3  2018-09-21      14.0     1000\n",
       "4  1000_4  2018-12-15       6.0     1000\n",
       "5  1000_5  2018-11-02       0.0     1000\n",
       "6  1000_6  2018-10-18       0.0     1000\n",
       "7  1000_7  2018-08-22      19.0     1000\n",
       "8  1000_8  2018-09-15      19.0     1000\n",
       "9  1000_9  2018-08-15       0.0     1000"
      ]
     },
     "metadata": {},
     "output_type": "display_data"
    }
   ],
   "source": [
    "calls['duration'] = calls['duration'].apply(np.ceil)\n",
    "display(calls.head(10))"
   ]
  },
  {
   "cell_type": "code",
   "execution_count": 12,
   "metadata": {},
   "outputs": [
    {
     "data": {
      "text/plain": [
       "<matplotlib.axes._subplots.AxesSubplot at 0x7f3da42fbfd0>"
      ]
     },
     "execution_count": 12,
     "metadata": {},
     "output_type": "execute_result"
    },
    {
     "data": {
      "image/png": "[encoded data removed]",
      "text/plain": [
       "<Figure size 432x288 with 1 Axes>"
      ]
     },
     "metadata": {
      "needs_background": "light"
     },
     "output_type": "display_data"
    }
   ],
   "source": [
    "calls['duration'].plot(kind = 'hist', ec = 'green', bins = 100)"
   ]
  },
  {
   "cell_type": "markdown",
   "metadata": {},
   "source": [
    "___\n",
    "Всё ещё много звонков с нулевой длительностью.   \n",
    "Скорее всего так учтены звонки, при которых связь не состоялась (другой абонент не взял трубку, сбросил или что-то подобное).   \n",
    "Такие звонки не оплачиваются абонентом, следовательно не помогут нам в решении поставленной задачи.   \n",
    "Избавимся от таких строк."
   ]
  },
  {
   "cell_type": "code",
   "execution_count": 13,
   "metadata": {},
   "outputs": [
    {
     "data": {
      "text/plain": [
       "<matplotlib.axes._subplots.AxesSubplot at 0x7f3da3992690>"
      ]
     },
     "execution_count": 13,
     "metadata": {},
     "output_type": "execute_result"
    },
    {
     "data": {
      "image/png": "[encoded data removed]",
      "text/plain": [
       "<Figure size 432x288 with 1 Axes>"
      ]
     },
     "metadata": {
      "needs_background": "light"
     },
     "output_type": "display_data"
    }
   ],
   "source": [
    "calls['duration'] = calls['duration'].replace(0, np.NaN)\n",
    "calls = calls.dropna()\n",
    "calls['duration'].plot(kind = 'hist', ec = 'green', bins = 100)"
   ]
  },
  {
   "cell_type": "markdown",
   "metadata": {},
   "source": [
    "___\n",
    "Теперь с эти можно работать."
   ]
  },
  {
   "cell_type": "markdown",
   "metadata": {},
   "source": [
    "[*к содержанию*](#back)"
   ]
  },
  {
   "cell_type": "markdown",
   "metadata": {},
   "source": [
    "___\n",
    "<a id = 'messages_data'></a>\n",
    "- **1.3. Данные о сообщениях**"
   ]
  },
  {
   "cell_type": "code",
   "execution_count": 14,
   "metadata": {},
   "outputs": [
    {
     "data": {
      "text/html": [
       "<div>\n",
       "<style scoped>\n",
       "    .dataframe tbody tr th:only-of-type {\n",
       "        vertical-align: middle;\n",
       "    }\n",
       "\n",
       "    .dataframe tbody tr th {\n",
       "        vertical-align: top;\n",
       "    }\n",
       "\n",
       "    .dataframe thead th {\n",
       "        text-align: right;\n",
       "    }\n",
       "</style>\n",
       "<table border=\"1\" class=\"dataframe\">\n",
       "  <thead>\n",
       "    <tr style=\"text-align: right;\">\n",
       "      <th></th>\n",
       "      <th>id</th>\n",
       "      <th>message_date</th>\n",
       "      <th>user_id</th>\n",
       "    </tr>\n",
       "  </thead>\n",
       "  <tbody>\n",
       "    <tr>\n",
       "      <td>0</td>\n",
       "      <td>1000_0</td>\n",
       "      <td>2018-06-27</td>\n",
       "      <td>1000</td>\n",
       "    </tr>\n",
       "    <tr>\n",
       "      <td>1</td>\n",
       "      <td>1000_1</td>\n",
       "      <td>2018-10-08</td>\n",
       "      <td>1000</td>\n",
       "    </tr>\n",
       "    <tr>\n",
       "      <td>2</td>\n",
       "      <td>1000_2</td>\n",
       "      <td>2018-08-04</td>\n",
       "      <td>1000</td>\n",
       "    </tr>\n",
       "    <tr>\n",
       "      <td>3</td>\n",
       "      <td>1000_3</td>\n",
       "      <td>2018-06-16</td>\n",
       "      <td>1000</td>\n",
       "    </tr>\n",
       "    <tr>\n",
       "      <td>4</td>\n",
       "      <td>1000_4</td>\n",
       "      <td>2018-12-05</td>\n",
       "      <td>1000</td>\n",
       "    </tr>\n",
       "    <tr>\n",
       "      <td>5</td>\n",
       "      <td>1000_5</td>\n",
       "      <td>2018-06-20</td>\n",
       "      <td>1000</td>\n",
       "    </tr>\n",
       "    <tr>\n",
       "      <td>6</td>\n",
       "      <td>1000_6</td>\n",
       "      <td>2018-11-19</td>\n",
       "      <td>1000</td>\n",
       "    </tr>\n",
       "    <tr>\n",
       "      <td>7</td>\n",
       "      <td>1000_7</td>\n",
       "      <td>2018-10-29</td>\n",
       "      <td>1000</td>\n",
       "    </tr>\n",
       "    <tr>\n",
       "      <td>8</td>\n",
       "      <td>1000_8</td>\n",
       "      <td>2018-06-25</td>\n",
       "      <td>1000</td>\n",
       "    </tr>\n",
       "    <tr>\n",
       "      <td>9</td>\n",
       "      <td>1000_9</td>\n",
       "      <td>2018-12-18</td>\n",
       "      <td>1000</td>\n",
       "    </tr>\n",
       "  </tbody>\n",
       "</table>\n",
       "</div>"
      ],
      "text/plain": [
       "       id message_date  user_id\n",
       "0  1000_0   2018-06-27     1000\n",
       "1  1000_1   2018-10-08     1000\n",
       "2  1000_2   2018-08-04     1000\n",
       "3  1000_3   2018-06-16     1000\n",
       "4  1000_4   2018-12-05     1000\n",
       "5  1000_5   2018-06-20     1000\n",
       "6  1000_6   2018-11-19     1000\n",
       "7  1000_7   2018-10-29     1000\n",
       "8  1000_8   2018-06-25     1000\n",
       "9  1000_9   2018-12-18     1000"
      ]
     },
     "metadata": {},
     "output_type": "display_data"
    }
   ],
   "source": [
    "display(messages.head(10))"
   ]
  },
  {
   "cell_type": "code",
   "execution_count": 15,
   "metadata": {},
   "outputs": [
    {
     "name": "stdout",
     "output_type": "stream",
     "text": [
      "<class 'pandas.core.frame.DataFrame'>\n",
      "RangeIndex: 123036 entries, 0 to 123035\n",
      "Data columns (total 3 columns):\n",
      "id              123036 non-null object\n",
      "message_date    123036 non-null object\n",
      "user_id         123036 non-null int64\n",
      "dtypes: int64(1), object(2)\n",
      "memory usage: 2.8+ MB\n"
     ]
    }
   ],
   "source": [
    "messages.info()"
   ]
  },
  {
   "cell_type": "code",
   "execution_count": 16,
   "metadata": {},
   "outputs": [
    {
     "name": "stdout",
     "output_type": "stream",
     "text": [
      "Количество дубликатов: 0\n"
     ]
    }
   ],
   "source": [
    "print(\"Количество дубликатов:\", messages.duplicated().sum())"
   ]
  },
  {
   "cell_type": "markdown",
   "metadata": {},
   "source": [
    "___\n",
    "Пропуски отсутствуют.   \n",
    "Дубликаты отсутствуют."
   ]
  },
  {
   "cell_type": "markdown",
   "metadata": {},
   "source": [
    "[*к содержанию*](#back)"
   ]
  },
  {
   "cell_type": "markdown",
   "metadata": {},
   "source": [
    "___\n",
    "<a id = 'internet_data'></a>\n",
    "- **1.4. Интернет данные**"
   ]
  },
  {
   "cell_type": "code",
   "execution_count": 17,
   "metadata": {},
   "outputs": [
    {
     "data": {
      "text/html": [
       "<div>\n",
       "<style scoped>\n",
       "    .dataframe tbody tr th:only-of-type {\n",
       "        vertical-align: middle;\n",
       "    }\n",
       "\n",
       "    .dataframe tbody tr th {\n",
       "        vertical-align: top;\n",
       "    }\n",
       "\n",
       "    .dataframe thead th {\n",
       "        text-align: right;\n",
       "    }\n",
       "</style>\n",
       "<table border=\"1\" class=\"dataframe\">\n",
       "  <thead>\n",
       "    <tr style=\"text-align: right;\">\n",
       "      <th></th>\n",
       "      <th>Unnamed: 0</th>\n",
       "      <th>id</th>\n",
       "      <th>mb_used</th>\n",
       "      <th>session_date</th>\n",
       "      <th>user_id</th>\n",
       "    </tr>\n",
       "  </thead>\n",
       "  <tbody>\n",
       "    <tr>\n",
       "      <td>0</td>\n",
       "      <td>0</td>\n",
       "      <td>1000_0</td>\n",
       "      <td>112.95</td>\n",
       "      <td>2018-11-25</td>\n",
       "      <td>1000</td>\n",
       "    </tr>\n",
       "    <tr>\n",
       "      <td>1</td>\n",
       "      <td>1</td>\n",
       "      <td>1000_1</td>\n",
       "      <td>1052.81</td>\n",
       "      <td>2018-09-07</td>\n",
       "      <td>1000</td>\n",
       "    </tr>\n",
       "    <tr>\n",
       "      <td>2</td>\n",
       "      <td>2</td>\n",
       "      <td>1000_2</td>\n",
       "      <td>1197.26</td>\n",
       "      <td>2018-06-25</td>\n",
       "      <td>1000</td>\n",
       "    </tr>\n",
       "    <tr>\n",
       "      <td>3</td>\n",
       "      <td>3</td>\n",
       "      <td>1000_3</td>\n",
       "      <td>550.27</td>\n",
       "      <td>2018-08-22</td>\n",
       "      <td>1000</td>\n",
       "    </tr>\n",
       "    <tr>\n",
       "      <td>4</td>\n",
       "      <td>4</td>\n",
       "      <td>1000_4</td>\n",
       "      <td>302.56</td>\n",
       "      <td>2018-09-24</td>\n",
       "      <td>1000</td>\n",
       "    </tr>\n",
       "    <tr>\n",
       "      <td>5</td>\n",
       "      <td>5</td>\n",
       "      <td>1000_5</td>\n",
       "      <td>399.97</td>\n",
       "      <td>2018-10-02</td>\n",
       "      <td>1000</td>\n",
       "    </tr>\n",
       "    <tr>\n",
       "      <td>6</td>\n",
       "      <td>6</td>\n",
       "      <td>1000_6</td>\n",
       "      <td>540.08</td>\n",
       "      <td>2018-09-07</td>\n",
       "      <td>1000</td>\n",
       "    </tr>\n",
       "    <tr>\n",
       "      <td>7</td>\n",
       "      <td>7</td>\n",
       "      <td>1000_7</td>\n",
       "      <td>415.70</td>\n",
       "      <td>2018-07-11</td>\n",
       "      <td>1000</td>\n",
       "    </tr>\n",
       "    <tr>\n",
       "      <td>8</td>\n",
       "      <td>8</td>\n",
       "      <td>1000_8</td>\n",
       "      <td>505.40</td>\n",
       "      <td>2018-10-08</td>\n",
       "      <td>1000</td>\n",
       "    </tr>\n",
       "    <tr>\n",
       "      <td>9</td>\n",
       "      <td>9</td>\n",
       "      <td>1000_9</td>\n",
       "      <td>345.54</td>\n",
       "      <td>2018-09-03</td>\n",
       "      <td>1000</td>\n",
       "    </tr>\n",
       "  </tbody>\n",
       "</table>\n",
       "</div>"
      ],
      "text/plain": [
       "   Unnamed: 0      id  mb_used session_date  user_id\n",
       "0           0  1000_0   112.95   2018-11-25     1000\n",
       "1           1  1000_1  1052.81   2018-09-07     1000\n",
       "2           2  1000_2  1197.26   2018-06-25     1000\n",
       "3           3  1000_3   550.27   2018-08-22     1000\n",
       "4           4  1000_4   302.56   2018-09-24     1000\n",
       "5           5  1000_5   399.97   2018-10-02     1000\n",
       "6           6  1000_6   540.08   2018-09-07     1000\n",
       "7           7  1000_7   415.70   2018-07-11     1000\n",
       "8           8  1000_8   505.40   2018-10-08     1000\n",
       "9           9  1000_9   345.54   2018-09-03     1000"
      ]
     },
     "metadata": {},
     "output_type": "display_data"
    }
   ],
   "source": [
    "display(internet.head(10))"
   ]
  },
  {
   "cell_type": "code",
   "execution_count": 18,
   "metadata": {},
   "outputs": [
    {
     "name": "stdout",
     "output_type": "stream",
     "text": [
      "<class 'pandas.core.frame.DataFrame'>\n",
      "RangeIndex: 149396 entries, 0 to 149395\n",
      "Data columns (total 5 columns):\n",
      "Unnamed: 0      149396 non-null int64\n",
      "id              149396 non-null object\n",
      "mb_used         149396 non-null float64\n",
      "session_date    149396 non-null object\n",
      "user_id         149396 non-null int64\n",
      "dtypes: float64(1), int64(2), object(2)\n",
      "memory usage: 5.7+ MB\n"
     ]
    }
   ],
   "source": [
    "internet.info()"
   ]
  },
  {
   "cell_type": "code",
   "execution_count": 19,
   "metadata": {},
   "outputs": [
    {
     "name": "stdout",
     "output_type": "stream",
     "text": [
      "Количество дубликатов: 0\n"
     ]
    }
   ],
   "source": [
    "print(\"Количество дубликатов:\", internet.duplicated().sum())"
   ]
  },
  {
   "cell_type": "markdown",
   "metadata": {},
   "source": [
    "___\n",
    "Пропуски отсутствуют.   \n",
    "Дубликаты отсутствуют.   \n",
    "Построим гистограмму использованного траффика. "
   ]
  },
  {
   "cell_type": "code",
   "execution_count": 20,
   "metadata": {},
   "outputs": [
    {
     "data": {
      "text/plain": [
       "<matplotlib.axes._subplots.AxesSubplot at 0x7f3da3ac81d0>"
      ]
     },
     "execution_count": 20,
     "metadata": {},
     "output_type": "execute_result"
    },
    {
     "data": {
      "image/png": "[encoded data removed]",
      "text/plain": [
       "<Figure size 432x288 with 1 Axes>"
      ]
     },
     "metadata": {
      "needs_background": "light"
     },
     "output_type": "display_data"
    }
   ],
   "source": [
    "internet['mb_used'].plot(kind = 'hist', ec = 'green', bins = 50)"
   ]
  },
  {
   "cell_type": "markdown",
   "metadata": {},
   "source": [
    "___\n",
    "Слишком большой пик на нуле.   \n",
    "В условии сказано, что оператор округляет траффик до целых мегабайт в большую сторону.   \n",
    "При этом ранее мы видели, что данные выгружены буз округления.   \n",
    "Округлим траффик и обновим гистограмму.   "
   ]
  },
  {
   "cell_type": "code",
   "execution_count": 21,
   "metadata": {},
   "outputs": [
    {
     "data": {
      "text/html": [
       "<div>\n",
       "<style scoped>\n",
       "    .dataframe tbody tr th:only-of-type {\n",
       "        vertical-align: middle;\n",
       "    }\n",
       "\n",
       "    .dataframe tbody tr th {\n",
       "        vertical-align: top;\n",
       "    }\n",
       "\n",
       "    .dataframe thead th {\n",
       "        text-align: right;\n",
       "    }\n",
       "</style>\n",
       "<table border=\"1\" class=\"dataframe\">\n",
       "  <thead>\n",
       "    <tr style=\"text-align: right;\">\n",
       "      <th></th>\n",
       "      <th>Unnamed: 0</th>\n",
       "      <th>id</th>\n",
       "      <th>mb_used</th>\n",
       "      <th>session_date</th>\n",
       "      <th>user_id</th>\n",
       "    </tr>\n",
       "  </thead>\n",
       "  <tbody>\n",
       "    <tr>\n",
       "      <td>0</td>\n",
       "      <td>0</td>\n",
       "      <td>1000_0</td>\n",
       "      <td>113.0</td>\n",
       "      <td>2018-11-25</td>\n",
       "      <td>1000</td>\n",
       "    </tr>\n",
       "    <tr>\n",
       "      <td>1</td>\n",
       "      <td>1</td>\n",
       "      <td>1000_1</td>\n",
       "      <td>1053.0</td>\n",
       "      <td>2018-09-07</td>\n",
       "      <td>1000</td>\n",
       "    </tr>\n",
       "    <tr>\n",
       "      <td>2</td>\n",
       "      <td>2</td>\n",
       "      <td>1000_2</td>\n",
       "      <td>1198.0</td>\n",
       "      <td>2018-06-25</td>\n",
       "      <td>1000</td>\n",
       "    </tr>\n",
       "    <tr>\n",
       "      <td>3</td>\n",
       "      <td>3</td>\n",
       "      <td>1000_3</td>\n",
       "      <td>551.0</td>\n",
       "      <td>2018-08-22</td>\n",
       "      <td>1000</td>\n",
       "    </tr>\n",
       "    <tr>\n",
       "      <td>4</td>\n",
       "      <td>4</td>\n",
       "      <td>1000_4</td>\n",
       "      <td>303.0</td>\n",
       "      <td>2018-09-24</td>\n",
       "      <td>1000</td>\n",
       "    </tr>\n",
       "    <tr>\n",
       "      <td>5</td>\n",
       "      <td>5</td>\n",
       "      <td>1000_5</td>\n",
       "      <td>400.0</td>\n",
       "      <td>2018-10-02</td>\n",
       "      <td>1000</td>\n",
       "    </tr>\n",
       "    <tr>\n",
       "      <td>6</td>\n",
       "      <td>6</td>\n",
       "      <td>1000_6</td>\n",
       "      <td>541.0</td>\n",
       "      <td>2018-09-07</td>\n",
       "      <td>1000</td>\n",
       "    </tr>\n",
       "    <tr>\n",
       "      <td>7</td>\n",
       "      <td>7</td>\n",
       "      <td>1000_7</td>\n",
       "      <td>416.0</td>\n",
       "      <td>2018-07-11</td>\n",
       "      <td>1000</td>\n",
       "    </tr>\n",
       "    <tr>\n",
       "      <td>8</td>\n",
       "      <td>8</td>\n",
       "      <td>1000_8</td>\n",
       "      <td>506.0</td>\n",
       "      <td>2018-10-08</td>\n",
       "      <td>1000</td>\n",
       "    </tr>\n",
       "    <tr>\n",
       "      <td>9</td>\n",
       "      <td>9</td>\n",
       "      <td>1000_9</td>\n",
       "      <td>346.0</td>\n",
       "      <td>2018-09-03</td>\n",
       "      <td>1000</td>\n",
       "    </tr>\n",
       "  </tbody>\n",
       "</table>\n",
       "</div>"
      ],
      "text/plain": [
       "   Unnamed: 0      id  mb_used session_date  user_id\n",
       "0           0  1000_0    113.0   2018-11-25     1000\n",
       "1           1  1000_1   1053.0   2018-09-07     1000\n",
       "2           2  1000_2   1198.0   2018-06-25     1000\n",
       "3           3  1000_3    551.0   2018-08-22     1000\n",
       "4           4  1000_4    303.0   2018-09-24     1000\n",
       "5           5  1000_5    400.0   2018-10-02     1000\n",
       "6           6  1000_6    541.0   2018-09-07     1000\n",
       "7           7  1000_7    416.0   2018-07-11     1000\n",
       "8           8  1000_8    506.0   2018-10-08     1000\n",
       "9           9  1000_9    346.0   2018-09-03     1000"
      ]
     },
     "metadata": {},
     "output_type": "display_data"
    }
   ],
   "source": [
    "internet['mb_used'] = internet['mb_used'].apply(np.ceil)\n",
    "display(internet.head(10))"
   ]
  },
  {
   "cell_type": "code",
   "execution_count": 22,
   "metadata": {},
   "outputs": [
    {
     "data": {
      "text/plain": [
       "<matplotlib.axes._subplots.AxesSubplot at 0x7f3da3b425d0>"
      ]
     },
     "execution_count": 22,
     "metadata": {},
     "output_type": "execute_result"
    },
    {
     "data": {
      "image/png": "[encoded data removed]",
      "text/plain": [
       "<Figure size 432x288 with 1 Axes>"
      ]
     },
     "metadata": {
      "needs_background": "light"
     },
     "output_type": "display_data"
    }
   ],
   "source": [
    "internet['mb_used'].plot(kind = 'hist', ec = 'green', bins = 50)"
   ]
  },
  {
   "cell_type": "markdown",
   "metadata": {},
   "source": [
    "___\n",
    "Всё ещё много нулевого траффика.   \n",
    "По аналогии со звонками - скорее всего этим учтены попытки несостоящегося соединения.   \n",
    "Нулевой траффик не оплачивается абонентом, следовательно не поможет нам в решении поставленной задачи.   \n",
    "Избавимся от таких строк."
   ]
  },
  {
   "cell_type": "code",
   "execution_count": 23,
   "metadata": {},
   "outputs": [
    {
     "data": {
      "text/plain": [
       "<matplotlib.axes._subplots.AxesSubplot at 0x7f3da6899f90>"
      ]
     },
     "execution_count": 23,
     "metadata": {},
     "output_type": "execute_result"
    },
    {
     "data": {
      "image/png": "[encoded data removed]",
      "text/plain": [
       "<Figure size 432x288 with 1 Axes>"
      ]
     },
     "metadata": {
      "needs_background": "light"
     },
     "output_type": "display_data"
    }
   ],
   "source": [
    "internet['mb_used'] = internet['mb_used'].replace(0, np.NaN)\n",
    "internet = internet.dropna()\n",
    "internet['mb_used'].plot(kind = 'hist', ec = 'green', bins = 50)"
   ]
  },
  {
   "cell_type": "markdown",
   "metadata": {},
   "source": [
    "[*к содержанию*](#back)"
   ]
  },
  {
   "cell_type": "markdown",
   "metadata": {},
   "source": [
    "___\n",
    "<a id = 'tariffs_data'></a>\n",
    "- **1.5. Данные по тарифам**"
   ]
  },
  {
   "cell_type": "code",
   "execution_count": 24,
   "metadata": {},
   "outputs": [
    {
     "data": {
      "text/html": [
       "<div>\n",
       "<style scoped>\n",
       "    .dataframe tbody tr th:only-of-type {\n",
       "        vertical-align: middle;\n",
       "    }\n",
       "\n",
       "    .dataframe tbody tr th {\n",
       "        vertical-align: top;\n",
       "    }\n",
       "\n",
       "    .dataframe thead th {\n",
       "        text-align: right;\n",
       "    }\n",
       "</style>\n",
       "<table border=\"1\" class=\"dataframe\">\n",
       "  <thead>\n",
       "    <tr style=\"text-align: right;\">\n",
       "      <th></th>\n",
       "      <th>messages_included</th>\n",
       "      <th>mb_per_month_included</th>\n",
       "      <th>minutes_included</th>\n",
       "      <th>rub_monthly_fee</th>\n",
       "      <th>rub_per_gb</th>\n",
       "      <th>rub_per_message</th>\n",
       "      <th>rub_per_minute</th>\n",
       "      <th>tariff_name</th>\n",
       "    </tr>\n",
       "  </thead>\n",
       "  <tbody>\n",
       "    <tr>\n",
       "      <td>0</td>\n",
       "      <td>50</td>\n",
       "      <td>15360</td>\n",
       "      <td>500</td>\n",
       "      <td>550</td>\n",
       "      <td>200</td>\n",
       "      <td>3</td>\n",
       "      <td>3</td>\n",
       "      <td>smart</td>\n",
       "    </tr>\n",
       "    <tr>\n",
       "      <td>1</td>\n",
       "      <td>1000</td>\n",
       "      <td>30720</td>\n",
       "      <td>3000</td>\n",
       "      <td>1950</td>\n",
       "      <td>150</td>\n",
       "      <td>1</td>\n",
       "      <td>1</td>\n",
       "      <td>ultra</td>\n",
       "    </tr>\n",
       "  </tbody>\n",
       "</table>\n",
       "</div>"
      ],
      "text/plain": [
       "   messages_included  mb_per_month_included  minutes_included  \\\n",
       "0                 50                  15360               500   \n",
       "1               1000                  30720              3000   \n",
       "\n",
       "   rub_monthly_fee  rub_per_gb  rub_per_message  rub_per_minute tariff_name  \n",
       "0              550         200                3               3       smart  \n",
       "1             1950         150                1               1       ultra  "
      ]
     },
     "metadata": {},
     "output_type": "display_data"
    }
   ],
   "source": [
    "display(tariffs.head())"
   ]
  },
  {
   "cell_type": "markdown",
   "metadata": {},
   "source": [
    "___\n",
    "Это просто описание тарифов, аналогичное я представил в описании задания.   \n",
    "При необходимости будем использовать для формирования сводных таблиц."
   ]
  },
  {
   "cell_type": "markdown",
   "metadata": {},
   "source": [
    "[*к содержанию*](#back)"
   ]
  },
  {
   "cell_type": "markdown",
   "metadata": {},
   "source": [
    "___\n",
    "<a id = 'conclusions'></a>\n",
    "- **1.6. Выводы**"
   ]
  },
  {
   "cell_type": "markdown",
   "metadata": {},
   "source": [
    "Представленные для анализа данные довольно чистые.   \n",
    "Были убраны данные, бесполезные для решения поставленной задачи: 0.00 мБ израсходованного траффика и 0.00 секунд разговора не округляются вверх и, соответственно, не оплачиваются.   \n",
    "Далее требуется:   \n",
    "1. *'users'*\n",
    "    - меняем тип данных столбца 'reg_date' на datetime;   \n",
    "    - добавляем столбцы с годом, месяцем и временем года.   \n",
    "\n",
    "2. *'calls'*\n",
    "    - меняем тип данных столбца 'call_date' на datetime;   \n",
    "    - добавляем столбцы с годом, месяцем и временем года.\n",
    "\n",
    "3. *'messages'*\n",
    "    - меняем тип данных столбца 'message_date' на datetime;   \n",
    "    - добавляем столбцы с годом, месяцем и временем года.\n",
    "\n",
    "4. *'internet'*\n",
    "    - меняем тип данных столбца 'session_date' на datetime;   \n",
    "    - добавляем столбцы с годом, месяцем и временем года.\n",
    "\n",
    "5. *'tariffs'*\n",
    "    - оставляем всё как есть."
   ]
  },
  {
   "cell_type": "markdown",
   "metadata": {},
   "source": [
    "[*к содержанию*](#back)"
   ]
  },
  {
   "cell_type": "markdown",
   "metadata": {},
   "source": [
    "___\n",
    "<a id = 'step_2'></a>\n",
    "### Шаг 2. Подготовка данных\n",
    "___\n",
    "___"
   ]
  },
  {
   "cell_type": "markdown",
   "metadata": {},
   "source": [
    "___\n",
    "<a id = 'changing_types'></a>\n",
    "- **2.1. Изменение типа данных**"
   ]
  },
  {
   "cell_type": "markdown",
   "metadata": {},
   "source": [
    "___\n",
    "Напишем функции для определения времени года, перевода в формат 'datetime' и добавления колонок с месяцем и временем года."
   ]
  },
  {
   "cell_type": "code",
   "execution_count": 25,
   "metadata": {},
   "outputs": [],
   "source": [
    "def get_season(date):\n",
    "    if date.month in [1, 2, 12]:\n",
    "        return 'Зима'\n",
    "    elif date.month in [3, 4, 5]:\n",
    "        return 'Весна'\n",
    "    elif date.month in [6, 7, 8]:\n",
    "        return 'Лето'\n",
    "    elif date.month in [9, 10, 11]:\n",
    "        return 'Осень'"
   ]
  },
  {
   "cell_type": "code",
   "execution_count": 26,
   "metadata": {},
   "outputs": [],
   "source": [
    "def to_datetime_with_adding_columns(data):\n",
    "    for df in data:\n",
    "        for column in df.columns:\n",
    "            if ('date' in column) & (column != 'churn_date'):\n",
    "                df[column] = pd.to_datetime(df[column], format = '%Y-%m-%d')\n",
    "                df['month'] = df[column].apply(lambda x: x.month)\n",
    "                df['season'] = df[column].apply(get_season)"
   ]
  },
  {
   "cell_type": "markdown",
   "metadata": {},
   "source": [
    "___\n",
    "Применим эти функции и проверим результат."
   ]
  },
  {
   "cell_type": "code",
   "execution_count": 27,
   "metadata": {},
   "outputs": [],
   "source": [
    "to_datetime_with_adding_columns([users, calls, messages, internet])"
   ]
  },
  {
   "cell_type": "code",
   "execution_count": 28,
   "metadata": {},
   "outputs": [
    {
     "name": "stdout",
     "output_type": "stream",
     "text": [
      "<class 'pandas.core.frame.DataFrame'>\n",
      "RangeIndex: 500 entries, 0 to 499\n",
      "Data columns (total 10 columns):\n",
      "user_id       500 non-null int64\n",
      "age           500 non-null int64\n",
      "churn_date    38 non-null object\n",
      "city          500 non-null object\n",
      "first_name    500 non-null object\n",
      "last_name     500 non-null object\n",
      "reg_date      500 non-null datetime64[ns]\n",
      "tariff        500 non-null object\n",
      "month         500 non-null int64\n",
      "season        500 non-null object\n",
      "dtypes: datetime64[ns](1), int64(3), object(6)\n",
      "memory usage: 39.2+ KB\n"
     ]
    }
   ],
   "source": [
    "users.info()"
   ]
  },
  {
   "cell_type": "code",
   "execution_count": 29,
   "metadata": {},
   "outputs": [
    {
     "name": "stdout",
     "output_type": "stream",
     "text": [
      "<class 'pandas.core.frame.DataFrame'>\n",
      "Int64Index: 162994 entries, 2 to 202606\n",
      "Data columns (total 6 columns):\n",
      "id           162994 non-null object\n",
      "call_date    162994 non-null datetime64[ns]\n",
      "duration     162994 non-null float64\n",
      "user_id      162994 non-null int64\n",
      "month        162994 non-null int64\n",
      "season       162994 non-null object\n",
      "dtypes: datetime64[ns](1), float64(1), int64(2), object(2)\n",
      "memory usage: 8.7+ MB\n"
     ]
    }
   ],
   "source": [
    "calls.info()"
   ]
  },
  {
   "cell_type": "code",
   "execution_count": 30,
   "metadata": {},
   "outputs": [
    {
     "name": "stdout",
     "output_type": "stream",
     "text": [
      "<class 'pandas.core.frame.DataFrame'>\n",
      "RangeIndex: 123036 entries, 0 to 123035\n",
      "Data columns (total 5 columns):\n",
      "id              123036 non-null object\n",
      "message_date    123036 non-null datetime64[ns]\n",
      "user_id         123036 non-null int64\n",
      "month           123036 non-null int64\n",
      "season          123036 non-null object\n",
      "dtypes: datetime64[ns](1), int64(2), object(2)\n",
      "memory usage: 4.7+ MB\n"
     ]
    }
   ],
   "source": [
    "messages.info()"
   ]
  },
  {
   "cell_type": "code",
   "execution_count": 31,
   "metadata": {},
   "outputs": [
    {
     "name": "stdout",
     "output_type": "stream",
     "text": [
      "<class 'pandas.core.frame.DataFrame'>\n",
      "Int64Index: 129798 entries, 0 to 149395\n",
      "Data columns (total 7 columns):\n",
      "Unnamed: 0      129798 non-null int64\n",
      "id              129798 non-null object\n",
      "mb_used         129798 non-null float64\n",
      "session_date    129798 non-null datetime64[ns]\n",
      "user_id         129798 non-null int64\n",
      "month           129798 non-null int64\n",
      "season          129798 non-null object\n",
      "dtypes: datetime64[ns](1), float64(1), int64(3), object(2)\n",
      "memory usage: 7.9+ MB\n"
     ]
    }
   ],
   "source": [
    "internet.info()"
   ]
  },
  {
   "cell_type": "markdown",
   "metadata": {},
   "source": [
    "\n",
    "Тип данных изменён.   \n",
    "___"
   ]
  },
  {
   "cell_type": "markdown",
   "metadata": {},
   "source": [
    "[*к содержанию*](#back)"
   ]
  },
  {
   "cell_type": "markdown",
   "metadata": {},
   "source": [
    "___\n",
    "<a id = 'calculations'></a>\n",
    "- **2.2. Расчёты и добавление новых столбцов**"
   ]
  },
  {
   "cell_type": "markdown",
   "metadata": {},
   "source": [
    "Посчитаем количество звонков, длительность звонков, количество сообщений и объем израсходованного трафика по месяцам."
   ]
  },
  {
   "cell_type": "code",
   "execution_count": 32,
   "metadata": {},
   "outputs": [
    {
     "data": {
      "image/png": "[encoded data removed]",
      "text/plain": [
       "<Figure size 1080x360 with 1 Axes>"
      ]
     },
     "metadata": {
      "needs_background": "light"
     },
     "output_type": "display_data"
    }
   ],
   "source": [
    "plt.figure(figsize=(15,5))\n",
    "plot = calls.groupby('month')['id'].count().plot(kind='bar', ec='black', width=0.1, title = 'Количество звонков за каждый месяц, шт.')"
   ]
  },
  {
   "cell_type": "code",
   "execution_count": 33,
   "metadata": {
    "scrolled": true
   },
   "outputs": [
    {
     "data": {
      "image/png": "[encoded data removed]",
      "text/plain": [
       "<Figure size 1080x360 with 1 Axes>"
      ]
     },
     "metadata": {
      "needs_background": "light"
     },
     "output_type": "display_data"
    }
   ],
   "source": [
    "plt.figure(figsize=(15,5))\n",
    "plot = calls.groupby('month')['duration'].sum().plot(kind='bar', ec='black', width=0.1, title = 'Длительность звонков за каждый месяц, мин.')"
   ]
  },
  {
   "cell_type": "code",
   "execution_count": 34,
   "metadata": {},
   "outputs": [
    {
     "data": {
      "image/png": "[encoded data removed]",
      "text/plain": [
       "<Figure size 1080x360 with 1 Axes>"
      ]
     },
     "metadata": {
      "needs_background": "light"
     },
     "output_type": "display_data"
    }
   ],
   "source": [
    "plt.figure(figsize=(15,5))\n",
    "plot = messages.groupby('month')['id'].count().plot(kind='bar', ec='black', width=0.1, title = 'Количество сообщений за каждый месяц, шт.')"
   ]
  },
  {
   "cell_type": "code",
   "execution_count": 35,
   "metadata": {},
   "outputs": [
    {
     "data": {
      "image/png": "[encoded data removed]",
      "text/plain": [
       "<Figure size 1080x360 with 1 Axes>"
      ]
     },
     "metadata": {
      "needs_background": "light"
     },
     "output_type": "display_data"
    }
   ],
   "source": [
    "plt.figure(figsize=(15,5))\n",
    "plot = internet.groupby('month')['mb_used'].sum().plot(kind='bar', ec='black', width=0.1, title = 'Объем траффика за каждый месяц, Мб.')"
   ]
  },
  {
   "cell_type": "markdown",
   "metadata": {},
   "source": [
    "Данные выглядят странно, стабильный рост каждого показателя к концу года.   \n",
    "Хотя, если прочитать поставленную задачу: \"скорректировать рекламный бюджет\", \"данные 500 пользователей\" (всего 500)... Возможно эти тарифы только запустили в январе 2018 и теперь \"Нужно проанализировать поведение клиентов и сделать вывод — какой тариф лучше\".   \n",
    "Посмотрим сколько пользователей регистрировались в каждом месяце."
   ]
  },
  {
   "cell_type": "code",
   "execution_count": 36,
   "metadata": {
    "scrolled": true
   },
   "outputs": [
    {
     "data": {
      "image/png": "[encoded data removed]",
      "text/plain": [
       "<Figure size 1080x360 with 1 Axes>"
      ]
     },
     "metadata": {
      "needs_background": "light"
     },
     "output_type": "display_data"
    }
   ],
   "source": [
    "plt.figure(figsize=(15,5))\n",
    "plot = users.groupby('month')['user_id'].count().plot(kind='line', grid = True, title = 'Объем траффика за каждый месяц, Мб.')"
   ]
  },
  {
   "cell_type": "markdown",
   "metadata": {},
   "source": [
    "Все логично: каждый месяц по получаем определённое количество новых абонентов, следовательно суммарное их количество увеличивается (при том что за год от тарифов отключились лишь 38 абонентов), следовательно мы имеем такой рост в течение года по количеству звонков и сообщений, длительности звонков и потребляемому траффику. Предположение подтвердилось - это просто новые тарифы."
   ]
  },
  {
   "cell_type": "markdown",
   "metadata": {},
   "source": [
    "Для последующих рассчётов по месяцам необходимо создать новый датафрейм с необходимыми нам данными."
   ]
  },
  {
   "cell_type": "code",
   "execution_count": 37,
   "metadata": {},
   "outputs": [
    {
     "data": {
      "text/html": [
       "<div>\n",
       "<style scoped>\n",
       "    .dataframe tbody tr th:only-of-type {\n",
       "        vertical-align: middle;\n",
       "    }\n",
       "\n",
       "    .dataframe tbody tr th {\n",
       "        vertical-align: top;\n",
       "    }\n",
       "\n",
       "    .dataframe thead th {\n",
       "        text-align: right;\n",
       "    }\n",
       "</style>\n",
       "<table border=\"1\" class=\"dataframe\">\n",
       "  <thead>\n",
       "    <tr style=\"text-align: right;\">\n",
       "      <th></th>\n",
       "      <th>user_id</th>\n",
       "      <th>month</th>\n",
       "      <th>count</th>\n",
       "      <th>sum</th>\n",
       "      <th>id</th>\n",
       "      <th>mb_used</th>\n",
       "    </tr>\n",
       "  </thead>\n",
       "  <tbody>\n",
       "    <tr>\n",
       "      <td>0</td>\n",
       "      <td>1000</td>\n",
       "      <td>5</td>\n",
       "      <td>17.0</td>\n",
       "      <td>159.0</td>\n",
       "      <td>22.0</td>\n",
       "      <td>2256.0</td>\n",
       "    </tr>\n",
       "    <tr>\n",
       "      <td>1</td>\n",
       "      <td>1000</td>\n",
       "      <td>6</td>\n",
       "      <td>28.0</td>\n",
       "      <td>172.0</td>\n",
       "      <td>60.0</td>\n",
       "      <td>23257.0</td>\n",
       "    </tr>\n",
       "    <tr>\n",
       "      <td>2</td>\n",
       "      <td>1000</td>\n",
       "      <td>7</td>\n",
       "      <td>41.0</td>\n",
       "      <td>340.0</td>\n",
       "      <td>75.0</td>\n",
       "      <td>14016.0</td>\n",
       "    </tr>\n",
       "    <tr>\n",
       "      <td>3</td>\n",
       "      <td>1000</td>\n",
       "      <td>8</td>\n",
       "      <td>42.0</td>\n",
       "      <td>408.0</td>\n",
       "      <td>81.0</td>\n",
       "      <td>14070.0</td>\n",
       "    </tr>\n",
       "    <tr>\n",
       "      <td>4</td>\n",
       "      <td>1000</td>\n",
       "      <td>9</td>\n",
       "      <td>46.0</td>\n",
       "      <td>466.0</td>\n",
       "      <td>57.0</td>\n",
       "      <td>14581.0</td>\n",
       "    </tr>\n",
       "  </tbody>\n",
       "</table>\n",
       "</div>"
      ],
      "text/plain": [
       "   user_id  month  count    sum    id  mb_used\n",
       "0     1000      5   17.0  159.0  22.0   2256.0\n",
       "1     1000      6   28.0  172.0  60.0  23257.0\n",
       "2     1000      7   41.0  340.0  75.0  14016.0\n",
       "3     1000      8   42.0  408.0  81.0  14070.0\n",
       "4     1000      9   46.0  466.0  57.0  14581.0"
      ]
     },
     "metadata": {},
     "output_type": "display_data"
    }
   ],
   "source": [
    "calls_duration = calls.groupby(['user_id', 'month'])['duration'].agg(['count', 'sum'])\n",
    "num_of_messages = messages.groupby(['user_id', 'month'])['id'].count()\n",
    "internet_traffic = internet.groupby(['user_id', 'month']).sum()['mb_used']\n",
    "calculation_data = pd.concat([calls_duration, num_of_messages, internet_traffic], axis = 1)\n",
    "calculation_data = calculation_data.reset_index()\n",
    "display(calculation_data.head())"
   ]
  },
  {
   "cell_type": "markdown",
   "metadata": {},
   "source": [
    "Изменим некоторые названия столбцов."
   ]
  },
  {
   "cell_type": "code",
   "execution_count": 38,
   "metadata": {},
   "outputs": [
    {
     "data": {
      "text/html": [
       "<div>\n",
       "<style scoped>\n",
       "    .dataframe tbody tr th:only-of-type {\n",
       "        vertical-align: middle;\n",
       "    }\n",
       "\n",
       "    .dataframe tbody tr th {\n",
       "        vertical-align: top;\n",
       "    }\n",
       "\n",
       "    .dataframe thead th {\n",
       "        text-align: right;\n",
       "    }\n",
       "</style>\n",
       "<table border=\"1\" class=\"dataframe\">\n",
       "  <thead>\n",
       "    <tr style=\"text-align: right;\">\n",
       "      <th></th>\n",
       "      <th>user_id</th>\n",
       "      <th>month</th>\n",
       "      <th>calls_count</th>\n",
       "      <th>calls_duration</th>\n",
       "      <th>messages_count</th>\n",
       "      <th>traffic</th>\n",
       "    </tr>\n",
       "  </thead>\n",
       "  <tbody>\n",
       "    <tr>\n",
       "      <td>0</td>\n",
       "      <td>1000</td>\n",
       "      <td>5</td>\n",
       "      <td>17.0</td>\n",
       "      <td>159.0</td>\n",
       "      <td>22.0</td>\n",
       "      <td>2256.0</td>\n",
       "    </tr>\n",
       "    <tr>\n",
       "      <td>1</td>\n",
       "      <td>1000</td>\n",
       "      <td>6</td>\n",
       "      <td>28.0</td>\n",
       "      <td>172.0</td>\n",
       "      <td>60.0</td>\n",
       "      <td>23257.0</td>\n",
       "    </tr>\n",
       "    <tr>\n",
       "      <td>2</td>\n",
       "      <td>1000</td>\n",
       "      <td>7</td>\n",
       "      <td>41.0</td>\n",
       "      <td>340.0</td>\n",
       "      <td>75.0</td>\n",
       "      <td>14016.0</td>\n",
       "    </tr>\n",
       "    <tr>\n",
       "      <td>3</td>\n",
       "      <td>1000</td>\n",
       "      <td>8</td>\n",
       "      <td>42.0</td>\n",
       "      <td>408.0</td>\n",
       "      <td>81.0</td>\n",
       "      <td>14070.0</td>\n",
       "    </tr>\n",
       "    <tr>\n",
       "      <td>4</td>\n",
       "      <td>1000</td>\n",
       "      <td>9</td>\n",
       "      <td>46.0</td>\n",
       "      <td>466.0</td>\n",
       "      <td>57.0</td>\n",
       "      <td>14581.0</td>\n",
       "    </tr>\n",
       "  </tbody>\n",
       "</table>\n",
       "</div>"
      ],
      "text/plain": [
       "   user_id  month  calls_count  calls_duration  messages_count  traffic\n",
       "0     1000      5         17.0           159.0            22.0   2256.0\n",
       "1     1000      6         28.0           172.0            60.0  23257.0\n",
       "2     1000      7         41.0           340.0            75.0  14016.0\n",
       "3     1000      8         42.0           408.0            81.0  14070.0\n",
       "4     1000      9         46.0           466.0            57.0  14581.0"
      ]
     },
     "metadata": {},
     "output_type": "display_data"
    }
   ],
   "source": [
    "calculation_data.columns = ['user_id', 'month', 'calls_count', 'calls_duration', 'messages_count', 'traffic']\n",
    "display(calculation_data.head())"
   ]
  },
  {
   "cell_type": "markdown",
   "metadata": {},
   "source": [
    "___\n",
    "Получилось неплохо.   \n",
    "Добавим ещё тариф и город."
   ]
  },
  {
   "cell_type": "code",
   "execution_count": 39,
   "metadata": {},
   "outputs": [],
   "source": [
    "tariff_map = dict(pd.Series(users['tariff'].values, index = users['user_id']))\n",
    "calculation_data['tariff'] = calculation_data['user_id'].map(tariff_map)\n",
    "\n",
    "city_map = dict(pd.Series(users['city'].values, index = users['user_id']))\n",
    "calculation_data['city'] = calculation_data['user_id'].map(city_map)"
   ]
  },
  {
   "cell_type": "code",
   "execution_count": 40,
   "metadata": {
    "scrolled": true
   },
   "outputs": [
    {
     "data": {
      "text/html": [
       "<div>\n",
       "<style scoped>\n",
       "    .dataframe tbody tr th:only-of-type {\n",
       "        vertical-align: middle;\n",
       "    }\n",
       "\n",
       "    .dataframe tbody tr th {\n",
       "        vertical-align: top;\n",
       "    }\n",
       "\n",
       "    .dataframe thead th {\n",
       "        text-align: right;\n",
       "    }\n",
       "</style>\n",
       "<table border=\"1\" class=\"dataframe\">\n",
       "  <thead>\n",
       "    <tr style=\"text-align: right;\">\n",
       "      <th></th>\n",
       "      <th>user_id</th>\n",
       "      <th>month</th>\n",
       "      <th>calls_count</th>\n",
       "      <th>calls_duration</th>\n",
       "      <th>messages_count</th>\n",
       "      <th>traffic</th>\n",
       "      <th>tariff</th>\n",
       "      <th>city</th>\n",
       "    </tr>\n",
       "  </thead>\n",
       "  <tbody>\n",
       "    <tr>\n",
       "      <td>0</td>\n",
       "      <td>1000</td>\n",
       "      <td>5</td>\n",
       "      <td>17.0</td>\n",
       "      <td>159.0</td>\n",
       "      <td>22.0</td>\n",
       "      <td>2256.0</td>\n",
       "      <td>ultra</td>\n",
       "      <td>Краснодар</td>\n",
       "    </tr>\n",
       "    <tr>\n",
       "      <td>1</td>\n",
       "      <td>1000</td>\n",
       "      <td>6</td>\n",
       "      <td>28.0</td>\n",
       "      <td>172.0</td>\n",
       "      <td>60.0</td>\n",
       "      <td>23257.0</td>\n",
       "      <td>ultra</td>\n",
       "      <td>Краснодар</td>\n",
       "    </tr>\n",
       "    <tr>\n",
       "      <td>2</td>\n",
       "      <td>1000</td>\n",
       "      <td>7</td>\n",
       "      <td>41.0</td>\n",
       "      <td>340.0</td>\n",
       "      <td>75.0</td>\n",
       "      <td>14016.0</td>\n",
       "      <td>ultra</td>\n",
       "      <td>Краснодар</td>\n",
       "    </tr>\n",
       "    <tr>\n",
       "      <td>3</td>\n",
       "      <td>1000</td>\n",
       "      <td>8</td>\n",
       "      <td>42.0</td>\n",
       "      <td>408.0</td>\n",
       "      <td>81.0</td>\n",
       "      <td>14070.0</td>\n",
       "      <td>ultra</td>\n",
       "      <td>Краснодар</td>\n",
       "    </tr>\n",
       "    <tr>\n",
       "      <td>4</td>\n",
       "      <td>1000</td>\n",
       "      <td>9</td>\n",
       "      <td>46.0</td>\n",
       "      <td>466.0</td>\n",
       "      <td>57.0</td>\n",
       "      <td>14581.0</td>\n",
       "      <td>ultra</td>\n",
       "      <td>Краснодар</td>\n",
       "    </tr>\n",
       "    <tr>\n",
       "      <td>5</td>\n",
       "      <td>1000</td>\n",
       "      <td>10</td>\n",
       "      <td>44.0</td>\n",
       "      <td>350.0</td>\n",
       "      <td>73.0</td>\n",
       "      <td>14717.0</td>\n",
       "      <td>ultra</td>\n",
       "      <td>Краснодар</td>\n",
       "    </tr>\n",
       "    <tr>\n",
       "      <td>6</td>\n",
       "      <td>1000</td>\n",
       "      <td>11</td>\n",
       "      <td>37.0</td>\n",
       "      <td>338.0</td>\n",
       "      <td>58.0</td>\n",
       "      <td>14768.0</td>\n",
       "      <td>ultra</td>\n",
       "      <td>Краснодар</td>\n",
       "    </tr>\n",
       "    <tr>\n",
       "      <td>7</td>\n",
       "      <td>1000</td>\n",
       "      <td>12</td>\n",
       "      <td>38.0</td>\n",
       "      <td>333.0</td>\n",
       "      <td>70.0</td>\n",
       "      <td>9827.0</td>\n",
       "      <td>ultra</td>\n",
       "      <td>Краснодар</td>\n",
       "    </tr>\n",
       "    <tr>\n",
       "      <td>8</td>\n",
       "      <td>1001</td>\n",
       "      <td>11</td>\n",
       "      <td>45.0</td>\n",
       "      <td>430.0</td>\n",
       "      <td>NaN</td>\n",
       "      <td>18452.0</td>\n",
       "      <td>smart</td>\n",
       "      <td>Москва</td>\n",
       "    </tr>\n",
       "    <tr>\n",
       "      <td>9</td>\n",
       "      <td>1001</td>\n",
       "      <td>12</td>\n",
       "      <td>47.0</td>\n",
       "      <td>414.0</td>\n",
       "      <td>NaN</td>\n",
       "      <td>14053.0</td>\n",
       "      <td>smart</td>\n",
       "      <td>Москва</td>\n",
       "    </tr>\n",
       "  </tbody>\n",
       "</table>\n",
       "</div>"
      ],
      "text/plain": [
       "   user_id  month  calls_count  calls_duration  messages_count  traffic  \\\n",
       "0     1000      5         17.0           159.0            22.0   2256.0   \n",
       "1     1000      6         28.0           172.0            60.0  23257.0   \n",
       "2     1000      7         41.0           340.0            75.0  14016.0   \n",
       "3     1000      8         42.0           408.0            81.0  14070.0   \n",
       "4     1000      9         46.0           466.0            57.0  14581.0   \n",
       "5     1000     10         44.0           350.0            73.0  14717.0   \n",
       "6     1000     11         37.0           338.0            58.0  14768.0   \n",
       "7     1000     12         38.0           333.0            70.0   9827.0   \n",
       "8     1001     11         45.0           430.0             NaN  18452.0   \n",
       "9     1001     12         47.0           414.0             NaN  14053.0   \n",
       "\n",
       "  tariff       city  \n",
       "0  ultra  Краснодар  \n",
       "1  ultra  Краснодар  \n",
       "2  ultra  Краснодар  \n",
       "3  ultra  Краснодар  \n",
       "4  ultra  Краснодар  \n",
       "5  ultra  Краснодар  \n",
       "6  ultra  Краснодар  \n",
       "7  ultra  Краснодар  \n",
       "8  smart     Москва  \n",
       "9  smart     Москва  "
      ]
     },
     "metadata": {},
     "output_type": "display_data"
    }
   ],
   "source": [
    "display(calculation_data.head(10))"
   ]
  },
  {
   "cell_type": "code",
   "execution_count": 41,
   "metadata": {
    "scrolled": true
   },
   "outputs": [
    {
     "name": "stdout",
     "output_type": "stream",
     "text": [
      "<class 'pandas.core.frame.DataFrame'>\n",
      "RangeIndex: 3214 entries, 0 to 3213\n",
      "Data columns (total 8 columns):\n",
      "user_id           3214 non-null int64\n",
      "month             3214 non-null int64\n",
      "calls_count       3168 non-null float64\n",
      "calls_duration    3168 non-null float64\n",
      "messages_count    2717 non-null float64\n",
      "traffic           3201 non-null float64\n",
      "tariff            3214 non-null object\n",
      "city              3214 non-null object\n",
      "dtypes: float64(4), int64(2), object(2)\n",
      "memory usage: 201.0+ KB\n"
     ]
    }
   ],
   "source": [
    "calculation_data.info()"
   ]
  },
  {
   "cell_type": "markdown",
   "metadata": {},
   "source": [
    "___\n",
    "Примечательно что в начальных данных не было отсутствующих значений, а при формировании нового датафрейма - они появились.   \n",
    "С учетом правил его формирования - отсутствующие значения скорее всего вызваны тем, что пользователь не звонил/писал сообщение/выходил в интернет в определенные месяцы. Поэтому просто поставим в этих строках нули."
   ]
  },
  {
   "cell_type": "code",
   "execution_count": 42,
   "metadata": {},
   "outputs": [
    {
     "name": "stdout",
     "output_type": "stream",
     "text": [
      "<class 'pandas.core.frame.DataFrame'>\n",
      "RangeIndex: 3214 entries, 0 to 3213\n",
      "Data columns (total 8 columns):\n",
      "user_id           3214 non-null int64\n",
      "month             3214 non-null int64\n",
      "calls_count       3214 non-null float64\n",
      "calls_duration    3214 non-null float64\n",
      "messages_count    3214 non-null float64\n",
      "traffic           3214 non-null float64\n",
      "tariff            3214 non-null object\n",
      "city              3214 non-null object\n",
      "dtypes: float64(4), int64(2), object(2)\n",
      "memory usage: 201.0+ KB\n"
     ]
    }
   ],
   "source": [
    "calculation_data.fillna(0, inplace = True)\n",
    "calculation_data.info()"
   ]
  },
  {
   "cell_type": "markdown",
   "metadata": {},
   "source": [
    "___\n",
    "Добавим условия тарифов, для последующих расчетов.   \n",
    "Абонентская плата:"
   ]
  },
  {
   "cell_type": "code",
   "execution_count": 43,
   "metadata": {},
   "outputs": [],
   "source": [
    "tariff_cost = {'smart':550, 'ultra':1950}\n",
    "calculation_data['tariff_cost'] = calculation_data['tariff'].map(tariff_cost)"
   ]
  },
  {
   "cell_type": "code",
   "execution_count": 83,
   "metadata": {
    "scrolled": true
   },
   "outputs": [
    {
     "data": {
      "text/plain": [
       "'Количество уникальных пользователей : 498'"
      ]
     },
     "execution_count": 83,
     "metadata": {},
     "output_type": "execute_result"
    }
   ],
   "source": [
    "f'Количество уникальных пользователей : {calculation_data.user_id.nunique()}'"
   ]
  },
  {
   "cell_type": "markdown",
   "metadata": {},
   "source": [
    "Для подсчёта превышения пользования услугами сверх пакета напишем функции и добавим новые колонки."
   ]
  },
  {
   "cell_type": "code",
   "execution_count": 44,
   "metadata": {},
   "outputs": [],
   "source": [
    "def calls_overrun(row):\n",
    "    if row['tariff'] == 'smart':\n",
    "        result = row['calls_duration'] - 500\n",
    "        return np.where(result > 0, result, 0)\n",
    "    else:\n",
    "        result = row['calls_duration'] - 3000\n",
    "        return np.where(result > 0, result, 0)\n",
    "    \n",
    "    \n",
    "def messages_overrun(row):\n",
    "    if row['tariff'] == 'smart':\n",
    "        result = row['messages_count'] - 50\n",
    "        return np.where(result > 0, result, 0)\n",
    "    else:\n",
    "        result =  row['messages_count'] - 1000\n",
    "        return np.where(result > 0, result, 0)\n",
    "    \n",
    "\n",
    "def internet_overrun(row):\n",
    "    if row['tariff'] == 'smart':\n",
    "        result = row['traffic'] - 15 * 1024\n",
    "        return np.where(result > 0, result, 0)\n",
    "    else:\n",
    "        result = row['traffic'] - 30 * 1024\n",
    "        return np.where(result > 0, result, 0)\n",
    "    \n",
    "    \n",
    "def month_revenue_for_overrun(row):\n",
    "    sum_per_month = 0\n",
    "    if row['tariff'] == 'smart':\n",
    "        sum_per_month += np.ceil(row['minutes_overrun']) * 3\n",
    "        sum_per_month += row['messages_overrun'] * 3\n",
    "        sum_per_month += np.ceil(row['traffic_overrun']/1024) * 200\n",
    "        return sum_per_month\n",
    "    \n",
    "    else:\n",
    "        sum_per_month += np.ceil(row['minutes_overrun']) * 1\n",
    "        sum_per_month += row['messages_overrun'] * 1\n",
    "        sum_per_month += np.ceil(row['traffic_overrun']/1024) * 150\n",
    "        return sum_per_month"
   ]
  },
  {
   "cell_type": "markdown",
   "metadata": {},
   "source": [
    "Добавляем новые столбцы."
   ]
  },
  {
   "cell_type": "code",
   "execution_count": 45,
   "metadata": {},
   "outputs": [],
   "source": [
    "calculation_data['minutes_overrun'] = calculation_data.apply(calls_overrun, axis = 1)\n",
    "calculation_data['messages_overrun'] = calculation_data.apply(messages_overrun, axis = 1)\n",
    "calculation_data['traffic_overrun'] = calculation_data.apply(internet_overrun, axis = 1)\n",
    "calculation_data['payment_over_the_limit'] = calculation_data.apply(month_revenue_for_overrun, axis = 1)\n",
    "\n",
    "for column in ['minutes_overrun', 'traffic_overrun']:\n",
    "    calculation_data[column] = calculation_data[column].astype('float')\n",
    "\n",
    "for column in ['messages_overrun', 'payment_over_the_limit']:\n",
    "    calculation_data[column] = calculation_data[column].astype('int')"
   ]
  },
  {
   "cell_type": "code",
   "execution_count": 46,
   "metadata": {},
   "outputs": [
    {
     "data": {
      "text/html": [
       "<div>\n",
       "<style scoped>\n",
       "    .dataframe tbody tr th:only-of-type {\n",
       "        vertical-align: middle;\n",
       "    }\n",
       "\n",
       "    .dataframe tbody tr th {\n",
       "        vertical-align: top;\n",
       "    }\n",
       "\n",
       "    .dataframe thead th {\n",
       "        text-align: right;\n",
       "    }\n",
       "</style>\n",
       "<table border=\"1\" class=\"dataframe\">\n",
       "  <thead>\n",
       "    <tr style=\"text-align: right;\">\n",
       "      <th></th>\n",
       "      <th>user_id</th>\n",
       "      <th>month</th>\n",
       "      <th>calls_count</th>\n",
       "      <th>calls_duration</th>\n",
       "      <th>messages_count</th>\n",
       "      <th>traffic</th>\n",
       "      <th>tariff</th>\n",
       "      <th>city</th>\n",
       "      <th>tariff_cost</th>\n",
       "      <th>minutes_overrun</th>\n",
       "      <th>messages_overrun</th>\n",
       "      <th>traffic_overrun</th>\n",
       "      <th>payment_over_the_limit</th>\n",
       "    </tr>\n",
       "  </thead>\n",
       "  <tbody>\n",
       "    <tr>\n",
       "      <td>0</td>\n",
       "      <td>1000</td>\n",
       "      <td>5</td>\n",
       "      <td>17.0</td>\n",
       "      <td>159.0</td>\n",
       "      <td>22.0</td>\n",
       "      <td>2256.0</td>\n",
       "      <td>ultra</td>\n",
       "      <td>Краснодар</td>\n",
       "      <td>1950</td>\n",
       "      <td>0.0</td>\n",
       "      <td>0</td>\n",
       "      <td>0.0</td>\n",
       "      <td>0</td>\n",
       "    </tr>\n",
       "    <tr>\n",
       "      <td>1</td>\n",
       "      <td>1000</td>\n",
       "      <td>6</td>\n",
       "      <td>28.0</td>\n",
       "      <td>172.0</td>\n",
       "      <td>60.0</td>\n",
       "      <td>23257.0</td>\n",
       "      <td>ultra</td>\n",
       "      <td>Краснодар</td>\n",
       "      <td>1950</td>\n",
       "      <td>0.0</td>\n",
       "      <td>0</td>\n",
       "      <td>0.0</td>\n",
       "      <td>0</td>\n",
       "    </tr>\n",
       "    <tr>\n",
       "      <td>2</td>\n",
       "      <td>1000</td>\n",
       "      <td>7</td>\n",
       "      <td>41.0</td>\n",
       "      <td>340.0</td>\n",
       "      <td>75.0</td>\n",
       "      <td>14016.0</td>\n",
       "      <td>ultra</td>\n",
       "      <td>Краснодар</td>\n",
       "      <td>1950</td>\n",
       "      <td>0.0</td>\n",
       "      <td>0</td>\n",
       "      <td>0.0</td>\n",
       "      <td>0</td>\n",
       "    </tr>\n",
       "    <tr>\n",
       "      <td>3</td>\n",
       "      <td>1000</td>\n",
       "      <td>8</td>\n",
       "      <td>42.0</td>\n",
       "      <td>408.0</td>\n",
       "      <td>81.0</td>\n",
       "      <td>14070.0</td>\n",
       "      <td>ultra</td>\n",
       "      <td>Краснодар</td>\n",
       "      <td>1950</td>\n",
       "      <td>0.0</td>\n",
       "      <td>0</td>\n",
       "      <td>0.0</td>\n",
       "      <td>0</td>\n",
       "    </tr>\n",
       "    <tr>\n",
       "      <td>4</td>\n",
       "      <td>1000</td>\n",
       "      <td>9</td>\n",
       "      <td>46.0</td>\n",
       "      <td>466.0</td>\n",
       "      <td>57.0</td>\n",
       "      <td>14581.0</td>\n",
       "      <td>ultra</td>\n",
       "      <td>Краснодар</td>\n",
       "      <td>1950</td>\n",
       "      <td>0.0</td>\n",
       "      <td>0</td>\n",
       "      <td>0.0</td>\n",
       "      <td>0</td>\n",
       "    </tr>\n",
       "    <tr>\n",
       "      <td>5</td>\n",
       "      <td>1000</td>\n",
       "      <td>10</td>\n",
       "      <td>44.0</td>\n",
       "      <td>350.0</td>\n",
       "      <td>73.0</td>\n",
       "      <td>14717.0</td>\n",
       "      <td>ultra</td>\n",
       "      <td>Краснодар</td>\n",
       "      <td>1950</td>\n",
       "      <td>0.0</td>\n",
       "      <td>0</td>\n",
       "      <td>0.0</td>\n",
       "      <td>0</td>\n",
       "    </tr>\n",
       "    <tr>\n",
       "      <td>6</td>\n",
       "      <td>1000</td>\n",
       "      <td>11</td>\n",
       "      <td>37.0</td>\n",
       "      <td>338.0</td>\n",
       "      <td>58.0</td>\n",
       "      <td>14768.0</td>\n",
       "      <td>ultra</td>\n",
       "      <td>Краснодар</td>\n",
       "      <td>1950</td>\n",
       "      <td>0.0</td>\n",
       "      <td>0</td>\n",
       "      <td>0.0</td>\n",
       "      <td>0</td>\n",
       "    </tr>\n",
       "    <tr>\n",
       "      <td>7</td>\n",
       "      <td>1000</td>\n",
       "      <td>12</td>\n",
       "      <td>38.0</td>\n",
       "      <td>333.0</td>\n",
       "      <td>70.0</td>\n",
       "      <td>9827.0</td>\n",
       "      <td>ultra</td>\n",
       "      <td>Краснодар</td>\n",
       "      <td>1950</td>\n",
       "      <td>0.0</td>\n",
       "      <td>0</td>\n",
       "      <td>0.0</td>\n",
       "      <td>0</td>\n",
       "    </tr>\n",
       "    <tr>\n",
       "      <td>8</td>\n",
       "      <td>1001</td>\n",
       "      <td>11</td>\n",
       "      <td>45.0</td>\n",
       "      <td>430.0</td>\n",
       "      <td>0.0</td>\n",
       "      <td>18452.0</td>\n",
       "      <td>smart</td>\n",
       "      <td>Москва</td>\n",
       "      <td>550</td>\n",
       "      <td>0.0</td>\n",
       "      <td>0</td>\n",
       "      <td>3092.0</td>\n",
       "      <td>800</td>\n",
       "    </tr>\n",
       "    <tr>\n",
       "      <td>9</td>\n",
       "      <td>1001</td>\n",
       "      <td>12</td>\n",
       "      <td>47.0</td>\n",
       "      <td>414.0</td>\n",
       "      <td>0.0</td>\n",
       "      <td>14053.0</td>\n",
       "      <td>smart</td>\n",
       "      <td>Москва</td>\n",
       "      <td>550</td>\n",
       "      <td>0.0</td>\n",
       "      <td>0</td>\n",
       "      <td>0.0</td>\n",
       "      <td>0</td>\n",
       "    </tr>\n",
       "  </tbody>\n",
       "</table>\n",
       "</div>"
      ],
      "text/plain": [
       "   user_id  month  calls_count  calls_duration  messages_count  traffic  \\\n",
       "0     1000      5         17.0           159.0            22.0   2256.0   \n",
       "1     1000      6         28.0           172.0            60.0  23257.0   \n",
       "2     1000      7         41.0           340.0            75.0  14016.0   \n",
       "3     1000      8         42.0           408.0            81.0  14070.0   \n",
       "4     1000      9         46.0           466.0            57.0  14581.0   \n",
       "5     1000     10         44.0           350.0            73.0  14717.0   \n",
       "6     1000     11         37.0           338.0            58.0  14768.0   \n",
       "7     1000     12         38.0           333.0            70.0   9827.0   \n",
       "8     1001     11         45.0           430.0             0.0  18452.0   \n",
       "9     1001     12         47.0           414.0             0.0  14053.0   \n",
       "\n",
       "  tariff       city  tariff_cost  minutes_overrun  messages_overrun  \\\n",
       "0  ultra  Краснодар         1950              0.0                 0   \n",
       "1  ultra  Краснодар         1950              0.0                 0   \n",
       "2  ultra  Краснодар         1950              0.0                 0   \n",
       "3  ultra  Краснодар         1950              0.0                 0   \n",
       "4  ultra  Краснодар         1950              0.0                 0   \n",
       "5  ultra  Краснодар         1950              0.0                 0   \n",
       "6  ultra  Краснодар         1950              0.0                 0   \n",
       "7  ultra  Краснодар         1950              0.0                 0   \n",
       "8  smart     Москва          550              0.0                 0   \n",
       "9  smart     Москва          550              0.0                 0   \n",
       "\n",
       "   traffic_overrun  payment_over_the_limit  \n",
       "0              0.0                       0  \n",
       "1              0.0                       0  \n",
       "2              0.0                       0  \n",
       "3              0.0                       0  \n",
       "4              0.0                       0  \n",
       "5              0.0                       0  \n",
       "6              0.0                       0  \n",
       "7              0.0                       0  \n",
       "8           3092.0                     800  \n",
       "9              0.0                       0  "
      ]
     },
     "metadata": {},
     "output_type": "display_data"
    }
   ],
   "source": [
    "display(calculation_data.head(10))"
   ]
  },
  {
   "cell_type": "markdown",
   "metadata": {},
   "source": [
    "Суммируем абонентскую плату и плату за превышение месячного лимита, результат добавляем в новую колонку."
   ]
  },
  {
   "cell_type": "code",
   "execution_count": 47,
   "metadata": {},
   "outputs": [],
   "source": [
    "calculation_data['monthly_payment'] = calculation_data['tariff_cost'] + calculation_data['payment_over_the_limit']"
   ]
  },
  {
   "cell_type": "code",
   "execution_count": 48,
   "metadata": {},
   "outputs": [
    {
     "data": {
      "text/html": [
       "<div>\n",
       "<style scoped>\n",
       "    .dataframe tbody tr th:only-of-type {\n",
       "        vertical-align: middle;\n",
       "    }\n",
       "\n",
       "    .dataframe tbody tr th {\n",
       "        vertical-align: top;\n",
       "    }\n",
       "\n",
       "    .dataframe thead th {\n",
       "        text-align: right;\n",
       "    }\n",
       "</style>\n",
       "<table border=\"1\" class=\"dataframe\">\n",
       "  <thead>\n",
       "    <tr style=\"text-align: right;\">\n",
       "      <th></th>\n",
       "      <th>user_id</th>\n",
       "      <th>month</th>\n",
       "      <th>calls_count</th>\n",
       "      <th>calls_duration</th>\n",
       "      <th>messages_count</th>\n",
       "      <th>traffic</th>\n",
       "      <th>tariff</th>\n",
       "      <th>city</th>\n",
       "      <th>tariff_cost</th>\n",
       "      <th>minutes_overrun</th>\n",
       "      <th>messages_overrun</th>\n",
       "      <th>traffic_overrun</th>\n",
       "      <th>payment_over_the_limit</th>\n",
       "      <th>monthly_payment</th>\n",
       "    </tr>\n",
       "  </thead>\n",
       "  <tbody>\n",
       "    <tr>\n",
       "      <td>0</td>\n",
       "      <td>1000</td>\n",
       "      <td>5</td>\n",
       "      <td>17.0</td>\n",
       "      <td>159.0</td>\n",
       "      <td>22.0</td>\n",
       "      <td>2256.0</td>\n",
       "      <td>ultra</td>\n",
       "      <td>Краснодар</td>\n",
       "      <td>1950</td>\n",
       "      <td>0.0</td>\n",
       "      <td>0</td>\n",
       "      <td>0.0</td>\n",
       "      <td>0</td>\n",
       "      <td>1950</td>\n",
       "    </tr>\n",
       "    <tr>\n",
       "      <td>1</td>\n",
       "      <td>1000</td>\n",
       "      <td>6</td>\n",
       "      <td>28.0</td>\n",
       "      <td>172.0</td>\n",
       "      <td>60.0</td>\n",
       "      <td>23257.0</td>\n",
       "      <td>ultra</td>\n",
       "      <td>Краснодар</td>\n",
       "      <td>1950</td>\n",
       "      <td>0.0</td>\n",
       "      <td>0</td>\n",
       "      <td>0.0</td>\n",
       "      <td>0</td>\n",
       "      <td>1950</td>\n",
       "    </tr>\n",
       "    <tr>\n",
       "      <td>2</td>\n",
       "      <td>1000</td>\n",
       "      <td>7</td>\n",
       "      <td>41.0</td>\n",
       "      <td>340.0</td>\n",
       "      <td>75.0</td>\n",
       "      <td>14016.0</td>\n",
       "      <td>ultra</td>\n",
       "      <td>Краснодар</td>\n",
       "      <td>1950</td>\n",
       "      <td>0.0</td>\n",
       "      <td>0</td>\n",
       "      <td>0.0</td>\n",
       "      <td>0</td>\n",
       "      <td>1950</td>\n",
       "    </tr>\n",
       "    <tr>\n",
       "      <td>3</td>\n",
       "      <td>1000</td>\n",
       "      <td>8</td>\n",
       "      <td>42.0</td>\n",
       "      <td>408.0</td>\n",
       "      <td>81.0</td>\n",
       "      <td>14070.0</td>\n",
       "      <td>ultra</td>\n",
       "      <td>Краснодар</td>\n",
       "      <td>1950</td>\n",
       "      <td>0.0</td>\n",
       "      <td>0</td>\n",
       "      <td>0.0</td>\n",
       "      <td>0</td>\n",
       "      <td>1950</td>\n",
       "    </tr>\n",
       "    <tr>\n",
       "      <td>4</td>\n",
       "      <td>1000</td>\n",
       "      <td>9</td>\n",
       "      <td>46.0</td>\n",
       "      <td>466.0</td>\n",
       "      <td>57.0</td>\n",
       "      <td>14581.0</td>\n",
       "      <td>ultra</td>\n",
       "      <td>Краснодар</td>\n",
       "      <td>1950</td>\n",
       "      <td>0.0</td>\n",
       "      <td>0</td>\n",
       "      <td>0.0</td>\n",
       "      <td>0</td>\n",
       "      <td>1950</td>\n",
       "    </tr>\n",
       "    <tr>\n",
       "      <td>5</td>\n",
       "      <td>1000</td>\n",
       "      <td>10</td>\n",
       "      <td>44.0</td>\n",
       "      <td>350.0</td>\n",
       "      <td>73.0</td>\n",
       "      <td>14717.0</td>\n",
       "      <td>ultra</td>\n",
       "      <td>Краснодар</td>\n",
       "      <td>1950</td>\n",
       "      <td>0.0</td>\n",
       "      <td>0</td>\n",
       "      <td>0.0</td>\n",
       "      <td>0</td>\n",
       "      <td>1950</td>\n",
       "    </tr>\n",
       "    <tr>\n",
       "      <td>6</td>\n",
       "      <td>1000</td>\n",
       "      <td>11</td>\n",
       "      <td>37.0</td>\n",
       "      <td>338.0</td>\n",
       "      <td>58.0</td>\n",
       "      <td>14768.0</td>\n",
       "      <td>ultra</td>\n",
       "      <td>Краснодар</td>\n",
       "      <td>1950</td>\n",
       "      <td>0.0</td>\n",
       "      <td>0</td>\n",
       "      <td>0.0</td>\n",
       "      <td>0</td>\n",
       "      <td>1950</td>\n",
       "    </tr>\n",
       "    <tr>\n",
       "      <td>7</td>\n",
       "      <td>1000</td>\n",
       "      <td>12</td>\n",
       "      <td>38.0</td>\n",
       "      <td>333.0</td>\n",
       "      <td>70.0</td>\n",
       "      <td>9827.0</td>\n",
       "      <td>ultra</td>\n",
       "      <td>Краснодар</td>\n",
       "      <td>1950</td>\n",
       "      <td>0.0</td>\n",
       "      <td>0</td>\n",
       "      <td>0.0</td>\n",
       "      <td>0</td>\n",
       "      <td>1950</td>\n",
       "    </tr>\n",
       "    <tr>\n",
       "      <td>8</td>\n",
       "      <td>1001</td>\n",
       "      <td>11</td>\n",
       "      <td>45.0</td>\n",
       "      <td>430.0</td>\n",
       "      <td>0.0</td>\n",
       "      <td>18452.0</td>\n",
       "      <td>smart</td>\n",
       "      <td>Москва</td>\n",
       "      <td>550</td>\n",
       "      <td>0.0</td>\n",
       "      <td>0</td>\n",
       "      <td>3092.0</td>\n",
       "      <td>800</td>\n",
       "      <td>1350</td>\n",
       "    </tr>\n",
       "    <tr>\n",
       "      <td>9</td>\n",
       "      <td>1001</td>\n",
       "      <td>12</td>\n",
       "      <td>47.0</td>\n",
       "      <td>414.0</td>\n",
       "      <td>0.0</td>\n",
       "      <td>14053.0</td>\n",
       "      <td>smart</td>\n",
       "      <td>Москва</td>\n",
       "      <td>550</td>\n",
       "      <td>0.0</td>\n",
       "      <td>0</td>\n",
       "      <td>0.0</td>\n",
       "      <td>0</td>\n",
       "      <td>550</td>\n",
       "    </tr>\n",
       "  </tbody>\n",
       "</table>\n",
       "</div>"
      ],
      "text/plain": [
       "   user_id  month  calls_count  calls_duration  messages_count  traffic  \\\n",
       "0     1000      5         17.0           159.0            22.0   2256.0   \n",
       "1     1000      6         28.0           172.0            60.0  23257.0   \n",
       "2     1000      7         41.0           340.0            75.0  14016.0   \n",
       "3     1000      8         42.0           408.0            81.0  14070.0   \n",
       "4     1000      9         46.0           466.0            57.0  14581.0   \n",
       "5     1000     10         44.0           350.0            73.0  14717.0   \n",
       "6     1000     11         37.0           338.0            58.0  14768.0   \n",
       "7     1000     12         38.0           333.0            70.0   9827.0   \n",
       "8     1001     11         45.0           430.0             0.0  18452.0   \n",
       "9     1001     12         47.0           414.0             0.0  14053.0   \n",
       "\n",
       "  tariff       city  tariff_cost  minutes_overrun  messages_overrun  \\\n",
       "0  ultra  Краснодар         1950              0.0                 0   \n",
       "1  ultra  Краснодар         1950              0.0                 0   \n",
       "2  ultra  Краснодар         1950              0.0                 0   \n",
       "3  ultra  Краснодар         1950              0.0                 0   \n",
       "4  ultra  Краснодар         1950              0.0                 0   \n",
       "5  ultra  Краснодар         1950              0.0                 0   \n",
       "6  ultra  Краснодар         1950              0.0                 0   \n",
       "7  ultra  Краснодар         1950              0.0                 0   \n",
       "8  smart     Москва          550              0.0                 0   \n",
       "9  smart     Москва          550              0.0                 0   \n",
       "\n",
       "   traffic_overrun  payment_over_the_limit  monthly_payment  \n",
       "0              0.0                       0             1950  \n",
       "1              0.0                       0             1950  \n",
       "2              0.0                       0             1950  \n",
       "3              0.0                       0             1950  \n",
       "4              0.0                       0             1950  \n",
       "5              0.0                       0             1950  \n",
       "6              0.0                       0             1950  \n",
       "7              0.0                       0             1950  \n",
       "8           3092.0                     800             1350  \n",
       "9              0.0                       0              550  "
      ]
     },
     "metadata": {},
     "output_type": "display_data"
    }
   ],
   "source": [
    "display(calculation_data.head(10))"
   ]
  },
  {
   "cell_type": "markdown",
   "metadata": {},
   "source": [
    "Посмотрим как много клиентов превышают лимит."
   ]
  },
  {
   "cell_type": "code",
   "execution_count": 49,
   "metadata": {},
   "outputs": [
    {
     "data": {
      "text/html": [
       "<div>\n",
       "<style scoped>\n",
       "    .dataframe tbody tr th:only-of-type {\n",
       "        vertical-align: middle;\n",
       "    }\n",
       "\n",
       "    .dataframe tbody tr th {\n",
       "        vertical-align: top;\n",
       "    }\n",
       "\n",
       "    .dataframe thead th {\n",
       "        text-align: right;\n",
       "    }\n",
       "</style>\n",
       "<table border=\"1\" class=\"dataframe\">\n",
       "  <thead>\n",
       "    <tr style=\"text-align: right;\">\n",
       "      <th></th>\n",
       "      <th>user_id</th>\n",
       "      <th>month</th>\n",
       "      <th>calls_count</th>\n",
       "      <th>calls_duration</th>\n",
       "      <th>messages_count</th>\n",
       "      <th>traffic</th>\n",
       "      <th>tariff</th>\n",
       "      <th>city</th>\n",
       "      <th>tariff_cost</th>\n",
       "      <th>minutes_overrun</th>\n",
       "      <th>messages_overrun</th>\n",
       "      <th>traffic_overrun</th>\n",
       "      <th>payment_over_the_limit</th>\n",
       "      <th>monthly_payment</th>\n",
       "    </tr>\n",
       "  </thead>\n",
       "  <tbody>\n",
       "    <tr>\n",
       "      <td>67</td>\n",
       "      <td>1009</td>\n",
       "      <td>7</td>\n",
       "      <td>20.0</td>\n",
       "      <td>183.0</td>\n",
       "      <td>14.0</td>\n",
       "      <td>24752.0</td>\n",
       "      <td>smart</td>\n",
       "      <td>Пермь</td>\n",
       "      <td>550</td>\n",
       "      <td>0.0</td>\n",
       "      <td>0</td>\n",
       "      <td>9392.0</td>\n",
       "      <td>2000</td>\n",
       "      <td>2550</td>\n",
       "    </tr>\n",
       "    <tr>\n",
       "      <td>68</td>\n",
       "      <td>1009</td>\n",
       "      <td>8</td>\n",
       "      <td>27.0</td>\n",
       "      <td>249.0</td>\n",
       "      <td>9.0</td>\n",
       "      <td>23738.0</td>\n",
       "      <td>smart</td>\n",
       "      <td>Пермь</td>\n",
       "      <td>550</td>\n",
       "      <td>0.0</td>\n",
       "      <td>0</td>\n",
       "      <td>8378.0</td>\n",
       "      <td>1800</td>\n",
       "      <td>2350</td>\n",
       "    </tr>\n",
       "    <tr>\n",
       "      <td>83</td>\n",
       "      <td>1011</td>\n",
       "      <td>8</td>\n",
       "      <td>58.0</td>\n",
       "      <td>515.0</td>\n",
       "      <td>15.0</td>\n",
       "      <td>21526.0</td>\n",
       "      <td>smart</td>\n",
       "      <td>Самара</td>\n",
       "      <td>550</td>\n",
       "      <td>15.0</td>\n",
       "      <td>0</td>\n",
       "      <td>6166.0</td>\n",
       "      <td>1445</td>\n",
       "      <td>1995</td>\n",
       "    </tr>\n",
       "    <tr>\n",
       "      <td>86</td>\n",
       "      <td>1011</td>\n",
       "      <td>11</td>\n",
       "      <td>52.0</td>\n",
       "      <td>501.0</td>\n",
       "      <td>12.0</td>\n",
       "      <td>25332.0</td>\n",
       "      <td>smart</td>\n",
       "      <td>Самара</td>\n",
       "      <td>550</td>\n",
       "      <td>1.0</td>\n",
       "      <td>0</td>\n",
       "      <td>9972.0</td>\n",
       "      <td>2003</td>\n",
       "      <td>2553</td>\n",
       "    </tr>\n",
       "    <tr>\n",
       "      <td>87</td>\n",
       "      <td>1011</td>\n",
       "      <td>12</td>\n",
       "      <td>44.0</td>\n",
       "      <td>361.0</td>\n",
       "      <td>6.0</td>\n",
       "      <td>22900.0</td>\n",
       "      <td>smart</td>\n",
       "      <td>Самара</td>\n",
       "      <td>550</td>\n",
       "      <td>0.0</td>\n",
       "      <td>0</td>\n",
       "      <td>7540.0</td>\n",
       "      <td>1600</td>\n",
       "      <td>2150</td>\n",
       "    </tr>\n",
       "    <tr>\n",
       "      <td>...</td>\n",
       "      <td>...</td>\n",
       "      <td>...</td>\n",
       "      <td>...</td>\n",
       "      <td>...</td>\n",
       "      <td>...</td>\n",
       "      <td>...</td>\n",
       "      <td>...</td>\n",
       "      <td>...</td>\n",
       "      <td>...</td>\n",
       "      <td>...</td>\n",
       "      <td>...</td>\n",
       "      <td>...</td>\n",
       "      <td>...</td>\n",
       "      <td>...</td>\n",
       "    </tr>\n",
       "    <tr>\n",
       "      <td>3198</td>\n",
       "      <td>1496</td>\n",
       "      <td>8</td>\n",
       "      <td>62.0</td>\n",
       "      <td>527.0</td>\n",
       "      <td>41.0</td>\n",
       "      <td>23560.0</td>\n",
       "      <td>smart</td>\n",
       "      <td>Вологда</td>\n",
       "      <td>550</td>\n",
       "      <td>27.0</td>\n",
       "      <td>0</td>\n",
       "      <td>8200.0</td>\n",
       "      <td>1881</td>\n",
       "      <td>2431</td>\n",
       "    </tr>\n",
       "    <tr>\n",
       "      <td>3199</td>\n",
       "      <td>1496</td>\n",
       "      <td>9</td>\n",
       "      <td>58.0</td>\n",
       "      <td>486.0</td>\n",
       "      <td>29.0</td>\n",
       "      <td>26970.0</td>\n",
       "      <td>smart</td>\n",
       "      <td>Вологда</td>\n",
       "      <td>550</td>\n",
       "      <td>0.0</td>\n",
       "      <td>0</td>\n",
       "      <td>11610.0</td>\n",
       "      <td>2400</td>\n",
       "      <td>2950</td>\n",
       "    </tr>\n",
       "    <tr>\n",
       "      <td>3200</td>\n",
       "      <td>1496</td>\n",
       "      <td>10</td>\n",
       "      <td>56.0</td>\n",
       "      <td>450.0</td>\n",
       "      <td>35.0</td>\n",
       "      <td>28215.0</td>\n",
       "      <td>smart</td>\n",
       "      <td>Вологда</td>\n",
       "      <td>550</td>\n",
       "      <td>0.0</td>\n",
       "      <td>0</td>\n",
       "      <td>12855.0</td>\n",
       "      <td>2600</td>\n",
       "      <td>3150</td>\n",
       "    </tr>\n",
       "    <tr>\n",
       "      <td>3201</td>\n",
       "      <td>1496</td>\n",
       "      <td>11</td>\n",
       "      <td>66.0</td>\n",
       "      <td>662.0</td>\n",
       "      <td>46.0</td>\n",
       "      <td>25092.0</td>\n",
       "      <td>smart</td>\n",
       "      <td>Вологда</td>\n",
       "      <td>550</td>\n",
       "      <td>162.0</td>\n",
       "      <td>0</td>\n",
       "      <td>9732.0</td>\n",
       "      <td>2486</td>\n",
       "      <td>3036</td>\n",
       "    </tr>\n",
       "    <tr>\n",
       "      <td>3207</td>\n",
       "      <td>1498</td>\n",
       "      <td>8</td>\n",
       "      <td>43.0</td>\n",
       "      <td>400.0</td>\n",
       "      <td>62.0</td>\n",
       "      <td>24270.0</td>\n",
       "      <td>smart</td>\n",
       "      <td>Владикавказ</td>\n",
       "      <td>550</td>\n",
       "      <td>0.0</td>\n",
       "      <td>12</td>\n",
       "      <td>8910.0</td>\n",
       "      <td>1836</td>\n",
       "      <td>2386</td>\n",
       "    </tr>\n",
       "  </tbody>\n",
       "</table>\n",
       "<p>556 rows × 14 columns</p>\n",
       "</div>"
      ],
      "text/plain": [
       "      user_id  month  calls_count  calls_duration  messages_count  traffic  \\\n",
       "67       1009      7         20.0           183.0            14.0  24752.0   \n",
       "68       1009      8         27.0           249.0             9.0  23738.0   \n",
       "83       1011      8         58.0           515.0            15.0  21526.0   \n",
       "86       1011     11         52.0           501.0            12.0  25332.0   \n",
       "87       1011     12         44.0           361.0             6.0  22900.0   \n",
       "...       ...    ...          ...             ...             ...      ...   \n",
       "3198     1496      8         62.0           527.0            41.0  23560.0   \n",
       "3199     1496      9         58.0           486.0            29.0  26970.0   \n",
       "3200     1496     10         56.0           450.0            35.0  28215.0   \n",
       "3201     1496     11         66.0           662.0            46.0  25092.0   \n",
       "3207     1498      8         43.0           400.0            62.0  24270.0   \n",
       "\n",
       "     tariff         city  tariff_cost  minutes_overrun  messages_overrun  \\\n",
       "67    smart        Пермь          550              0.0                 0   \n",
       "68    smart        Пермь          550              0.0                 0   \n",
       "83    smart       Самара          550             15.0                 0   \n",
       "86    smart       Самара          550              1.0                 0   \n",
       "87    smart       Самара          550              0.0                 0   \n",
       "...     ...          ...          ...              ...               ...   \n",
       "3198  smart      Вологда          550             27.0                 0   \n",
       "3199  smart      Вологда          550              0.0                 0   \n",
       "3200  smart      Вологда          550              0.0                 0   \n",
       "3201  smart      Вологда          550            162.0                 0   \n",
       "3207  smart  Владикавказ          550              0.0                12   \n",
       "\n",
       "      traffic_overrun  payment_over_the_limit  monthly_payment  \n",
       "67             9392.0                    2000             2550  \n",
       "68             8378.0                    1800             2350  \n",
       "83             6166.0                    1445             1995  \n",
       "86             9972.0                    2003             2553  \n",
       "87             7540.0                    1600             2150  \n",
       "...               ...                     ...              ...  \n",
       "3198           8200.0                    1881             2431  \n",
       "3199          11610.0                    2400             2950  \n",
       "3200          12855.0                    2600             3150  \n",
       "3201           9732.0                    2486             3036  \n",
       "3207           8910.0                    1836             2386  \n",
       "\n",
       "[556 rows x 14 columns]"
      ]
     },
     "execution_count": 49,
     "metadata": {},
     "output_type": "execute_result"
    }
   ],
   "source": [
    "calculation_data[calculation_data['monthly_payment'] > 1950]"
   ]
  },
  {
   "cell_type": "markdown",
   "metadata": {},
   "source": [
    "Проанализируем сколько вообще абонентов выхотяд за рамки тарифа и дозаказывают услуги.\n",
    "Создадим новую колонку, в которой будет эта информация, причем '0' - абонент не превышал лимиты, '1', соответственно, - превышал.   \n",
    "После отобразим эти данные на круговых диаграммах."
   ]
  },
  {
   "cell_type": "code",
   "execution_count": 50,
   "metadata": {},
   "outputs": [],
   "source": [
    "calculation_data['over_limits'] = np.where(calculation_data['payment_over_the_limit'] > 0, 1, 0)"
   ]
  },
  {
   "cell_type": "code",
   "execution_count": 51,
   "metadata": {},
   "outputs": [
    {
     "data": {
      "image/png": "[encoded data removed]",
      "text/plain": [
       "<Figure size 1440x360 with 2 Axes>"
      ]
     },
     "metadata": {},
     "output_type": "display_data"
    }
   ],
   "source": [
    "filter_list = ['smart', 'ultra']\n",
    "titles_list = ['Абоненты \"Смарт\"', 'Абоненты \"Ультра\"']\n",
    "rows = 1\n",
    "cols = 2\n",
    "filter_list_counter = 0\n",
    "\n",
    "sum_smart = calculation_data[calculation_data['tariff'] == 'smart'].count()['user_id']\n",
    "sum_ultra = calculation_data[calculation_data['tariff'] == 'ultra'].count()['user_id']\n",
    "\n",
    "annot_labels = ['В рамках лимита', 'Дозаказ услуг']\n",
    "\n",
    "def func_pct(pct):\n",
    "    if pct < 75 and pct > 25:\n",
    "        value = float(pct/100.*sum_smart)\n",
    "    else:\n",
    "        value = float(pct/100.*sum_ultra)\n",
    "    return \"{:.2f}%\\n({:.0f} чел.)\".format(pct, value)\n",
    "\n",
    "fig, axes = plt.subplots(rows, cols, figsize=(20,10))\n",
    "\n",
    "for r in range(rows):\n",
    "    for c in range(cols):\n",
    "        if filter_list[filter_list_counter] == 'smart':\n",
    "            colors = ['#66FF66', '#FF3300']\n",
    "        else:\n",
    "            colors = ['#66FF66', '#FF3300']\n",
    "        curr_filtered_df = calculation_data[calculation_data['tariff'] == filter_list[filter_list_counter]].groupby('over_limits')['user_id']\n",
    "        ax = curr_filtered_df.count().plot(kind='pie', fontsize=14, title=titles_list[filter_list_counter], figsize=(20,5),\n",
    "                                           autopct=lambda pct: func_pct(pct), ax=axes[c], colors=colors, labels=None)\n",
    "\n",
    "        filter_list_counter += 1\n",
    "\n",
    "plt.tight_layout(pad=3)\n",
    "\n",
    "for ax in axes:\n",
    "    ax.legend(['В рамках лимита', 'Дозаказ услуг'],  bbox_to_anchor=(1,1), prop={'size':15})\n",
    "    ax.set_ylabel('')\n",
    "    ax.title.set_size(16)"
   ]
  },
  {
   "cell_type": "markdown",
   "metadata": {},
   "source": [
    "Почти 75% абонентов \"Смарт\" дозаказывают услуги сверх лимита, в то время как для тарифа \"Ультра\" этот показатель равен почти 14%.   \n",
    "За что же чаще переплачивают абоненты \"Смарт\"?"
   ]
  },
  {
   "cell_type": "code",
   "execution_count": 52,
   "metadata": {},
   "outputs": [
    {
     "data": {
      "text/plain": [
       "<matplotlib.axes._subplots.AxesSubplot at 0x7f3da45d0650>"
      ]
     },
     "execution_count": 52,
     "metadata": {},
     "output_type": "execute_result"
    },
    {
     "data": {
      "image/png": "[encoded data removed]",
      "text/plain": [
       "<Figure size 432x288 with 1 Axes>"
      ]
     },
     "metadata": {
      "needs_background": "light"
     },
     "output_type": "display_data"
    }
   ],
   "source": [
    "smart_data = calculation_data[(calculation_data['tariff'] == 'smart') & \n",
    "                               (calculation_data['payment_over_the_limit'] > 0)]['payment_over_the_limit']\n",
    "smart_data.plot(kind='hist', title = 'Гистограмма переплат, тариф \"Смарт\"', ec='black', bins=50)"
   ]
  },
  {
   "cell_type": "markdown",
   "metadata": {},
   "source": [
    "Большинство переплачивает до 1600 рублей, при абонентской плате в 550 рублей. Осмотрим эту область ближе."
   ]
  },
  {
   "cell_type": "code",
   "execution_count": 53,
   "metadata": {},
   "outputs": [
    {
     "data": {
      "text/plain": [
       "<matplotlib.axes._subplots.AxesSubplot at 0x7f3da4424050>"
      ]
     },
     "execution_count": 53,
     "metadata": {},
     "output_type": "execute_result"
    },
    {
     "data": {
      "image/png": "[encoded data removed]",
      "text/plain": [
       "<Figure size 432x288 with 1 Axes>"
      ]
     },
     "metadata": {
      "needs_background": "light"
     },
     "output_type": "display_data"
    }
   ],
   "source": [
    "smart_data_lt1600 = calculation_data[(calculation_data['tariff'] == 'smart') & \n",
    "                                        (calculation_data['payment_over_the_limit'] > 0) &\n",
    "                                        (calculation_data['payment_over_the_limit'] < 1600)]['payment_over_the_limit']\n",
    "smart_data_lt1600.plot(kind='hist', title='Гистограмма переплат, тариф \"Смарт\"', ec='black', bins=50)"
   ]
  },
  {
   "cell_type": "markdown",
   "metadata": {},
   "source": [
    "Видим пики, кратные 200. Это говорит о том, что больше всего средств абонентов уходит на оплату интернета сверх лимита тарифа \"Смарт\"."
   ]
  },
  {
   "cell_type": "markdown",
   "metadata": {},
   "source": [
    "Исследуем эти же параметры для тарифа \"Ультра\"."
   ]
  },
  {
   "cell_type": "code",
   "execution_count": 54,
   "metadata": {},
   "outputs": [
    {
     "data": {
      "text/plain": [
       "<matplotlib.axes._subplots.AxesSubplot at 0x7f3da55b9850>"
      ]
     },
     "execution_count": 54,
     "metadata": {},
     "output_type": "execute_result"
    },
    {
     "data": {
      "image/png": "[encoded data removed]",
      "text/plain": [
       "<Figure size 432x288 with 1 Axes>"
      ]
     },
     "metadata": {
      "needs_background": "light"
     },
     "output_type": "display_data"
    }
   ],
   "source": [
    "ultra_data = calculation_data[(calculation_data['tariff'] == 'ultra') & \n",
    "                               (calculation_data['payment_over_the_limit'] > 0)]['payment_over_the_limit']\n",
    "ultra_data.plot(kind='hist', title = 'Гистограмма переплат, тариф \"Ультра\"', ec='black', bins=50)"
   ]
  },
  {
   "cell_type": "markdown",
   "metadata": {},
   "source": [
    "Большинство переплачивает до 1000 рублей, при абонентской плате в 500 рублей. Осмотрим эту область ближе."
   ]
  },
  {
   "cell_type": "code",
   "execution_count": 55,
   "metadata": {},
   "outputs": [
    {
     "data": {
      "text/plain": [
       "<matplotlib.axes._subplots.AxesSubplot at 0x7f3da56f0c50>"
      ]
     },
     "execution_count": 55,
     "metadata": {},
     "output_type": "execute_result"
    },
    {
     "data": {
      "image/png": "[encoded data removed]",
      "text/plain": [
       "<Figure size 432x288 with 1 Axes>"
      ]
     },
     "metadata": {
      "needs_background": "light"
     },
     "output_type": "display_data"
    }
   ],
   "source": [
    "ultra_data_lt1000 = calculation_data[(calculation_data['tariff'] == 'ultra') & \n",
    "                                        (calculation_data['payment_over_the_limit'] > 0) &\n",
    "                                        (calculation_data['payment_over_the_limit'] < 1600)]['payment_over_the_limit']\n",
    "ultra_data_lt1000.plot(kind='hist', title='Гистограмма переплат, тариф \"Ультра\"', ec='black', bins=50)"
   ]
  },
  {
   "cell_type": "markdown",
   "metadata": {},
   "source": [
    "Все данные кратны 150. Это говорит о том, что больше всего средств абонентов уходит на оплату интернета сверх лимита тарифа \"Ультра\". При этом почти не тратятся деньги на дополнительные минуты и сообщения (по крайней мере до 1500 рублей). Посмотрим какие услуги в принципе дозаказываются чаще всего для каждого из тарифов."
   ]
  },
  {
   "cell_type": "code",
   "execution_count": 56,
   "metadata": {
    "scrolled": true
   },
   "outputs": [
    {
     "data": {
      "text/html": [
       "<div>\n",
       "<style scoped>\n",
       "    .dataframe tbody tr th:only-of-type {\n",
       "        vertical-align: middle;\n",
       "    }\n",
       "\n",
       "    .dataframe tbody tr th {\n",
       "        vertical-align: top;\n",
       "    }\n",
       "\n",
       "    .dataframe thead th {\n",
       "        text-align: right;\n",
       "    }\n",
       "</style>\n",
       "<table border=\"1\" class=\"dataframe\">\n",
       "  <thead>\n",
       "    <tr style=\"text-align: right;\">\n",
       "      <th></th>\n",
       "      <th>tariff</th>\n",
       "      <th>minutes_overrun</th>\n",
       "      <th>messages_overrun</th>\n",
       "      <th>traffic_overrun</th>\n",
       "    </tr>\n",
       "  </thead>\n",
       "  <tbody>\n",
       "    <tr>\n",
       "      <td>0</td>\n",
       "      <td>smart</td>\n",
       "      <td>92739.0</td>\n",
       "      <td>12928</td>\n",
       "      <td>6175667.0</td>\n",
       "    </tr>\n",
       "    <tr>\n",
       "      <td>1</td>\n",
       "      <td>ultra</td>\n",
       "      <td>0.0</td>\n",
       "      <td>0</td>\n",
       "      <td>743233.0</td>\n",
       "    </tr>\n",
       "  </tbody>\n",
       "</table>\n",
       "</div>"
      ],
      "text/plain": [
       "  tariff  minutes_overrun  messages_overrun  traffic_overrun\n",
       "0  smart          92739.0             12928        6175667.0\n",
       "1  ultra              0.0                 0         743233.0"
      ]
     },
     "execution_count": 56,
     "metadata": {},
     "output_type": "execute_result"
    }
   ],
   "source": [
    "(calculation_data.groupby('tariff').sum()[['minutes_overrun', 'messages_overrun', 'traffic_overrun']]).reset_index()"
   ]
  },
  {
   "cell_type": "markdown",
   "metadata": {},
   "source": [
    "Как и показала гистограмма выше - пользователи 'ultra' дозаказывают только интернет, в то время как пользователи 'смарт' - все услуги.   \n",
    "Сравним суммарную выручку по каждому из тарифов."
   ]
  },
  {
   "cell_type": "code",
   "execution_count": 57,
   "metadata": {},
   "outputs": [
    {
     "data": {
      "image/png": "[encoded data removed]",
      "text/plain": [
       "<Figure size 1440x360 with 1 Axes>"
      ]
     },
     "metadata": {},
     "output_type": "display_data"
    }
   ],
   "source": [
    "full_calculation = calculation_data['monthly_payment'].sum()\n",
    "\n",
    "\n",
    "def func_pct(pct):\n",
    "    value = float(pct/100.*full_calculation)\n",
    "    return \"{:.2f}%\\n({:,.0f} руб.)\".format(pct, value)\n",
    "\n",
    "axes = calculation_data.groupby('tariff')['monthly_payment'].sum().plot(kind='pie', subplots=True, fontsize=15,\n",
    "                                                                     use_index=False, title = 'Выручка', pctdistance=0.45,\n",
    "                                                                     startangle=20, figsize=(20,5),\n",
    "                                                                     autopct=lambda pct: func_pct(pct))\n",
    "\n",
    "for ax in axes:\n",
    "    ax.set_ylabel('')"
   ]
  },
  {
   "cell_type": "markdown",
   "metadata": {},
   "source": [
    "[*к содержанию*](#back)"
   ]
  },
  {
   "cell_type": "markdown",
   "metadata": {},
   "source": [
    "___\n",
    "<a id = 'step_3'></a>\n",
    "### Шаг 3. Анализ данных\n",
    "___\n",
    "___"
   ]
  },
  {
   "cell_type": "markdown",
   "metadata": {},
   "source": [
    "___\n",
    "<a id = '3.1.'></a>\n",
    "- **3.1. Выбросы в данных**"
   ]
  },
  {
   "cell_type": "markdown",
   "metadata": {},
   "source": [
    "Построим боксплоты по исследуемым данным для оценки выбросов и последубщей их фильтрации."
   ]
  },
  {
   "cell_type": "code",
   "execution_count": 58,
   "metadata": {},
   "outputs": [],
   "source": [
    "def draw_box():\n",
    "    column_list = ['calls_duration', 'messages_count', 'traffic']\n",
    "    rows = 1\n",
    "    cols = 3\n",
    "    column_list_counter = 0\n",
    "\n",
    "    fig, axes = plt.subplots(rows, cols, figsize=(40,15))\n",
    "\n",
    "    for r in range(rows):\n",
    "        for c in range(cols):\n",
    "            ax = calculation_data.boxplot(column=column_list[column_list_counter], by='tariff', fontsize=40, ax=axes[c],\n",
    "                                         boxprops=dict(linestyle='-', linewidth=5),\n",
    "                                         medianprops=dict(linestyle='-', linewidth=5),\n",
    "                                         whiskerprops=dict(linestyle='-', linewidth=5),\n",
    "                                         capprops=dict(linestyle='-', linewidth=5),\n",
    "                                         notch=True)\n",
    "            ax.set_title(column_list[column_list_counter])\n",
    "            ax.title.set_size(40)\n",
    "            ax.set_xlabel('')\n",
    "            column_list_counter += 1"
   ]
  },
  {
   "cell_type": "code",
   "execution_count": 59,
   "metadata": {
    "scrolled": false
   },
   "outputs": [
    {
     "name": "stderr",
     "output_type": "stream",
     "text": [
      "/opt/conda/lib/python3.7/site-packages/numpy/core/_asarray.py:83: VisibleDeprecationWarning: Creating an ndarray from ragged nested sequences (which is a list-or-tuple of lists-or-tuples-or ndarrays with different lengths or shapes) is deprecated. If you meant to do this, you must specify 'dtype=object' when creating the ndarray\n",
      "  return array(a, dtype, copy=False, order=order)\n",
      "/opt/conda/lib/python3.7/site-packages/numpy/core/_asarray.py:83: VisibleDeprecationWarning: Creating an ndarray from ragged nested sequences (which is a list-or-tuple of lists-or-tuples-or ndarrays with different lengths or shapes) is deprecated. If you meant to do this, you must specify 'dtype=object' when creating the ndarray\n",
      "  return array(a, dtype, copy=False, order=order)\n",
      "/opt/conda/lib/python3.7/site-packages/numpy/core/_asarray.py:83: VisibleDeprecationWarning: Creating an ndarray from ragged nested sequences (which is a list-or-tuple of lists-or-tuples-or ndarrays with different lengths or shapes) is deprecated. If you meant to do this, you must specify 'dtype=object' when creating the ndarray\n",
      "  return array(a, dtype, copy=False, order=order)\n"
     ]
    },
    {
     "data": {
      "image/png": "[encoded data removed]",
      "text/plain": [
       "<Figure size 2880x1080 with 3 Axes>"
      ]
     },
     "metadata": {
      "needs_background": "light"
     },
     "output_type": "display_data"
    }
   ],
   "source": [
    "draw_box()"
   ]
  },
  {
   "cell_type": "markdown",
   "metadata": {},
   "source": [
    "Рассчитаем интервалы данных."
   ]
  },
  {
   "cell_type": "code",
   "execution_count": 60,
   "metadata": {},
   "outputs": [],
   "source": [
    "def get_intervals(column, data_filter):\n",
    "    \n",
    "    if data_filter == 'tariff':\n",
    "        format_name = column\n",
    "        data1, data2 = 'smart', 'ultra'\n",
    "        format_end1 = 'тарифа \"Смарт\"'\n",
    "        format_end2 = 'тарифа \"Ультра\"'\n",
    "    elif data_filter == 'is_Moscow':\n",
    "        format_name = 'is_Moscow'\n",
    "        data1, data2 = 0, 1\n",
    "        format_end1 = 'для регионов'\n",
    "        format_end2 = 'для Москвы'\n",
    "    \n",
    "    q1_1 = calculation_data[calculation_data[data_filter] == data1][column].quantile(0.25)\n",
    "    q3_1 = calculation_data[calculation_data[data_filter] == data1][column].quantile(0.75)\n",
    "    diff_1 = q3_1 - q1_1\n",
    "    \n",
    "    if data_filter == 'is_Moscow':\n",
    "        left_int_1 = np.where( (q1_1 - 1.5 * diff_1) > 550, q1_1 - 1.5 * diff_1, 550)\n",
    "    else:\n",
    "        left_int_1 = np.where( (q1_1 - 1.5 * diff_1) > 0, q1_1 - 1.5 * diff_1, 0)\n",
    "    \n",
    "    right_int_1 = np.where( (q3_1 + 1.5 * diff_1) > 0, q3_1 + 1.5 * diff_1, 0)\n",
    "    \n",
    "    q1_2 = calculation_data[calculation_data[data_filter] == data2][column].quantile(0.25)\n",
    "    q3_2 = calculation_data[calculation_data[data_filter] == data2][column].quantile(0.75)\n",
    "    diff_2 = q3_2 - q1_2\n",
    "    \n",
    "    if data_filter == 'is_Moscow':\n",
    "        left_int_2 = np.where( (q1_2 - 1.5 * diff_2) > 550, q1_2 - 1.5 * diff_2, 550)\n",
    "    else:\n",
    "        left_int_2 = np.where( (q1_2 - 1.5 * diff_2) > 0, q1_2 - 1.5 * diff_2, 0)\n",
    "        \n",
    "    right_int_2 = np.where( (q3_2 + 1.5 * diff_2) > 0, q3_2 + 1.5 * diff_2, 0)\n",
    "    \n",
    "    print('Границы интервала для столбца \"{}\" {}: {} - {}'.format(column, format_end1, left_int_1, right_int_1))\n",
    "    print('Границы интервала для столбца \"{}\" {}: {} - {}'.format(column, format_end2, left_int_2, right_int_2))\n",
    "    \n",
    "    return (left_int_1, right_int_1), (left_int_2, right_int_2)"
   ]
  },
  {
   "cell_type": "code",
   "execution_count": 61,
   "metadata": {},
   "outputs": [
    {
     "name": "stdout",
     "output_type": "stream",
     "text": [
      "Границы интервала для столбца \"calls_duration\" тарифа \"Смарт\": 0.0 - 939.5\n",
      "Границы интервала для столбца \"calls_duration\" тарифа \"Ультра\": 0.0 - 1454.0\n"
     ]
    }
   ],
   "source": [
    "calls_int_smart, calls_int_ultra = get_intervals('calls_duration', 'tariff')"
   ]
  },
  {
   "cell_type": "code",
   "execution_count": 62,
   "metadata": {},
   "outputs": [
    {
     "name": "stdout",
     "output_type": "stream",
     "text": [
      "Границы интервала для столбца \"messages_count\" тарифа \"Смарт\": 0.0 - 112.5\n",
      "Границы интервала для столбца \"messages_count\" тарифа \"Ультра\": 0.0 - 188.5\n"
     ]
    }
   ],
   "source": [
    "sms_int_smart, sms_int_ultra = get_intervals('messages_count', 'tariff')"
   ]
  },
  {
   "cell_type": "code",
   "execution_count": 63,
   "metadata": {
    "scrolled": true
   },
   "outputs": [
    {
     "name": "stdout",
     "output_type": "stream",
     "text": [
      "Границы интервала для столбца \"traffic\" тарифа \"Смарт\": 1543.0 - 31183.0\n",
      "Границы интервала для столбца \"traffic\" тарифа \"Ультра\": 0.0 - 49480.0\n"
     ]
    }
   ],
   "source": [
    "internet_int_smart, internet_int_ultra = get_intervals('traffic', 'tariff')"
   ]
  },
  {
   "cell_type": "markdown",
   "metadata": {},
   "source": [
    "[*к содержанию*](#back)"
   ]
  },
  {
   "cell_type": "markdown",
   "metadata": {},
   "source": [
    "___\n",
    "<a id = '3.2.'></a>\n",
    "- **3.2. Гистограммы по тарифам**"
   ]
  },
  {
   "cell_type": "markdown",
   "metadata": {},
   "source": [
    "Построим гистограммы по длительности звонков, количеству отправленных сообщений и количеству потраченного трафика в зависимости от тарифа. На гистограммах выведем даннеы по среднему, медиане, дисперсии и стандартному отклонению. Технически медиану можно не трогать, так как ранее отфильтровали данные (просто хочется посмотреть - какая разница между средним и медианой будет для отфильтрованных данных)."
   ]
  },
  {
   "cell_type": "code",
   "execution_count": 64,
   "metadata": {},
   "outputs": [],
   "source": [
    "def plot_hist_comparison(data):\n",
    "    \n",
    "    ax = plt.gca()\n",
    "    func_dict = {'Звонки': 'calls_duration', 'Сообщения': 'messages_count', 'Интернет': 'traffic'}\n",
    "    xlims = [(calls_int_smart[0], calls_int_smart[1]), (calls_int_ultra[0], calls_int_ultra[1]),\n",
    "             (sms_int_smart[0], sms_int_smart[1]), (sms_int_ultra[0], sms_int_ultra[1]),\n",
    "             (internet_int_smart[0], internet_int_smart[1]), (internet_int_ultra[0], internet_int_ultra[1])]\n",
    "    \n",
    "    filt_column = func_dict[data]\n",
    "\n",
    "    # оформление в зависимости от рассматриваемых данных\n",
    "    if data == 'Звонки':\n",
    "        title = 'Гистограмма длительности звонков, мин.'\n",
    "        xlim1 = xlims[0]\n",
    "        xlim2 = xlims[1]\n",
    "        text_x = (58, 8)\n",
    "        text_y = 118\n",
    "        count_text_x = 1150\n",
    "        count_text_y = 85\n",
    "        alpha = 0.8\n",
    "    elif data == 'Сообщения':\n",
    "        title = 'Гистограмма количества отправленных сообщений, шт.'\n",
    "        xlim1 = xlims[2]\n",
    "        xlim2 = xlims[3]\n",
    "        text_x = (5.5, 1)\n",
    "        text_y = 200\n",
    "        count_text_x = 148\n",
    "        count_text_y = 255\n",
    "        alpha = 1\n",
    "    else:\n",
    "        title = 'Гистограмма интернет-трафика, Мб'\n",
    "        xlim1 = xlims[4]\n",
    "        xlim2 = xlims[5]\n",
    "        text_x = (3300, 200)\n",
    "        text_y = 130\n",
    "        count_text_x = 38000\n",
    "        count_text_y = 95\n",
    "        alpha = 0.8\n",
    "    \n",
    "    # получаем отфильтрованные от выбросов датафреймы\n",
    "    filtered_smart_data = calculation_data[(calculation_data['tariff'] == 'smart') &\n",
    "                                           (calculation_data[filt_column] >= xlim1[0]) &\n",
    "                                           (calculation_data[filt_column] <= xlim1[1])][filt_column]\n",
    "    filtered_ultra_data = calculation_data[(calculation_data['tariff'] == 'ultra') &\n",
    "                                           (calculation_data[filt_column] >= xlim2[0]) &\n",
    "                                           (calculation_data[filt_column] <= xlim2[1])][filt_column]\n",
    "    # рисуем\n",
    "    filtered_smart_data.plot(kind='hist', bins=40, figsize=(12,6), ec='black', ax=ax, color='#92c6ff', \n",
    "                             title=title, xlim=xlim1)\n",
    "    filtered_ultra_data.plot(kind='hist', bins=70, figsize=(12,6), ec='black', ax=ax, color='#97F0AA', \n",
    "                             title=title, xlim=xlim2, alpha=alpha)\n",
    "    \n",
    "    # расчетные данные\n",
    "    mean_smart = filtered_smart_data.mean()\n",
    "    mean_ultra = filtered_ultra_data.mean()\n",
    "    median_smart = filtered_smart_data.median()\n",
    "    median_ultra = filtered_ultra_data.median()\n",
    "    dispersion_smart = filtered_smart_data.var()\n",
    "    dispersion_ultra = filtered_ultra_data.var()\n",
    "    std_smart = filtered_smart_data.std()\n",
    "    std_ultra = filtered_ultra_data.std()\n",
    "    \n",
    "    if data == 'Сообщения':\n",
    "        smart_data = 'Среднее - {:.2f}\\nМедиана - {:.2f}\\nДисперсия - {:.2f}\\nstd - {:.2f}'.format(mean_smart, median_smart, dispersion_smart, std_smart)\n",
    "        ultra_data = 'Среднее - {:.2f}\\nМедиана - {:.2f}\\nДисперсия - {:.2f}\\nstd - {:.2f}'.format(mean_ultra, median_ultra, dispersion_ultra, std_ultra)\n",
    "    else:\n",
    "        smart_data = 'Среднее - {:.0f}\\nМедиана - {:.0f}\\nДисперсия - {:.0f}\\nstd - {:.0f}'.format(mean_smart, median_smart, dispersion_smart, std_smart)\n",
    "        ultra_data = 'Среднее - {:.0f}\\nМедиана - {:.0f}\\nДисперсия - {:.0f}\\nstd - {:.0f}'.format(mean_ultra, median_ultra, dispersion_ultra, std_ultra)\n",
    "    \n",
    "    legend_second = plt.legend([smart_data, ultra_data], prop={'size':10.5}, \n",
    "                                framealpha=0, bbox_to_anchor=(1.0,0.32), loc=4)\n",
    "    \n",
    "    \n",
    "    plt.gca().add_artist(legend_second)\n",
    "    \n",
    "    plt.legend(['Смарт', 'Ультра'], prop={'size':12})\n",
    "    ax.text(count_text_x, count_text_y, 'Расчетные данные', fontweight='bold', fontsize='large')"
   ]
  },
  {
   "cell_type": "markdown",
   "metadata": {},
   "source": [
    "Строим гистограммы"
   ]
  },
  {
   "cell_type": "code",
   "execution_count": 65,
   "metadata": {
    "scrolled": false
   },
   "outputs": [
    {
     "data": {
      "image/png": "[encoded data removed]",
      "text/plain": [
       "<Figure size 864x432 with 1 Axes>"
      ]
     },
     "metadata": {
      "needs_background": "light"
     },
     "output_type": "display_data"
    }
   ],
   "source": [
    "plot_hist_comparison('Звонки')"
   ]
  },
  {
   "cell_type": "markdown",
   "metadata": {},
   "source": [
    "Тариф \"Смарт\" - в основном длительность разговоров 240 - 580 минут. При месячном лимите в 500 минут - медиана составляет 421, т.е. пользователи почти полностью проговаривают лимит.   \n",
    "\n",
    "Тариф \"Ультра\" - длительность разговоров этого тарифа почти равномерно распределена по пользователям. При месячном лимите в 3000 минут - медиана составляет 518, т.е. пользователи выговаривают лишь примерно 16% предоставленного лимита."
   ]
  },
  {
   "cell_type": "code",
   "execution_count": 66,
   "metadata": {},
   "outputs": [
    {
     "data": {
      "image/png": "[encoded data removed]",
      "text/plain": [
       "<Figure size 864x432 with 1 Axes>"
      ]
     },
     "metadata": {
      "needs_background": "light"
     },
     "output_type": "display_data"
    }
   ],
   "source": [
    "plot_hist_comparison('Сообщения')"
   ]
  },
  {
   "cell_type": "markdown",
   "metadata": {},
   "source": [
    "Тут ситуация для двух тарифов схожа - абоненты редко отправляют сообщения.   \n",
    "При этом для тарифа смарт пользователи снова автивнее пользуются этой услугой, многие даже превышают предоставленный лимит."
   ]
  },
  {
   "cell_type": "code",
   "execution_count": 67,
   "metadata": {},
   "outputs": [
    {
     "data": {
      "image/png": "[encoded data removed]",
      "text/plain": [
       "<Figure size 864x432 with 1 Axes>"
      ]
     },
     "metadata": {
      "needs_background": "light"
     },
     "output_type": "display_data"
    }
   ],
   "source": [
    "plot_hist_comparison('Интернет')"
   ]
  },
  {
   "cell_type": "markdown",
   "metadata": {},
   "source": [
    "Абоненты \"Смарт\" в среднем в месяц используют от 14 до 20 Гб трафика.   \n",
    "Причем медиана равна 16,5 Гб, что выбивается за предоставляемый лимит в 15 Гб.\n",
    "Абоненты \"Ультра\" больше пользуются интернетом: медиана равна 19 Гб."
   ]
  },
  {
   "cell_type": "markdown",
   "metadata": {},
   "source": [
    "[*к содержанию*](#back)"
   ]
  },
  {
   "cell_type": "markdown",
   "metadata": {},
   "source": [
    "___\n",
    "<a id = 'step_4'></a>\n",
    "### Шаг 4. Проверка гипотез\n",
    "___\n",
    "___"
   ]
  },
  {
   "cell_type": "markdown",
   "metadata": {},
   "source": [
    "___\n",
    "<a id = '4.1.'></a>\n",
    "- **4.1. Средняя выручка абонентов в зависимости от тарифа**"
   ]
  },
  {
   "cell_type": "markdown",
   "metadata": {},
   "source": [
    "**H0 (нулевая гипотеза)** - предположение о том, что между данными у нас нет связи. В данном случае, что средняя выручка абонента \"Смарт\" не отличается от средней выручки абонента \"Ультра\".   \n",
    "**H1 (альтернативная гипотеза)** - средняя выручка абонента \"Смарт\" отличается от средней выручки абонента \"Ультра\"."
   ]
  },
  {
   "cell_type": "markdown",
   "metadata": {},
   "source": [
    "Как и раньше нам сначала требуется отфильтровать данные."
   ]
  },
  {
   "cell_type": "code",
   "execution_count": 68,
   "metadata": {
    "scrolled": false
   },
   "outputs": [
    {
     "name": "stderr",
     "output_type": "stream",
     "text": [
      "/opt/conda/lib/python3.7/site-packages/numpy/core/_asarray.py:83: VisibleDeprecationWarning: Creating an ndarray from ragged nested sequences (which is a list-or-tuple of lists-or-tuples-or ndarrays with different lengths or shapes) is deprecated. If you meant to do this, you must specify 'dtype=object' when creating the ndarray\n",
      "  return array(a, dtype, copy=False, order=order)\n"
     ]
    },
    {
     "data": {
      "text/plain": [
       "Text(0.5, 0.93, 'Boxplot по выручке')"
      ]
     },
     "execution_count": 68,
     "metadata": {},
     "output_type": "execute_result"
    },
    {
     "data": {
      "image/png": "[encoded data removed]",
      "text/plain": [
       "<Figure size 576x504 with 1 Axes>"
      ]
     },
     "metadata": {
      "needs_background": "light"
     },
     "output_type": "display_data"
    }
   ],
   "source": [
    "ax = calculation_data.boxplot(column='monthly_payment', by='tariff', fontsize=12,\n",
    "                                         boxprops=dict(linestyle='-', linewidth=5),\n",
    "                                         medianprops=dict(linestyle='-', linewidth=5),\n",
    "                                         whiskerprops=dict(linestyle='-', linewidth=5),\n",
    "                                         capprops=dict(linestyle='-', linewidth=5),\n",
    "                                         notch=True, figsize=(8,7))\n",
    "ax.set_title('')\n",
    "ax.title.set_size(40)\n",
    "ax.set_xlabel('')\n",
    "plt.suptitle('Boxplot по выручке', y=0.93, fontsize=16, fontweight='bold')"
   ]
  },
  {
   "cell_type": "code",
   "execution_count": 69,
   "metadata": {},
   "outputs": [
    {
     "name": "stdout",
     "output_type": "stream",
     "text": [
      "Границы интервала для столбца \"monthly_payment\" тарифа \"Смарт\": 0.0 - 3550.0\n",
      "Границы интервала для столбца \"monthly_payment\" тарифа \"Ультра\": 1950.0 - 1950.0\n"
     ]
    }
   ],
   "source": [
    "revenue_int_smart, revenue_int_ultra = get_intervals('monthly_payment', 'tariff')"
   ]
  },
  {
   "cell_type": "code",
   "execution_count": 70,
   "metadata": {},
   "outputs": [],
   "source": [
    "smart_mean_revenue = calculation_data[(calculation_data['tariff'] == 'smart') &\n",
    "                                      (calculation_data['monthly_payment'] >= revenue_int_smart[0]) &\n",
    "                                      (calculation_data['monthly_payment'] <= revenue_int_smart[1])]['monthly_payment']\n",
    "\n",
    "ultra_mean_revenue = calculation_data[(calculation_data['tariff'] == 'ultra') &\n",
    "                                      (calculation_data['monthly_payment'] >= revenue_int_ultra[0]) &\n",
    "                                      (calculation_data['monthly_payment'] <= revenue_int_ultra[1])]['monthly_payment']"
   ]
  },
  {
   "cell_type": "markdown",
   "metadata": {},
   "source": [
    "Рассчитаем p-value.   \n",
    "Используем ttest_ind, так как работаем с независимыми выборками."
   ]
  },
  {
   "cell_type": "code",
   "execution_count": 71,
   "metadata": {},
   "outputs": [],
   "source": [
    "from scipy.stats import ttest_ind"
   ]
  },
  {
   "cell_type": "code",
   "execution_count": 72,
   "metadata": {
    "scrolled": true
   },
   "outputs": [
    {
     "name": "stdout",
     "output_type": "stream",
     "text": [
      "t = -27.93259650896307\n",
      "p-value = 4.6244593529e-153\n",
      "\n",
      "alpha = 0.05\n"
     ]
    }
   ],
   "source": [
    "stat, p = ttest_ind(smart_mean_revenue, ultra_mean_revenue)\n",
    "print('t = {}\\np-value = {:.10e}'.format(stat, p))\n",
    "print('\\nalpha = 0.05')"
   ]
  },
  {
   "cell_type": "markdown",
   "metadata": {},
   "source": [
    "Отвергаем нулевую гипотезу.   \n",
    "Верно утверждение, что средняя выручка абонентов рассматриваемых тарифов отличаются."
   ]
  },
  {
   "cell_type": "code",
   "execution_count": 73,
   "metadata": {},
   "outputs": [
    {
     "name": "stdout",
     "output_type": "stream",
     "text": [
      "Средняя выручка с  абонентов \"Смарт\" в месяц - 1249.74\n",
      "Средняя выручка с абонентов \"Ультра\" в месяц - 1950.00\n"
     ]
    }
   ],
   "source": [
    "print('Средняя выручка с  абонентов \"Смарт\" в месяц - {:.2f}'.format(smart_mean_revenue.mean()))\n",
    "print('Средняя выручка с абонентов \"Ультра\" в месяц - {:.2f}'.format(ultra_mean_revenue.mean()))"
   ]
  },
  {
   "cell_type": "markdown",
   "metadata": {},
   "source": [
    "Что и логично, при том, что абонентская плата \"Ультра\" больше чем в три раза дороже. Даже то, что абоненты \"Смарт\" чаще дозаказывают услуги позволяет им лучше контролировать свои расходы в зависимости от потребностей."
   ]
  },
  {
   "cell_type": "markdown",
   "metadata": {},
   "source": [
    "[*к содержанию*](#back)"
   ]
  },
  {
   "cell_type": "markdown",
   "metadata": {},
   "source": [
    "___\n",
    "<a id = '4.2.'></a>\n",
    "- **4.2. Средняя выручка абонентов в зависимости от региона**"
   ]
  },
  {
   "cell_type": "markdown",
   "metadata": {},
   "source": [
    "**H0 (нулевая гипотеза)** - предположение о том, что между данными у нас нет связи. В данном случае, что средняя выручка абонентов не зависит от региона.   \n",
    "**H1 (альтернативная гипотеза)** - средняя выручка пользователей из Москвы отличается от выручки пользователей из других регионов."
   ]
  },
  {
   "cell_type": "markdown",
   "metadata": {},
   "source": [
    "Посчитаем среднюю месячную выручку по Москве и по остальным регионам.   \n",
    "Категорезируем данные: Москва (0) или регион (1)."
   ]
  },
  {
   "cell_type": "code",
   "execution_count": 74,
   "metadata": {},
   "outputs": [],
   "source": [
    "calculation_data['is_Moscow'] = np.where(calculation_data['city'] == 'Москва', 1, 0)"
   ]
  },
  {
   "cell_type": "code",
   "execution_count": 75,
   "metadata": {},
   "outputs": [
    {
     "data": {
      "text/html": [
       "<div>\n",
       "<style scoped>\n",
       "    .dataframe tbody tr th:only-of-type {\n",
       "        vertical-align: middle;\n",
       "    }\n",
       "\n",
       "    .dataframe tbody tr th {\n",
       "        vertical-align: top;\n",
       "    }\n",
       "\n",
       "    .dataframe thead th {\n",
       "        text-align: right;\n",
       "    }\n",
       "</style>\n",
       "<table border=\"1\" class=\"dataframe\">\n",
       "  <thead>\n",
       "    <tr style=\"text-align: right;\">\n",
       "      <th></th>\n",
       "      <th>user_id</th>\n",
       "      <th>month</th>\n",
       "      <th>calls_count</th>\n",
       "      <th>calls_duration</th>\n",
       "      <th>messages_count</th>\n",
       "      <th>traffic</th>\n",
       "      <th>tariff</th>\n",
       "      <th>city</th>\n",
       "      <th>tariff_cost</th>\n",
       "      <th>minutes_overrun</th>\n",
       "      <th>messages_overrun</th>\n",
       "      <th>traffic_overrun</th>\n",
       "      <th>payment_over_the_limit</th>\n",
       "      <th>monthly_payment</th>\n",
       "      <th>over_limits</th>\n",
       "      <th>is_Moscow</th>\n",
       "    </tr>\n",
       "  </thead>\n",
       "  <tbody>\n",
       "    <tr>\n",
       "      <td>0</td>\n",
       "      <td>1000</td>\n",
       "      <td>5</td>\n",
       "      <td>17.0</td>\n",
       "      <td>159.0</td>\n",
       "      <td>22.0</td>\n",
       "      <td>2256.0</td>\n",
       "      <td>ultra</td>\n",
       "      <td>Краснодар</td>\n",
       "      <td>1950</td>\n",
       "      <td>0.0</td>\n",
       "      <td>0</td>\n",
       "      <td>0.0</td>\n",
       "      <td>0</td>\n",
       "      <td>1950</td>\n",
       "      <td>0</td>\n",
       "      <td>0</td>\n",
       "    </tr>\n",
       "    <tr>\n",
       "      <td>1</td>\n",
       "      <td>1000</td>\n",
       "      <td>6</td>\n",
       "      <td>28.0</td>\n",
       "      <td>172.0</td>\n",
       "      <td>60.0</td>\n",
       "      <td>23257.0</td>\n",
       "      <td>ultra</td>\n",
       "      <td>Краснодар</td>\n",
       "      <td>1950</td>\n",
       "      <td>0.0</td>\n",
       "      <td>0</td>\n",
       "      <td>0.0</td>\n",
       "      <td>0</td>\n",
       "      <td>1950</td>\n",
       "      <td>0</td>\n",
       "      <td>0</td>\n",
       "    </tr>\n",
       "    <tr>\n",
       "      <td>2</td>\n",
       "      <td>1000</td>\n",
       "      <td>7</td>\n",
       "      <td>41.0</td>\n",
       "      <td>340.0</td>\n",
       "      <td>75.0</td>\n",
       "      <td>14016.0</td>\n",
       "      <td>ultra</td>\n",
       "      <td>Краснодар</td>\n",
       "      <td>1950</td>\n",
       "      <td>0.0</td>\n",
       "      <td>0</td>\n",
       "      <td>0.0</td>\n",
       "      <td>0</td>\n",
       "      <td>1950</td>\n",
       "      <td>0</td>\n",
       "      <td>0</td>\n",
       "    </tr>\n",
       "    <tr>\n",
       "      <td>3</td>\n",
       "      <td>1000</td>\n",
       "      <td>8</td>\n",
       "      <td>42.0</td>\n",
       "      <td>408.0</td>\n",
       "      <td>81.0</td>\n",
       "      <td>14070.0</td>\n",
       "      <td>ultra</td>\n",
       "      <td>Краснодар</td>\n",
       "      <td>1950</td>\n",
       "      <td>0.0</td>\n",
       "      <td>0</td>\n",
       "      <td>0.0</td>\n",
       "      <td>0</td>\n",
       "      <td>1950</td>\n",
       "      <td>0</td>\n",
       "      <td>0</td>\n",
       "    </tr>\n",
       "    <tr>\n",
       "      <td>4</td>\n",
       "      <td>1000</td>\n",
       "      <td>9</td>\n",
       "      <td>46.0</td>\n",
       "      <td>466.0</td>\n",
       "      <td>57.0</td>\n",
       "      <td>14581.0</td>\n",
       "      <td>ultra</td>\n",
       "      <td>Краснодар</td>\n",
       "      <td>1950</td>\n",
       "      <td>0.0</td>\n",
       "      <td>0</td>\n",
       "      <td>0.0</td>\n",
       "      <td>0</td>\n",
       "      <td>1950</td>\n",
       "      <td>0</td>\n",
       "      <td>0</td>\n",
       "    </tr>\n",
       "  </tbody>\n",
       "</table>\n",
       "</div>"
      ],
      "text/plain": [
       "   user_id  month  calls_count  calls_duration  messages_count  traffic  \\\n",
       "0     1000      5         17.0           159.0            22.0   2256.0   \n",
       "1     1000      6         28.0           172.0            60.0  23257.0   \n",
       "2     1000      7         41.0           340.0            75.0  14016.0   \n",
       "3     1000      8         42.0           408.0            81.0  14070.0   \n",
       "4     1000      9         46.0           466.0            57.0  14581.0   \n",
       "\n",
       "  tariff       city  tariff_cost  minutes_overrun  messages_overrun  \\\n",
       "0  ultra  Краснодар         1950              0.0                 0   \n",
       "1  ultra  Краснодар         1950              0.0                 0   \n",
       "2  ultra  Краснодар         1950              0.0                 0   \n",
       "3  ultra  Краснодар         1950              0.0                 0   \n",
       "4  ultra  Краснодар         1950              0.0                 0   \n",
       "\n",
       "   traffic_overrun  payment_over_the_limit  monthly_payment  over_limits  \\\n",
       "0              0.0                       0             1950            0   \n",
       "1              0.0                       0             1950            0   \n",
       "2              0.0                       0             1950            0   \n",
       "3              0.0                       0             1950            0   \n",
       "4              0.0                       0             1950            0   \n",
       "\n",
       "   is_Moscow  \n",
       "0          0  \n",
       "1          0  \n",
       "2          0  \n",
       "3          0  \n",
       "4          0  "
      ]
     },
     "metadata": {},
     "output_type": "display_data"
    }
   ],
   "source": [
    "display(calculation_data.head())"
   ]
  },
  {
   "cell_type": "markdown",
   "metadata": {},
   "source": [
    "Как и раньше нам сначала требуется отфильтровать данные."
   ]
  },
  {
   "cell_type": "code",
   "execution_count": 76,
   "metadata": {},
   "outputs": [
    {
     "name": "stderr",
     "output_type": "stream",
     "text": [
      "/opt/conda/lib/python3.7/site-packages/numpy/core/_asarray.py:83: VisibleDeprecationWarning: Creating an ndarray from ragged nested sequences (which is a list-or-tuple of lists-or-tuples-or ndarrays with different lengths or shapes) is deprecated. If you meant to do this, you must specify 'dtype=object' when creating the ndarray\n",
      "  return array(a, dtype, copy=False, order=order)\n"
     ]
    },
    {
     "data": {
      "image/png": "[encoded data removed]",
      "text/plain": [
       "<Figure size 576x504 with 1 Axes>"
      ]
     },
     "metadata": {
      "needs_background": "light"
     },
     "output_type": "display_data"
    }
   ],
   "source": [
    "ax = calculation_data.boxplot(column='monthly_payment', by='is_Moscow', fontsize=12,\n",
    "                                         boxprops=dict(linestyle='-', linewidth=5),\n",
    "                                         medianprops=dict(linestyle='-', linewidth=5),\n",
    "                                         whiskerprops=dict(linestyle='-', linewidth=5),\n",
    "                                         capprops=dict(linestyle='-', linewidth=5),\n",
    "                                         notch=True, figsize=(8,7))\n",
    "\n",
    "\n",
    "\n",
    "labels = [item.get_text() for item in ax.get_xticklabels()]\n",
    "\n",
    "labels[0] = 'Регионы'\n",
    "labels[1] = 'Москва'\n",
    "\n",
    "ax.set_xticklabels(labels)\n",
    "\n",
    "plt.suptitle('Boxplot по выручке', y=0.95, fontsize=16, fontweight='bold')\n",
    "\n",
    "ax.set_xlabel('')\n",
    "ax.set_title('')\n",
    "ax.title.set_size(40)"
   ]
  },
  {
   "cell_type": "code",
   "execution_count": 77,
   "metadata": {},
   "outputs": [
    {
     "name": "stdout",
     "output_type": "stream",
     "text": [
      "Границы интервала для столбца \"monthly_payment\" для регионов: 550.0 - 3750.0\n",
      "Границы интервала для столбца \"monthly_payment\" для Москвы: 550.0 - 3678.0\n"
     ]
    }
   ],
   "source": [
    "revenue_int_smart, revenue_int_ultra = get_intervals('monthly_payment', 'is_Moscow')"
   ]
  },
  {
   "cell_type": "code",
   "execution_count": 78,
   "metadata": {},
   "outputs": [],
   "source": [
    "\n",
    "moscow_revenue = calculation_data[(calculation_data['city'] == 'Москва') &\n",
    "                                  (calculation_data['monthly_payment'] >= revenue_int_smart[0]) &\n",
    "                                  (calculation_data['monthly_payment'] <= revenue_int_smart[1])]['monthly_payment']\n",
    "\n",
    "regions_revenue = calculation_data[(calculation_data['city'] != 'Москва') &\n",
    "                                  (calculation_data['monthly_payment'] >= revenue_int_ultra[0]) &\n",
    "                                  (calculation_data['monthly_payment'] <= revenue_int_ultra[1])]['monthly_payment']"
   ]
  },
  {
   "cell_type": "markdown",
   "metadata": {},
   "source": [
    "Рассчитаем p-value.\n",
    "Используем ttest_ind, так как работаем с независимыми выборками."
   ]
  },
  {
   "cell_type": "code",
   "execution_count": 79,
   "metadata": {},
   "outputs": [
    {
     "name": "stdout",
     "output_type": "stream",
     "text": [
      "t = 1.49291699198228\n",
      "p-value = 0.14\n",
      "\n",
      "alpha = 0.05\n"
     ]
    }
   ],
   "source": [
    "stat, p = ttest_ind(moscow_revenue, regions_revenue)\n",
    "print('t = {}\\np-value = {:.2}'.format(stat, p))\n",
    "print('\\nalpha = 0.05')"
   ]
  },
  {
   "cell_type": "markdown",
   "metadata": {},
   "source": [
    "Нулевую гипотезу отвергнуть не получается.\n",
    "Cредняя выручка пользователей из Москвы не отличается от выручки пользователей из других регионов."
   ]
  },
  {
   "cell_type": "code",
   "execution_count": 80,
   "metadata": {
    "scrolled": true
   },
   "outputs": [
    {
     "name": "stdout",
     "output_type": "stream",
     "text": [
      "Средняя выручка с абонента в в месяц в Москве: 1532.38\n",
      "Средняя выручка с абонента в месяц в регионах: 1483.28\n"
     ]
    }
   ],
   "source": [
    "print('Средняя выручка с абонента в в месяц в Москве: {:.2f}'.format(moscow_revenue.mean()))\n",
    "print('Средняя выручка с абонента в месяц в регионах: {:.2f}'.format(regions_revenue.mean()))"
   ]
  },
  {
   "cell_type": "markdown",
   "metadata": {},
   "source": [
    "Стоит отметить, что этот показатель может поменяться. Так как тарифы новые и не так много абонентов к ним подключено. Возможно через несколько лет эти тарифы либо останутся популярными только в Москве, или только в регионах, или один будет популярен в Москве, другой - в регионах. В общем это тот показатель, за которым следует пристально следить."
   ]
  },
  {
   "cell_type": "markdown",
   "metadata": {},
   "source": [
    "[*к содержанию*](#back)"
   ]
  },
  {
   "cell_type": "markdown",
   "metadata": {},
   "source": [
    "___\n",
    "<a id = 'step_5'></a>\n",
    "### Шаг 5. Общий вывод\n",
    "___\n",
    "___"
   ]
  },
  {
   "cell_type": "markdown",
   "metadata": {},
   "source": [
    "Тариф \"Смарт\" за отчетный период:\n",
    " - принес большую выручку;\n",
    " - имеет больше абонентов;\n",
    " - имеет меньшую ежемесячную выручку;\n",
    " - имеет больше превышений лимитов, установленных тарифом (по каждой услуге)."
   ]
  },
  {
   "cell_type": "markdown",
   "metadata": {},
   "source": [
    "Тариф \"Ультра\" за отчетный период:\n",
    " - принес меньшую выручку;\n",
    " - имеет меньше абонентов;\n",
    " - имеет большую ежемесячную выручку;\n",
    " - имеет меньшее превышений лимитов, установленных тарифом (при этом превышаются лимиты только интернет-трафика)."
   ]
  },
  {
   "cell_type": "markdown",
   "metadata": {},
   "source": [
    "Скорее всего за счет большой разницы в абонентской плате, и условиями не коррелирующими с потребностями среднего абонента средняя выручка абонентов каждого тарифа отличается.\n",
    "За год существования тарифов число абонентов не успело сильно вырасти и распространиться по России. Скорее всего за счет этого средняя выручка с пользователя Москвы не отличается от средней выручки пользователя региона. За этим параметром неоходимо пристально следить, так как он будет значительно меняться во времени существования тарифов."
   ]
  },
  {
   "cell_type": "markdown",
   "metadata": {},
   "source": [
    "В идеале \"Мегалайн\" должен объеденить сильные стороны каждого тарифа и отсечь слабые, создав некий промежуточный тариф.   \n",
    "Например создать тариф с лимитами по минутам разговора и сообщениям тарифа \"Смарт\" и интернет пакетом тарифа \"Ультра\".\n",
    "Средний пользователь тарифа \"Смарт\" дозаказывает 2 Гб интернета на 400 рублей, т.н. абонентскую плату нового тарифа можно установить в 950 рублей."
   ]
  },
  {
   "cell_type": "code",
   "execution_count": null,
   "metadata": {},
   "outputs": [],
   "source": []
  }
 ],
 "metadata": {
  "ExecuteTimeLog": [
   {
    "duration": 776,
    "start_time": "2023-02-13T15:02:46.789Z"
   },
   {
    "duration": 887,
    "start_time": "2023-02-13T15:02:48.621Z"
   },
   {
    "duration": 89,
    "start_time": "2023-02-13T15:03:49.741Z"
   },
   {
    "duration": 68,
    "start_time": "2023-02-13T15:08:11.940Z"
   },
   {
    "duration": 106,
    "start_time": "2023-02-13T15:08:16.620Z"
   },
   {
    "duration": 11,
    "start_time": "2023-02-13T15:08:51.419Z"
   },
   {
    "duration": 16,
    "start_time": "2023-02-13T15:09:03.610Z"
   },
   {
    "duration": 2,
    "start_time": "2023-02-13T15:10:37.594Z"
   },
   {
    "duration": 95,
    "start_time": "2023-02-13T15:10:38.218Z"
   },
   {
    "duration": 3,
    "start_time": "2023-02-13T15:26:50.599Z"
   },
   {
    "duration": 4,
    "start_time": "2023-02-13T15:26:54.380Z"
   },
   {
    "duration": 418,
    "start_time": "2023-02-13T15:26:54.949Z"
   },
   {
    "duration": 618,
    "start_time": "2023-02-13T15:26:55.790Z"
   },
   {
    "duration": 41,
    "start_time": "2023-02-13T15:27:11.946Z"
   },
   {
    "duration": 53,
    "start_time": "2023-02-13T15:27:18.413Z"
   },
   {
    "duration": 97,
    "start_time": "2023-02-13T15:27:29.641Z"
   }
  ],
  "kernelspec": {
   "display_name": "Python 3 (ipykernel)",
   "language": "python",
   "name": "python3"
  },
  "language_info": {
   "codemirror_mode": {
    "name": "ipython",
    "version": 3
   },
   "file_extension": ".py",
   "mimetype": "text/x-python",
   "name": "python",
   "nbconvert_exporter": "python",
   "pygments_lexer": "ipython3",
   "version": "3.9.5"
  },
  "toc": {
   "base_numbering": 1,
   "nav_menu": {},
   "number_sections": true,
   "sideBar": true,
   "skip_h1_title": true,
   "title_cell": "Table of Contents",
   "title_sidebar": "Contents",
   "toc_cell": false,
   "toc_position": {},
   "toc_section_display": true,
   "toc_window_display": false
  }
 },
 "nbformat": 4,
 "nbformat_minor": 2
}
