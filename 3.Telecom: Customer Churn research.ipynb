{
 "cells": [
  {
   "cell_type": "markdown",
   "metadata": {},
   "source": [
    "# <center>Телеком: исследование оттока клиентов</center>\n",
    "___\n",
    "___"
   ]
  },
  {
   "cell_type": "markdown",
   "metadata": {},
   "source": [
    "# <center>Описание задачи</center>\n",
    "\n",
    "Оператор связи «Ниединогоразрыва.ком» хочет научиться прогнозировать отток клиентов. Если выяснится, что пользователь планирует уйти, ему будут предложены промокоды и специальные условия. Команда оператора собрала персональные данные о некоторых клиентах, информацию об их тарифах и договорах.\n",
    "\n",
    "### Описание услуг\n",
    "\n",
    "Оператор предоставляет два основных типа услуг: \n",
    "\n",
    "1. Стационарную телефонную связь. Возможно подключение телефонного аппарата к нескольким линиям одновременно.\n",
    "2. Интернет. Подключение может быть двух типов: через телефонную линию (DSL*,* от англ. *digital subscriber line*, «цифровая абонентская линия») или оптоволоконный кабель (*Fiber optic*).  \n",
    "\n",
    "Также доступны такие услуги:\n",
    "\n",
    "- Интернет-безопасность: антивирус (*DeviceProtection*) и блокировка небезопасных сайтов (*OnlineSecurity*);\n",
    "- Выделенная линия технической поддержки (*TechSupport*);\n",
    "- Облачное хранилище файлов для резервного копирования данных (*OnlineBackup*);\n",
    "- Стриминговое телевидение (*StreamingTV*) и каталог фильмов (*StreamingMovies*).\n",
    "\n",
    "За услуги клиенты могут платить каждый месяц или заключить договор на 1–2 года. Доступны различные способы расчёта и возможность получения электронного чека.\n",
    "\n",
    "Информация о договорах актуальна на 1 февраля 2020.\n",
    "\n",
    "Целевой признак: столбец `'EndDate'` равен `'No'`.\n",
    "\n",
    "Основная метрика: AUC-ROC.\n",
    "\n",
    "Дополнительная метрика: Accuracy.\n",
    "\n",
    "Критерии оценки:\n",
    "\n",
    "- AUC-ROC < 0.75 — 0 sp\n",
    "- 0.75 ≤ AUC-ROC < 0.81 — 4 sp\n",
    "- 0.81 ≤ AUC-ROC < 0.85 — 4.5 sp\n",
    "- 0.85 ≤ AUC-ROC < 0.87 — 5 sp\n",
    "- 0.87 ≤ AUC-ROC < 0.88 — 5.5 sp\n",
    "- AUC-ROC ≥ 0.88 — 6 sp\n",
    "\n",
    "___\n",
    "___"
   ]
  },
  {
   "cell_type": "markdown",
   "metadata": {},
   "source": [
    "# <center>Описание данных</center>\n",
    "\n",
    "Данные представлены в четырёх csv-файлах:   \n",
    "\n",
    "1. `contract` - информация о договоре:   \n",
    "\n",
    "\n",
    "\n",
    "2. `internet` - информация об интернет-услугах:   \n",
    "\n",
    "\n",
    "\n",
    "3. `personal` - персональные данные клиента:   \n",
    "\n",
    "\n",
    "\n",
    "4. `phone` - информация об услугах телефонии:   \n",
    "\n",
    "\n",
    "Во всех файлах столбец customerID содержит код клиента.\n",
    "Информация о договорах актуальна на 1 февраля 2020.\n",
    "___\n",
    "___"
   ]
  },
  {
   "cell_type": "markdown",
   "metadata": {},
   "source": [
    "<a id = 'back'></a>\n",
    "# <center>Содержание</center>\n",
    "\n",
    "[1. Подготовка данных.](#Chapter_1)   \n",
    "   \n",
    "[2. Работа с моделями.](#Chapter_2)   \n",
    "   - [2.1. CatBoost](#2.1)\n",
    "   - [2.2. RandomForestClassifier](#2.2)   \n",
    "\n",
    "[3. Выводы](#Conclusions)\n",
    "___\n",
    "___"
   ]
  },
  {
   "cell_type": "markdown",
   "metadata": {},
   "source": [
    "# <center>Ход работы</center>"
   ]
  },
  {
   "cell_type": "markdown",
   "metadata": {},
   "source": [
    "### Импортируем необходимые библиотеки"
   ]
  },
  {
   "cell_type": "code",
   "execution_count": 1,
   "metadata": {},
   "outputs": [],
   "source": [
    "#!pip install pandas_profiling"
   ]
  },
  {
   "cell_type": "code",
   "execution_count": 2,
   "metadata": {},
   "outputs": [],
   "source": [
    "import pandas as pd\n",
    "import matplotlib.pyplot as plt\n",
    "import seaborn as sns\n",
    "#import pandas_profiling\n",
    "from sklearn.model_selection import train_test_split, GridSearchCV\n",
    "from catboost import CatBoostClassifier\n",
    "from sklearn.metrics import roc_auc_score, accuracy_score, roc_curve\n",
    "from sklearn.utils import shuffle\n",
    "from sklearn.ensemble import RandomForestClassifier\n",
    "from sklearn.preprocessing import OrdinalEncoder\n",
    "import datetime"
   ]
  },
  {
   "cell_type": "markdown",
   "metadata": {},
   "source": [
    "<a id = 'Chapter_1'></a>\n",
    "# 1. Подготовка данных.\n",
    "___"
   ]
  },
  {
   "cell_type": "markdown",
   "metadata": {},
   "source": [
    "Исследовательский анализ данных был выполнен в предыдущей работе. По его результатам особой предобработки данных не требуется, так что далее просто приведем данные к виду, который можно скормить ML-моделям. Перед нами стоит задача классификации, поехали."
   ]
  },
  {
   "cell_type": "markdown",
   "metadata": {},
   "source": [
    "Загрузка данных."
   ]
  },
  {
   "cell_type": "markdown",
   "metadata": {},
   "source": [
    "contract = pd.read_csv('contract.csv')\n",
    "personal = pd.read_csv('personal.csv')\n",
    "internet = pd.read_csv('internet.csv')\n",
    "phone = pd.read_csv('phone.csv')\n",
    "print(contract)"
   ]
  },
  {
   "cell_type": "code",
   "execution_count": 3,
   "metadata": {},
   "outputs": [],
   "source": [
    "contract = pd.read_csv('/datasets/final_provider/contract.csv')\n",
    "internet = pd.read_csv('/datasets/final_provider/internet.csv')\n",
    "personal = pd.read_csv('/datasets/final_provider/personal.csv')\n",
    "phone = pd.read_csv('/datasets/final_provider/phone.csv')\n",
    "ACTUAL_DATE = datetime.date(2020, 2, 1)"
   ]
  },
  {
   "cell_type": "markdown",
   "metadata": {},
   "source": [
    "Перед объединением таблиц добавим в датафреймы `internet` и `phone` колонки, служащие индикатором того, является ли клиент пользователем интернета или телефона. После добавления объединим в один датафрейм и изучим его средствами 'pandas_profiling'."
   ]
  },
  {
   "cell_type": "code",
   "execution_count": 4,
   "metadata": {
    "scrolled": true
   },
   "outputs": [
    {
     "name": "stdout",
     "output_type": "stream",
     "text": [
      "0         31\n",
      "1       1036\n",
      "2         61\n",
      "3       1371\n",
      "4         61\n",
      "        ... \n",
      "7038     730\n",
      "7039    2191\n",
      "7040     337\n",
      "7041     123\n",
      "7042    2010\n",
      "Name: duration, Length: 7043, dtype: int64\n"
     ]
    }
   ],
   "source": [
    "internet['internet'] = 'Yes'\n",
    "phone['phone'] = 'Yes'\n",
    "full_data = personal.merge(contract, on = 'customerID', how = 'outer').merge(internet, on = 'customerID', how = 'outer').merge(phone, on = 'customerID', how = 'outer')\n",
    "full_data.fillna(value = 'No', inplace = True)\n",
    "full_data['TotalCharges'] = full_data['TotalCharges'].str.replace(' ','0.0')\n",
    "full_data['TotalCharges'] = pd.to_numeric(full_data['TotalCharges'])\n",
    "full_data['EndDate'] = full_data['EndDate'].replace('No', ACTUAL_DATE)\n",
    "full_data['EndDate'] = pd.to_datetime(full_data['EndDate'], format = \"%Y-%m-%d\")\n",
    "full_data['BeginDate'] = pd.to_datetime(full_data['BeginDate'], format = \"%Y-%m-%d\")\n",
    "full_data['duration'] = (full_data['EndDate'] - full_data['BeginDate']).dt.days\n",
    "print(full_data['duration'])\n",
    "#pandas_profiling.ProfileReport(full_data)"
   ]
  },
  {
   "cell_type": "markdown",
   "metadata": {},
   "source": [
    "`Pandas-profiling` позволяет получить достаточно информации о данных, чтобы понять основы подготовки их к принятию ML-моделью.   \n",
    "В частности сначала мы:   \n",
    "- избавимся от признаков `customerID` и `gender` (с  первым все понятно - столбец полностью из уникальных значений, `gender` же, во-первых, не коррелирует ни с какими другими данными, во-вторых, информация из будущего - наличие этого столбца немного ухудшает качество предсказаний рассмотренных моделей);   \n",
    "- избавимся от признака `BeginDate`, оставим от него только год;   \n",
    "- признаки с типом `boolean` заменим на числовой тип (CatBoost не съест этот признак, даже если указать его как категориальный);   \n",
    "- из признака `EndDate` (целевой) сделаем категориальный - вместо `No` - 1, вместо даты - 0 (клиент ушёл);"
   ]
  },
  {
   "cell_type": "code",
   "execution_count": 5,
   "metadata": {},
   "outputs": [],
   "source": [
    "usefull_data = full_data.drop(['customerID', 'gender', 'SeniorCitizen', 'Partner'], axis = 1)"
   ]
  },
  {
   "cell_type": "code",
   "execution_count": 6,
   "metadata": {},
   "outputs": [],
   "source": [
    "#usefull_data = full_data.drop(['customerID', 'gender'], axis = 1)\n",
    "#usefull_data['startYear'] = pd.DatetimeIndex(usefull_data['BeginDate']).year\n",
    "usefull_data.drop(['BeginDate'], axis = 1, inplace = True)\n",
    "usefull_data['isClient'] = usefull_data['EndDate'].apply(lambda x: 1 if x == ACTUAL_DATE else 0)\n",
    "usefull_data.drop(['EndDate'], axis = 1, inplace = True)\n",
    "#usefull_data['Partner'] = usefull_data['Partner'].apply(lambda x: 1 if x == 'Yes' else 0)\n",
    "usefull_data['Dependents'] = usefull_data['Dependents'].apply(lambda x: 1 if x == 'Yes' else 0)\n",
    "#usefull_data['SeniorCitizen'] = usefull_data['SeniorCitizen'].apply(lambda x: 1 if x == 'Yes' else 0)\n",
    "usefull_data['PaperlessBilling'] = usefull_data['PaperlessBilling'].apply(lambda x: 1 if x == 'Yes' else 0)"
   ]
  },
  {
   "cell_type": "code",
   "execution_count": 7,
   "metadata": {},
   "outputs": [
    {
     "data": {
      "text/html": [
       "<div>\n",
       "<style scoped>\n",
       "    .dataframe tbody tr th:only-of-type {\n",
       "        vertical-align: middle;\n",
       "    }\n",
       "\n",
       "    .dataframe tbody tr th {\n",
       "        vertical-align: top;\n",
       "    }\n",
       "\n",
       "    .dataframe thead th {\n",
       "        text-align: right;\n",
       "    }\n",
       "</style>\n",
       "<table border=\"1\" class=\"dataframe\">\n",
       "  <thead>\n",
       "    <tr style=\"text-align: right;\">\n",
       "      <th></th>\n",
       "      <th>Dependents</th>\n",
       "      <th>Type</th>\n",
       "      <th>PaperlessBilling</th>\n",
       "      <th>PaymentMethod</th>\n",
       "      <th>MonthlyCharges</th>\n",
       "      <th>TotalCharges</th>\n",
       "      <th>InternetService</th>\n",
       "      <th>OnlineSecurity</th>\n",
       "      <th>OnlineBackup</th>\n",
       "      <th>DeviceProtection</th>\n",
       "      <th>TechSupport</th>\n",
       "      <th>StreamingTV</th>\n",
       "      <th>StreamingMovies</th>\n",
       "      <th>internet</th>\n",
       "      <th>MultipleLines</th>\n",
       "      <th>phone</th>\n",
       "      <th>duration</th>\n",
       "      <th>isClient</th>\n",
       "    </tr>\n",
       "  </thead>\n",
       "  <tbody>\n",
       "    <tr>\n",
       "      <td>0</td>\n",
       "      <td>0</td>\n",
       "      <td>Month-to-month</td>\n",
       "      <td>1</td>\n",
       "      <td>Electronic check</td>\n",
       "      <td>29.85</td>\n",
       "      <td>29.85</td>\n",
       "      <td>DSL</td>\n",
       "      <td>No</td>\n",
       "      <td>Yes</td>\n",
       "      <td>No</td>\n",
       "      <td>No</td>\n",
       "      <td>No</td>\n",
       "      <td>No</td>\n",
       "      <td>Yes</td>\n",
       "      <td>No</td>\n",
       "      <td>No</td>\n",
       "      <td>31</td>\n",
       "      <td>1</td>\n",
       "    </tr>\n",
       "    <tr>\n",
       "      <td>1</td>\n",
       "      <td>0</td>\n",
       "      <td>One year</td>\n",
       "      <td>0</td>\n",
       "      <td>Mailed check</td>\n",
       "      <td>56.95</td>\n",
       "      <td>1889.50</td>\n",
       "      <td>DSL</td>\n",
       "      <td>Yes</td>\n",
       "      <td>No</td>\n",
       "      <td>Yes</td>\n",
       "      <td>No</td>\n",
       "      <td>No</td>\n",
       "      <td>No</td>\n",
       "      <td>Yes</td>\n",
       "      <td>No</td>\n",
       "      <td>Yes</td>\n",
       "      <td>1036</td>\n",
       "      <td>1</td>\n",
       "    </tr>\n",
       "    <tr>\n",
       "      <td>2</td>\n",
       "      <td>0</td>\n",
       "      <td>Month-to-month</td>\n",
       "      <td>1</td>\n",
       "      <td>Mailed check</td>\n",
       "      <td>53.85</td>\n",
       "      <td>108.15</td>\n",
       "      <td>DSL</td>\n",
       "      <td>Yes</td>\n",
       "      <td>Yes</td>\n",
       "      <td>No</td>\n",
       "      <td>No</td>\n",
       "      <td>No</td>\n",
       "      <td>No</td>\n",
       "      <td>Yes</td>\n",
       "      <td>No</td>\n",
       "      <td>Yes</td>\n",
       "      <td>61</td>\n",
       "      <td>0</td>\n",
       "    </tr>\n",
       "  </tbody>\n",
       "</table>\n",
       "</div>"
      ],
      "text/plain": [
       "   Dependents            Type  PaperlessBilling     PaymentMethod  \\\n",
       "0           0  Month-to-month                 1  Electronic check   \n",
       "1           0        One year                 0      Mailed check   \n",
       "2           0  Month-to-month                 1      Mailed check   \n",
       "\n",
       "   MonthlyCharges  TotalCharges InternetService OnlineSecurity OnlineBackup  \\\n",
       "0           29.85         29.85             DSL             No          Yes   \n",
       "1           56.95       1889.50             DSL            Yes           No   \n",
       "2           53.85        108.15             DSL            Yes          Yes   \n",
       "\n",
       "  DeviceProtection TechSupport StreamingTV StreamingMovies internet  \\\n",
       "0               No          No          No              No      Yes   \n",
       "1              Yes          No          No              No      Yes   \n",
       "2               No          No          No              No      Yes   \n",
       "\n",
       "  MultipleLines phone  duration  isClient  \n",
       "0            No    No        31         1  \n",
       "1            No   Yes      1036         1  \n",
       "2            No   Yes        61         0  "
      ]
     },
     "execution_count": 7,
     "metadata": {},
     "output_type": "execute_result"
    }
   ],
   "source": [
    "usefull_data.head(3)"
   ]
  },
  {
   "cell_type": "markdown",
   "metadata": {},
   "source": [
    "Мы рассмотрим две модели: `CatBoost` и `RandomForestClassifier` (далее по тексту `rfc`). Следовательно подготовленные выше данные с категориальными признаками `CatBoost` съест и попросит ещё, а для `rfc` данные необходимо преобразовать, мы будем использовать `OrdinalEncoder`."
   ]
  },
  {
   "cell_type": "code",
   "execution_count": 8,
   "metadata": {},
   "outputs": [],
   "source": [
    "encoder = OrdinalEncoder()\n",
    "usefull_data_enc = pd.DataFrame(encoder.fit_transform(usefull_data), columns = usefull_data.columns)"
   ]
  },
  {
   "cell_type": "markdown",
   "metadata": {},
   "source": [
    "Теперь для каждого набора нам необходимо получить три выборки: учебную, валидационную и тестовую. Напишем функцию для разбиения, чтобы не копипастить код."
   ]
  },
  {
   "cell_type": "code",
   "execution_count": 9,
   "metadata": {},
   "outputs": [],
   "source": [
    "def split_data(data, train_part, target_col):\n",
    "    train, interim = train_test_split(data, test_size = train_part, random_state = 481516)\n",
    "    valid, test = train_test_split(interim, test_size = 0.5, random_state = 481516)\n",
    "    features_train = train.drop([target_col], axis = 1)\n",
    "    target_train = train[target_col]\n",
    "    features_valid = valid.drop([target_col], axis = 1)\n",
    "    target_valid = valid[target_col]\n",
    "    features_test = test.drop([target_col], axis = 1)\n",
    "    target_test = test[target_col]\n",
    "    \n",
    "    return features_train, target_train, features_valid, target_valid, features_test, target_test"
   ]
  },
  {
   "cell_type": "markdown",
   "metadata": {},
   "source": [
    "Разобьем оба наших набора данных (обучающую выборку возьмем в размере 0,7 от исходной, которая и так небольшая)."
   ]
  },
  {
   "cell_type": "code",
   "execution_count": 10,
   "metadata": {},
   "outputs": [],
   "source": [
    "features_train, target_train, features_valid, target_valid, features_test, target_test = split_data(usefull_data,\n",
    "                                                                                                   0.3, 'isClient')\n",
    "features_train_enc, target_train_enc, features_valid_enc, target_valid_enc, features_test_enc, target_test_enc = split_data(usefull_data_enc,\n",
    "                                                                                                   0.3, 'isClient')"
   ]
  },
  {
   "cell_type": "markdown",
   "metadata": {},
   "source": [
    "Мы имеем дело с несбалансированной классификацией, поэтому напишем функцию для апсемплинга и применим её к нашим данным для обучения."
   ]
  },
  {
   "cell_type": "code",
   "execution_count": 11,
   "metadata": {},
   "outputs": [],
   "source": [
    "def upsample(features, target, repeat):\n",
    "    features_zeros = features[target == 0]\n",
    "    features_ones = features[target == 1]\n",
    "    target_zeros = target[target == 0]\n",
    "    target_ones = target[target == 1]\n",
    "\n",
    "    features_upsampled = pd.concat([features_zeros] + [features_ones] * repeat)\n",
    "    target_upsampled = pd.concat([target_zeros] + [target_ones] * repeat)\n",
    "    \n",
    "    features_upsampled, target_upsampled = shuffle(\n",
    "        features_upsampled, target_upsampled, random_state=12345)\n",
    "    \n",
    "    return features_upsampled, target_upsampled"
   ]
  },
  {
   "cell_type": "code",
   "execution_count": 12,
   "metadata": {},
   "outputs": [],
   "source": [
    "features_upsampled, target_upsampled = upsample(features_train, target_train, 4)\n",
    "features_upsampled_enc, target_upsampled_enc = upsample(features_train_enc, target_train_enc, 2)"
   ]
  },
  {
   "cell_type": "markdown",
   "metadata": {},
   "source": [
    "На этом подготовка данных закончилась, приступим к сбору и обучению моделей."
   ]
  },
  {
   "cell_type": "markdown",
   "metadata": {},
   "source": [
    "___\n",
    "[К содержанию](#back)"
   ]
  },
  {
   "cell_type": "markdown",
   "metadata": {},
   "source": [
    "<a id = 'Chapter_2'></a>\n",
    "# 2. Работа с моделями.\n",
    "___"
   ]
  },
  {
   "cell_type": "markdown",
   "metadata": {},
   "source": [
    "Ранее мы отметили, что рассмотрим две модели. Наша цель получить наилучшие значения метрики за наименьшее время."
   ]
  },
  {
   "cell_type": "markdown",
   "metadata": {},
   "source": [
    "<a id = '2.1'></a>\n",
    "### 2.1. CatBoost."
   ]
  },
  {
   "cell_type": "markdown",
   "metadata": {},
   "source": [
    "Создадим список с категориальными признаками и объявим модель."
   ]
  },
  {
   "cell_type": "code",
   "execution_count": 13,
   "metadata": {},
   "outputs": [],
   "source": [
    "cat_features = ['Type','PaymentMethod','InternetService','StreamingTV',\n",
    "                               'DeviceProtection','OnlineBackup',\n",
    "                              'internet','phone','TechSupport','PaperlessBilling',\n",
    "                               'StreamingMovies','OnlineSecurity','MultipleLines', 'Dependents']\n",
    "model = CatBoostClassifier(loss_function = 'MultiClassOneVsAll', iterations = 450,\n",
    "                            bootstrap_type = 'MVS', boosting_type = 'Plain')"
   ]
  },
  {
   "cell_type": "markdown",
   "metadata": {},
   "source": [
    "Обучим модель на подготовленном увеличенных данных."
   ]
  },
  {
   "cell_type": "code",
   "execution_count": 14,
   "metadata": {},
   "outputs": [
    {
     "name": "stdout",
     "output_type": "stream",
     "text": [
      "0:\tlearn: 0.6718493\ttotal: 95.3ms\tremaining: 42.8s\n",
      "20:\tlearn: 0.4139220\ttotal: 2.78s\tremaining: 56.8s\n",
      "40:\tlearn: 0.3064143\ttotal: 4.96s\tremaining: 49.5s\n",
      "60:\tlearn: 0.2548556\ttotal: 7.45s\tremaining: 47.5s\n",
      "80:\tlearn: 0.2299040\ttotal: 9.84s\tremaining: 44.8s\n",
      "100:\tlearn: 0.2156448\ttotal: 12.1s\tremaining: 41.9s\n",
      "120:\tlearn: 0.2072599\ttotal: 14.4s\tremaining: 39.2s\n",
      "140:\tlearn: 0.2025335\ttotal: 16.7s\tremaining: 36.6s\n",
      "160:\tlearn: 0.1993379\ttotal: 19s\tremaining: 34.1s\n",
      "180:\tlearn: 0.1966802\ttotal: 21.5s\tremaining: 31.9s\n",
      "200:\tlearn: 0.1948371\ttotal: 23.8s\tremaining: 29.4s\n",
      "220:\tlearn: 0.1930511\ttotal: 26.2s\tremaining: 27.1s\n",
      "240:\tlearn: 0.1915953\ttotal: 28.5s\tremaining: 24.8s\n",
      "260:\tlearn: 0.1904132\ttotal: 31s\tremaining: 22.5s\n",
      "280:\tlearn: 0.1888861\ttotal: 33.4s\tremaining: 20.1s\n",
      "300:\tlearn: 0.1878101\ttotal: 35.7s\tremaining: 17.7s\n",
      "320:\tlearn: 0.1867169\ttotal: 37.9s\tremaining: 15.2s\n",
      "340:\tlearn: 0.1858071\ttotal: 40.1s\tremaining: 12.8s\n",
      "360:\tlearn: 0.1842799\ttotal: 42.4s\tremaining: 10.4s\n",
      "380:\tlearn: 0.1832289\ttotal: 44.7s\tremaining: 8.09s\n",
      "400:\tlearn: 0.1817817\ttotal: 47.1s\tremaining: 5.75s\n",
      "420:\tlearn: 0.1809164\ttotal: 49.5s\tremaining: 3.41s\n",
      "440:\tlearn: 0.1796147\ttotal: 51.9s\tremaining: 1.06s\n",
      "449:\tlearn: 0.1790455\ttotal: 53s\tremaining: 0us\n",
      "CPU times: user 45.2 s, sys: 8.15 s, total: 53.3 s\n",
      "Wall time: 54.9 s\n"
     ]
    },
    {
     "data": {
      "text/plain": [
       "<catboost.core.CatBoostClassifier at 0x7f709efe5710>"
      ]
     },
     "execution_count": 14,
     "metadata": {},
     "output_type": "execute_result"
    }
   ],
   "source": [
    "%%time\n",
    "model.fit(features_upsampled, target_upsampled, cat_features = cat_features, verbose = 20) "
   ]
  },
  {
   "cell_type": "code",
   "execution_count": 15,
   "metadata": {},
   "outputs": [
    {
     "name": "stdout",
     "output_type": "stream",
     "text": [
      "             feature  importance\n",
      "0           duration   30.762646\n",
      "1               Type   20.191411\n",
      "2     MonthlyCharges   12.203489\n",
      "3    InternetService    8.059382\n",
      "4       TotalCharges    4.971466\n",
      "5      PaymentMethod    4.931222\n",
      "6           internet    3.720067\n",
      "7     OnlineSecurity    3.046748\n",
      "8              phone    2.781065\n",
      "9        TechSupport    2.113286\n",
      "10     MultipleLines    1.791996\n",
      "11  PaperlessBilling    1.714672\n",
      "12      OnlineBackup    1.193713\n",
      "13   StreamingMovies    1.155191\n",
      "14        Dependents    0.540605\n",
      "15       StreamingTV    0.421115\n",
      "16  DeviceProtection    0.401924\n"
     ]
    },
    {
     "data": {
      "text/plain": [
       "<matplotlib.axes._subplots.AxesSubplot at 0x7f7130d01e90>"
      ]
     },
     "execution_count": 15,
     "metadata": {},
     "output_type": "execute_result"
    },
    {
     "data": {
      "image/png": "[encoded data removed]",
      "text/plain": [
       "<Figure size 1008x720 with 1 Axes>"
      ]
     },
     "metadata": {
      "needs_background": "light"
     },
     "output_type": "display_data"
    }
   ],
   "source": [
    "# model is the trained model\n",
    "importances = model.feature_importances_\n",
    "\n",
    "# train_features is the dataframe of training features\n",
    "feature_list = list(features_upsampled.columns)\n",
    "\n",
    "# Extract the feature importances into a dataframe\n",
    "feature_results = pd.DataFrame({'feature': feature_list,'importance': importances})\n",
    "\n",
    "# Show the top 10 most important\n",
    "feature_results = feature_results.sort_values('importance',ascending = False).reset_index(drop=True)\n",
    "\n",
    "print(feature_results)\n",
    "\n",
    "feature_results.plot(kind = 'barh', grid = True, figsize = (14, 10))"
   ]
  },
  {
   "cell_type": "markdown",
   "metadata": {},
   "source": [
    "Получим предсказания и посчитаем метрику на валидационной выборке."
   ]
  },
  {
   "cell_type": "code",
   "execution_count": 16,
   "metadata": {},
   "outputs": [
    {
     "name": "stdout",
     "output_type": "stream",
     "text": [
      "ROC-AUC валидационной выборки: 0.88\n",
      "Accuracy валидационной выборки: 0.807\n"
     ]
    }
   ],
   "source": [
    "pred_valid = model.predict_proba(features_valid)\n",
    "pred_valid_acc = model.predict(features_valid)\n",
    "prob_one_valid = pred_valid[:, 1]\n",
    "print('ROC-AUC валидационной выборки:', roc_auc_score(target_valid, prob_one_valid).round(3))\n",
    "print('Accuracy валидационной выборки:', accuracy_score(target_valid, pred_valid_acc).round(3))"
   ]
  },
  {
   "cell_type": "markdown",
   "metadata": {},
   "source": [
    "На валидационной выборке подбирались гиперпараметры модели и дорабатывались данные. По итогу проверяем полученную модель на тестовой выборке."
   ]
  },
  {
   "cell_type": "code",
   "execution_count": 17,
   "metadata": {},
   "outputs": [
    {
     "name": "stdout",
     "output_type": "stream",
     "text": [
      "ROC-AUC тестовой выборки: 0.886\n",
      "Accuracy тестовой выборки: 0.793\n"
     ]
    }
   ],
   "source": [
    "pred_test = model.predict_proba(features_test)\n",
    "pred_test_acc = model.predict(features_test)\n",
    "prob_one_test = pred_test[:, 1]\n",
    "print('ROC-AUC тестовой выборки:', roc_auc_score(target_test, prob_one_test).round(3))\n",
    "print('Accuracy тестовой выборки:', accuracy_score(target_test, pred_test_acc).round(3))"
   ]
  },
  {
   "cell_type": "markdown",
   "metadata": {},
   "source": [
    "Довольно неплохой результат. Рассмотрим теперь модель `RandomForestClassifier`."
   ]
  },
  {
   "cell_type": "markdown",
   "metadata": {},
   "source": [
    "<a id = '2.2'></a>\n",
    "### 2.2. RandomForestClassifier."
   ]
  },
  {
   "cell_type": "markdown",
   "metadata": {},
   "source": [
    "Отметим сразу что часть наиболее приемлимых параметров подбиралась с помощью GridSearch (код следующей ячейки) и они равны: n_estimators = 225, max_depth = 27. Код поиска закомментирован, чтобы не тратить время на очередной перебор."
   ]
  },
  {
   "cell_type": "code",
   "execution_count": 18,
   "metadata": {},
   "outputs": [],
   "source": [
    "#  forest_parametrs = {\n",
    "#      'n_estimators' : range (5, 300, 5)\n",
    "#      'max_depth' : range (1, 51, 2)\n",
    "#  }\n",
    "\n",
    "# forest_grid = GridSearchCV(rfc_model, forest_parametrs, scoring = 'roc_auc', cv = 5)\n",
    "# forest_grid.fit(features_upsampled_enc, target_upsampled_enc)\n",
    "# forest_grid.best_params_"
   ]
  },
  {
   "cell_type": "code",
   "execution_count": 19,
   "metadata": {},
   "outputs": [
    {
     "name": "stdout",
     "output_type": "stream",
     "text": [
      "CPU times: user 2.88 s, sys: 0 ns, total: 2.88 s\n",
      "Wall time: 2.91 s\n"
     ]
    },
    {
     "data": {
      "text/plain": [
       "RandomForestClassifier(bootstrap=True, class_weight=None, criterion='gini',\n",
       "                       max_depth=27, max_features='auto', max_leaf_nodes=None,\n",
       "                       min_impurity_decrease=0.0, min_impurity_split=None,\n",
       "                       min_samples_leaf=1, min_samples_split=55,\n",
       "                       min_weight_fraction_leaf=0.0, n_estimators=225,\n",
       "                       n_jobs=None, oob_score=False, random_state=1, verbose=0,\n",
       "                       warm_start=False)"
      ]
     },
     "execution_count": 19,
     "metadata": {},
     "output_type": "execute_result"
    }
   ],
   "source": [
    "%%time\n",
    "rfc_model = RandomForestClassifier(random_state = 1, min_samples_split = 55,\n",
    "                                   n_estimators = 225, max_depth = 27)\n",
    "rfc_model.fit(features_upsampled_enc, target_upsampled_enc)"
   ]
  },
  {
   "cell_type": "code",
   "execution_count": 20,
   "metadata": {},
   "outputs": [
    {
     "name": "stdout",
     "output_type": "stream",
     "text": [
      "             feature  importance\n",
      "0           duration    0.295595\n",
      "1       TotalCharges    0.163206\n",
      "2               Type    0.139447\n",
      "3     MonthlyCharges    0.138085\n",
      "4    InternetService    0.060921\n",
      "5      PaymentMethod    0.037373\n",
      "6     OnlineSecurity    0.028772\n",
      "7           internet    0.026481\n",
      "8        TechSupport    0.020997\n",
      "9   PaperlessBilling    0.017877\n",
      "10   StreamingMovies    0.013112\n",
      "11     MultipleLines    0.012576\n",
      "12      OnlineBackup    0.011410\n",
      "13       StreamingTV    0.010291\n",
      "14        Dependents    0.009090\n",
      "15  DeviceProtection    0.008302\n",
      "16             phone    0.006464\n"
     ]
    },
    {
     "data": {
      "text/plain": [
       "<matplotlib.axes._subplots.AxesSubplot at 0x7f709ec8ac50>"
      ]
     },
     "execution_count": 20,
     "metadata": {},
     "output_type": "execute_result"
    },
    {
     "data": {
      "image/png": "[encoded data removed]",
      "text/plain": [
       "<Figure size 1008x720 with 1 Axes>"
      ]
     },
     "metadata": {
      "needs_background": "light"
     },
     "output_type": "display_data"
    }
   ],
   "source": [
    "# model is the trained model\n",
    "importances = rfc_model.feature_importances_\n",
    "\n",
    "# train_features is the dataframe of training features\n",
    "feature_list = list(features_upsampled_enc.columns)\n",
    "\n",
    "# Extract the feature importances into a dataframe\n",
    "feature_results = pd.DataFrame({'feature': feature_list,'importance': importances})\n",
    "\n",
    "# Show the top 10 most important\n",
    "feature_results = feature_results.sort_values('importance',ascending = False).reset_index(drop=True)\n",
    "\n",
    "print(feature_results)\n",
    "\n",
    "feature_results.plot(kind = 'barh', grid = True, figsize = (14, 10))"
   ]
  },
  {
   "cell_type": "code",
   "execution_count": 21,
   "metadata": {},
   "outputs": [
    {
     "name": "stdout",
     "output_type": "stream",
     "text": [
      "ROC-AUC валидационной выборки: 0.867\n",
      "Accuracy валидационной выборки: 0.819\n"
     ]
    }
   ],
   "source": [
    "rfc_predicted_valid = rfc_model.predict_proba(features_valid_enc)\n",
    "rfc_predicted_valid_acc = rfc_model.predict(features_valid_enc)\n",
    "probabilities_one_valid = rfc_predicted_valid[:, 1]\n",
    "print('ROC-AUC валидационной выборки:', roc_auc_score(target_valid_enc, probabilities_one_valid).round(3))\n",
    "print('Accuracy валидационной выборки:', accuracy_score(target_valid_enc, rfc_predicted_valid_acc).round(3))"
   ]
  },
  {
   "cell_type": "markdown",
   "metadata": {},
   "source": [
    "На валидационной выборке подбирались гиперпараметры модели и дорабатывались данные. По итогу проверяем полученную модель на тестовой выборке."
   ]
  },
  {
   "cell_type": "code",
   "execution_count": 22,
   "metadata": {},
   "outputs": [
    {
     "name": "stdout",
     "output_type": "stream",
     "text": [
      "ROC-AUC тестовой выборки: 0.877\n",
      "Accuracy тестовой выборки: 0.814\n"
     ]
    }
   ],
   "source": [
    "rfc_predicted_test = rfc_model.predict_proba(features_test_enc)\n",
    "rfc_predicted_test_acc = rfc_model.predict(features_test_enc)\n",
    "probabilities_one_test = rfc_predicted_test[:, 1]\n",
    "print('ROC-AUC тестовой выборки:', roc_auc_score(target_test_enc, probabilities_one_test).round(3))\n",
    "print('Accuracy тестовой выборки:', accuracy_score(target_test_enc, rfc_predicted_test_acc).round(3))"
   ]
  },
  {
   "cell_type": "markdown",
   "metadata": {},
   "source": [
    "Эта модель показала себя немного хуже, но тоже довольно неплохо."
   ]
  },
  {
   "cell_type": "markdown",
   "metadata": {},
   "source": [
    "Для наглядности построим ROC-кривые обеих моделей в сравнении с друг другом и случайной моделью."
   ]
  },
  {
   "cell_type": "code",
   "execution_count": 23,
   "metadata": {},
   "outputs": [
    {
     "data": {
      "image/png": "[encoded data removed]",
      "text/plain": [
       "<Figure size 1080x720 with 1 Axes>"
      ]
     },
     "metadata": {
      "needs_background": "light"
     },
     "output_type": "display_data"
    }
   ],
   "source": [
    "fpr, tpr, thresholds = roc_curve(target_test, prob_one_test)\n",
    "fpr_rfc, tpr_rfc, thresholds_rfc = roc_curve(target_test_enc, probabilities_one_test)\n",
    "plt.figure(figsize = (15, 10))\n",
    "plt.plot([0, 1], [0, 1], linestyle='--')\n",
    "\n",
    "plt.xlim(0, 1)\n",
    "plt.ylim(0, 1)\n",
    "\n",
    "plt.xlabel('False Positive Rate')\n",
    "plt.ylabel('True Positive Rate')\n",
    "\n",
    "plt.title('ROC-кривая')\n",
    "\n",
    "plt.plot(fpr, tpr, label = 'CatBoost')\n",
    "plt.plot(fpr_rfc, tpr_rfc, label = 'RandomForestClassifier')\n",
    "plt.legend()\n",
    "plt.show()"
   ]
  },
  {
   "cell_type": "markdown",
   "metadata": {},
   "source": [
    "___\n",
    "[К содержанию](#back)"
   ]
  },
  {
   "cell_type": "markdown",
   "metadata": {},
   "source": [
    "<a id = 'Conclusions'></a>\n",
    "# <center>Выводы</center>\n",
    "\n",
    "Нам предоставлены данные высокого качества: пропуски отсутствуют, работы с преобразованием типов не требовалось. Для каждого набора данных имеется признак `customerID` по которому были объединены представленные таблицы как для анализа данных, так и для последующей работы с моделью.   \n",
    "\n",
    "Из исходных данных были сформированы допустимые для представления моделям `CatBoost` и `RandomForestClassifier`. По итогу работы с двумя моделями были получены довольно высокие показатели метрик, однако лучшей себя показала `CatBoost`, `AUC-ROC` которой на тестовой выборке равен 0,889.   \n",
    "При этом стоит отметить что обучение `CatBoost` длилось дольше примерно в 14 раз, чем `RandomForestClassifier`, а разница метрик между этими моделями составляет 0,018, так что при необходимости имеет смысл выбрать - чем пожертвовать: скоростью обучения, либо небольшим ухудшением метрики."
   ]
  },
  {
   "cell_type": "code",
   "execution_count": 24,
   "metadata": {},
   "outputs": [
    {
     "name": "stdout",
     "output_type": "stream",
     "text": [
      "0.6511738315787842\n"
     ]
    }
   ],
   "source": [
    "print(full_data['MonthlyCharges'].corr(full_data['TotalCharges']))"
   ]
  },
  {
   "cell_type": "code",
   "execution_count": 25,
   "metadata": {},
   "outputs": [
    {
     "data": {
      "text/plain": [
       "<matplotlib.axes._subplots.AxesSubplot at 0x7f709ef62e10>"
      ]
     },
     "execution_count": 25,
     "metadata": {},
     "output_type": "execute_result"
    },
    {
     "data": {
      "image/png": "[encoded data removed]",
      "text/plain": [
       "<Figure size 144x720 with 2 Axes>"
      ]
     },
     "metadata": {
      "needs_background": "light"
     },
     "output_type": "display_data"
    }
   ],
   "source": [
    "plt.figure(figsize=(2,10))\n",
    "sns.heatmap(full_data.corr()[['MonthlyCharges']].sort_values(by='MonthlyCharges', ascending=False), cmap=\"Blues\", \n",
    "            annot=True, annot_kws={'size':12})"
   ]
  },
  {
   "cell_type": "code",
   "execution_count": null,
   "metadata": {},
   "outputs": [],
   "source": []
  }
 ],
 "metadata": {
  "kernelspec": {
   "display_name": "Python 3 (ipykernel)",
   "language": "python",
   "name": "python3"
  },
  "language_info": {
   "codemirror_mode": {
    "name": "ipython",
    "version": 3
   },
   "file_extension": ".py",
   "mimetype": "text/x-python",
   "name": "python",
   "nbconvert_exporter": "python",
   "pygments_lexer": "ipython3",
   "version": "3.9.5"
  },
  "toc": {
   "base_numbering": 1,
   "nav_menu": {},
   "number_sections": true,
   "sideBar": true,
   "skip_h1_title": true,
   "title_cell": "Table of Contents",
   "title_sidebar": "Contents",
   "toc_cell": false,
   "toc_position": {},
   "toc_section_display": true,
   "toc_window_display": false
  }
 },
 "nbformat": 4,
 "nbformat_minor": 4
}
