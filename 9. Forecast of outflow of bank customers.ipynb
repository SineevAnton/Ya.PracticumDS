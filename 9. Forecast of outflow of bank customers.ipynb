{
 "cells": [
  {
   "cell_type": "markdown",
   "source": [
    "# <center> Прогноз оттока клиентов </center>\n",
    "___\n",
    "___"
   ],
   "metadata": {
    "collapsed": false
   }
  },
  {
   "cell_type": "markdown",
   "source": [
    "## <center> Учебный проект по ML </center>\n",
    "___\n",
    "___"
   ],
   "metadata": {
    "collapsed": false
   }
  },
  {
   "cell_type": "markdown",
   "source": [
    "Из «Бета-Банка» стали уходить клиенты. Каждый месяц. Немного, но заметно. Банковские маркетологи посчитали: сохранять текущих клиентов дешевле, чем привлекать новых.\n",
    "\n",
    "Нужно спрогнозировать, уйдёт клиент из банка в ближайшее время или нет. Вам предоставлены исторические данные о поведении клиентов и расторжении договоров с банком.\n",
    "\n",
    "Постройте модель с предельно большим значением *F1*-меры. Чтобы сдать проект успешно, нужно довести метрику до 0.59. Проверьте *F1*-меру на тестовой выборке самостоятельно.\n",
    "\n",
    "Дополнительно измеряйте *AUC-ROC*, сравнивайте её значение с *F1*-мерой.\n",
    "\n",
    "Источник данных: [https://www.kaggle.com/barelydedicated/bank-customer-churn-modeling](https://www.kaggle.com/barelydedicated/bank-customer-churn-modeling)"
   ],
   "metadata": {
    "collapsed": false
   }
  },
  {
   "cell_type": "markdown",
   "metadata": {},
   "source": [
    "## Описание данных   \n",
    "\n",
    "Признаки   \n",
    "\n",
    "- `RowNumber` — индекс строки в данных;   \n",
    "- `CustomerId` — уникальный идентификатор клиента;   \n",
    "- `Surname` — фамилия;   \n",
    "- `CreditScore` — кредитный рейтинг;   \n",
    "- `Geography` — страна проживания;   \n",
    "- `Gender` — пол;   \n",
    "- `Age` — возраст;   \n",
    "- `Tenure` — количество недвижимости у клиента;   \n",
    "- `Balance` — баланс на счёте;   \n",
    "- `NumOfProducts` — количество продуктов банка, используемых клиентом;   \n",
    "- `HasCrCard` — наличие кредитной карты;   \n",
    "- `IsActiveMember` — активность клиента;   \n",
    "- `EstimatedSalary` — предполагаемая зарплата.   \n",
    "   \n",
    "Целевой признак   \n",
    "- `Exited` — факт ухода клиента.   "
   ]
  },
  {
   "cell_type": "markdown",
   "metadata": {},
   "source": [
    "## <center> Состав работы </center>   <a id = 'back'></a>\n",
    "\n",
    "[1. Подготовка данных](#1)\n",
    "    \n",
    "   - [1.1. Изучение данных](#1.1)   \n",
    "   - [1.2. Изменение названий колонок](#1.2)   \n",
    "   - [1.3. Преобразование категориальных признаков в численные](#1.3)   \n",
    "   - [1.4. Заполнение пропусков](#1.4)\n",
    "   - [1.5. Приведение типов данных](#1.5)\n",
    "   - [1.6. Разбиение на выборки](#1.6)\n",
    "    \n",
    "[2. Исследование задачи](#2)   \n",
    "   \n",
    "   - [2.1. Оценка дисбаланса классов](#2.1)\n",
    "   - [2.2. Обучение моделей](#2.2)\n",
    "   - [2.3. Оценка качества моделей](#2.3)\n",
    "   - [2.4. ROC-кривая и AUC-ROC-score](#2.4)\n",
    "   - [2.5. Выводы](#2.5)\n",
    "   \n",
    "[3. Борьба с дисбалансом](#3)   \n",
    "   \n",
    "   - [3.1. Взвешивание классов](#3.1)\n",
    "   - [3.2. Upsampling](#3.2)\n",
    "   - [3.3. Downsampling](#3.3)\n",
    "   - [3.4. Выводы](#3.4)\n",
    "   \n",
    "[4. Тестирование модели](#4)   \n",
    "[5. Выводы](#5)   "
   ]
  },
  {
   "cell_type": "markdown",
   "metadata": {},
   "source": [
    "# <center> Ход работы </center>"
   ]
  },
  {
   "cell_type": "markdown",
   "metadata": {},
   "source": [
    "Импортируем необходимые библиотеки."
   ]
  },
  {
   "cell_type": "code",
   "execution_count": 1,
   "metadata": {},
   "outputs": [],
   "source": [
    "import pandas as pd\n",
    "import numpy as np\n",
    "from sklearn.model_selection import train_test_split, GridSearchCV\n",
    "from sklearn.tree import DecisionTreeClassifier\n",
    "from sklearn.linear_model import LogisticRegression\n",
    "from sklearn.ensemble import RandomForestClassifier\n",
    "from sklearn.metrics import roc_auc_score\n",
    "import matplotlib.pyplot as plt\n",
    "from sklearn.experimental import enable_iterative_imputer\n",
    "from sklearn.impute import IterativeImputer\n",
    "from sklearn.metrics import accuracy_score, confusion_matrix, recall_score, \\\n",
    "                            precision_score, f1_score, roc_auc_score, roc_curve, classification_report\n",
    "from sklearn.utils import shuffle\n",
    "import warnings\n",
    "warnings.filterwarnings('ignore')"
   ]
  },
  {
   "cell_type": "markdown",
   "metadata": {},
   "source": [
    "<a id = '1'></a>\n",
    "## 1. Подготовка данных\n",
    "___"
   ]
  },
  {
   "cell_type": "markdown",
   "metadata": {},
   "source": [
    "<a id = '1.1'></a>\n",
    "Прочитаем и исследуем данные."
   ]
  },
  {
   "cell_type": "code",
   "execution_count": 2,
   "metadata": {},
   "outputs": [
    {
     "name": "stdout",
     "output_type": "stream",
     "text": [
      "<class 'pandas.core.frame.DataFrame'>\n",
      "RangeIndex: 10000 entries, 0 to 9999\n",
      "Data columns (total 14 columns):\n",
      "RowNumber          10000 non-null int64\n",
      "CustomerId         10000 non-null int64\n",
      "Surname            10000 non-null object\n",
      "CreditScore        10000 non-null int64\n",
      "Geography          10000 non-null object\n",
      "Gender             10000 non-null object\n",
      "Age                10000 non-null int64\n",
      "Tenure             9091 non-null float64\n",
      "Balance            10000 non-null float64\n",
      "NumOfProducts      10000 non-null int64\n",
      "HasCrCard          10000 non-null int64\n",
      "IsActiveMember     10000 non-null int64\n",
      "EstimatedSalary    10000 non-null float64\n",
      "Exited             10000 non-null int64\n",
      "dtypes: float64(3), int64(8), object(3)\n",
      "memory usage: 1.1+ MB\n"
     ]
    }
   ],
   "source": [
    "churn_data = pd.read_csv('/datasets/Churn.csv')\n",
    "churn_data.info()"
   ]
  },
  {
   "cell_type": "code",
   "execution_count": 3,
   "metadata": {},
   "outputs": [
    {
     "data": {
      "text/html": [
       "<div>\n",
       "<style scoped>\n",
       "    .dataframe tbody tr th:only-of-type {\n",
       "        vertical-align: middle;\n",
       "    }\n",
       "\n",
       "    .dataframe tbody tr th {\n",
       "        vertical-align: top;\n",
       "    }\n",
       "\n",
       "    .dataframe thead th {\n",
       "        text-align: right;\n",
       "    }\n",
       "</style>\n",
       "<table border=\"1\" class=\"dataframe\">\n",
       "  <thead>\n",
       "    <tr style=\"text-align: right;\">\n",
       "      <th></th>\n",
       "      <th>RowNumber</th>\n",
       "      <th>CustomerId</th>\n",
       "      <th>CreditScore</th>\n",
       "      <th>Age</th>\n",
       "      <th>Tenure</th>\n",
       "      <th>Balance</th>\n",
       "      <th>NumOfProducts</th>\n",
       "      <th>HasCrCard</th>\n",
       "      <th>IsActiveMember</th>\n",
       "      <th>EstimatedSalary</th>\n",
       "      <th>Exited</th>\n",
       "    </tr>\n",
       "  </thead>\n",
       "  <tbody>\n",
       "    <tr>\n",
       "      <td>count</td>\n",
       "      <td>10000.00000</td>\n",
       "      <td>1.000000e+04</td>\n",
       "      <td>10000.000000</td>\n",
       "      <td>10000.000000</td>\n",
       "      <td>9091.000000</td>\n",
       "      <td>10000.000000</td>\n",
       "      <td>10000.000000</td>\n",
       "      <td>10000.00000</td>\n",
       "      <td>10000.000000</td>\n",
       "      <td>10000.000000</td>\n",
       "      <td>10000.000000</td>\n",
       "    </tr>\n",
       "    <tr>\n",
       "      <td>mean</td>\n",
       "      <td>5000.50000</td>\n",
       "      <td>1.569094e+07</td>\n",
       "      <td>650.528800</td>\n",
       "      <td>38.921800</td>\n",
       "      <td>4.997690</td>\n",
       "      <td>76485.889288</td>\n",
       "      <td>1.530200</td>\n",
       "      <td>0.70550</td>\n",
       "      <td>0.515100</td>\n",
       "      <td>100090.239881</td>\n",
       "      <td>0.203700</td>\n",
       "    </tr>\n",
       "    <tr>\n",
       "      <td>std</td>\n",
       "      <td>2886.89568</td>\n",
       "      <td>7.193619e+04</td>\n",
       "      <td>96.653299</td>\n",
       "      <td>10.487806</td>\n",
       "      <td>2.894723</td>\n",
       "      <td>62397.405202</td>\n",
       "      <td>0.581654</td>\n",
       "      <td>0.45584</td>\n",
       "      <td>0.499797</td>\n",
       "      <td>57510.492818</td>\n",
       "      <td>0.402769</td>\n",
       "    </tr>\n",
       "    <tr>\n",
       "      <td>min</td>\n",
       "      <td>1.00000</td>\n",
       "      <td>1.556570e+07</td>\n",
       "      <td>350.000000</td>\n",
       "      <td>18.000000</td>\n",
       "      <td>0.000000</td>\n",
       "      <td>0.000000</td>\n",
       "      <td>1.000000</td>\n",
       "      <td>0.00000</td>\n",
       "      <td>0.000000</td>\n",
       "      <td>11.580000</td>\n",
       "      <td>0.000000</td>\n",
       "    </tr>\n",
       "    <tr>\n",
       "      <td>25%</td>\n",
       "      <td>2500.75000</td>\n",
       "      <td>1.562853e+07</td>\n",
       "      <td>584.000000</td>\n",
       "      <td>32.000000</td>\n",
       "      <td>2.000000</td>\n",
       "      <td>0.000000</td>\n",
       "      <td>1.000000</td>\n",
       "      <td>0.00000</td>\n",
       "      <td>0.000000</td>\n",
       "      <td>51002.110000</td>\n",
       "      <td>0.000000</td>\n",
       "    </tr>\n",
       "    <tr>\n",
       "      <td>50%</td>\n",
       "      <td>5000.50000</td>\n",
       "      <td>1.569074e+07</td>\n",
       "      <td>652.000000</td>\n",
       "      <td>37.000000</td>\n",
       "      <td>5.000000</td>\n",
       "      <td>97198.540000</td>\n",
       "      <td>1.000000</td>\n",
       "      <td>1.00000</td>\n",
       "      <td>1.000000</td>\n",
       "      <td>100193.915000</td>\n",
       "      <td>0.000000</td>\n",
       "    </tr>\n",
       "    <tr>\n",
       "      <td>75%</td>\n",
       "      <td>7500.25000</td>\n",
       "      <td>1.575323e+07</td>\n",
       "      <td>718.000000</td>\n",
       "      <td>44.000000</td>\n",
       "      <td>7.000000</td>\n",
       "      <td>127644.240000</td>\n",
       "      <td>2.000000</td>\n",
       "      <td>1.00000</td>\n",
       "      <td>1.000000</td>\n",
       "      <td>149388.247500</td>\n",
       "      <td>0.000000</td>\n",
       "    </tr>\n",
       "    <tr>\n",
       "      <td>max</td>\n",
       "      <td>10000.00000</td>\n",
       "      <td>1.581569e+07</td>\n",
       "      <td>850.000000</td>\n",
       "      <td>92.000000</td>\n",
       "      <td>10.000000</td>\n",
       "      <td>250898.090000</td>\n",
       "      <td>4.000000</td>\n",
       "      <td>1.00000</td>\n",
       "      <td>1.000000</td>\n",
       "      <td>199992.480000</td>\n",
       "      <td>1.000000</td>\n",
       "    </tr>\n",
       "  </tbody>\n",
       "</table>\n",
       "</div>"
      ],
      "text/plain": [
       "         RowNumber    CustomerId   CreditScore           Age       Tenure  \\\n",
       "count  10000.00000  1.000000e+04  10000.000000  10000.000000  9091.000000   \n",
       "mean    5000.50000  1.569094e+07    650.528800     38.921800     4.997690   \n",
       "std     2886.89568  7.193619e+04     96.653299     10.487806     2.894723   \n",
       "min        1.00000  1.556570e+07    350.000000     18.000000     0.000000   \n",
       "25%     2500.75000  1.562853e+07    584.000000     32.000000     2.000000   \n",
       "50%     5000.50000  1.569074e+07    652.000000     37.000000     5.000000   \n",
       "75%     7500.25000  1.575323e+07    718.000000     44.000000     7.000000   \n",
       "max    10000.00000  1.581569e+07    850.000000     92.000000    10.000000   \n",
       "\n",
       "             Balance  NumOfProducts    HasCrCard  IsActiveMember  \\\n",
       "count   10000.000000   10000.000000  10000.00000    10000.000000   \n",
       "mean    76485.889288       1.530200      0.70550        0.515100   \n",
       "std     62397.405202       0.581654      0.45584        0.499797   \n",
       "min         0.000000       1.000000      0.00000        0.000000   \n",
       "25%         0.000000       1.000000      0.00000        0.000000   \n",
       "50%     97198.540000       1.000000      1.00000        1.000000   \n",
       "75%    127644.240000       2.000000      1.00000        1.000000   \n",
       "max    250898.090000       4.000000      1.00000        1.000000   \n",
       "\n",
       "       EstimatedSalary        Exited  \n",
       "count     10000.000000  10000.000000  \n",
       "mean     100090.239881      0.203700  \n",
       "std       57510.492818      0.402769  \n",
       "min          11.580000      0.000000  \n",
       "25%       51002.110000      0.000000  \n",
       "50%      100193.915000      0.000000  \n",
       "75%      149388.247500      0.000000  \n",
       "max      199992.480000      1.000000  "
      ]
     },
     "execution_count": 3,
     "metadata": {},
     "output_type": "execute_result"
    }
   ],
   "source": [
    "churn_data.describe()"
   ]
  },
  {
   "cell_type": "markdown",
   "metadata": {},
   "source": [
    "Имеем:   \n",
    " - пропуски в стобце `Tenure` (количество недвижимости у клиента). Возможно часть клиентов самостоятельно отказывались от предоставления этой информации, но есть ещё шанс связи наличия недвижимости с фактом ухода, например в связи с тяжелым материальным положением клиент продал всё и ушел из банка, либо переехал в место, где нет филиалов \"Бета-Банк\". Проверим далее.   \n",
    " - большинство типов данных выглядят логичными для того, что обозначается этими данными, однако некоторые типы данных логичнее заменить на потребляющие меньше памяти (т.е. int64 на uint8) например в колонке `IsActiveMember`, в которой для обозначения используются только '0' и '1'.     \n",
    " - лишним кажется столбец с фамилиями: у нас уже есть уникальный идентификатор клиента (`CustomerId`), так что не возникнет путанницы с идентификацией, а сама по себе фамилия вряд ли влияет на желание клиента уйти из банка.   \n",
    " - лишним кажется столбец с индексом строки в данных: у нас в DataFrame-е и так есть столбец с индексами, зачем нам их дубликат?   \n",
    " - к столбцам `Geography` и `Gender` необходимо будет применить технику *One-Hot Encoding*."
   ]
  },
  {
   "cell_type": "code",
   "execution_count": 4,
   "metadata": {},
   "outputs": [
    {
     "data": {
      "text/plain": [
       "0    726\n",
       "1    183\n",
       "Name: Exited, dtype: int64"
      ]
     },
     "metadata": {},
     "output_type": "display_data"
    }
   ],
   "source": [
    "display(churn_data.loc[churn_data['Tenure'].isna()]['Exited'].value_counts())"
   ]
  },
  {
   "cell_type": "markdown",
   "metadata": {},
   "source": [
    "Что ж, высказанное выше предположение о том, что пропуск в поле наличия недвижимости может служить индикатором того, что клиент покинет банк не подтвердилось. Проверим возразст людей в этих строках с пропусками."
   ]
  },
  {
   "cell_type": "code",
   "execution_count": 5,
   "metadata": {},
   "outputs": [
    {
     "data": {
      "text/plain": [
       "18     2\n",
       "19     1\n",
       "20     3\n",
       "21     5\n",
       "22     4\n",
       "23     7\n",
       "24     7\n",
       "25    12\n",
       "26    18\n",
       "27    14\n",
       "28    26\n",
       "29    35\n",
       "30    31\n",
       "31    45\n",
       "32    44\n",
       "33    39\n",
       "34    35\n",
       "35    43\n",
       "36    55\n",
       "37    43\n",
       "38    53\n",
       "39    36\n",
       "40    49\n",
       "41    28\n",
       "42    24\n",
       "43    32\n",
       "44    24\n",
       "45    22\n",
       "46    13\n",
       "47    14\n",
       "48    12\n",
       "49    14\n",
       "50    14\n",
       "51     8\n",
       "52    10\n",
       "53     8\n",
       "54     9\n",
       "55    14\n",
       "56     8\n",
       "57     2\n",
       "58     4\n",
       "59     6\n",
       "60     5\n",
       "61     4\n",
       "62     4\n",
       "63     4\n",
       "64     2\n",
       "65     2\n",
       "66     2\n",
       "67     1\n",
       "68     2\n",
       "70     1\n",
       "71     2\n",
       "72     1\n",
       "74     2\n",
       "75     2\n",
       "78     1\n",
       "92     1\n",
       "Name: Age, dtype: int64"
      ]
     },
     "metadata": {},
     "output_type": "display_data"
    }
   ],
   "source": [
    "display(churn_data.loc[churn_data['Tenure'].isna()]['Age'].value_counts().sort_index())"
   ]
  },
  {
   "cell_type": "markdown",
   "metadata": {},
   "source": [
    "И эта информация не внесла ясности. Было предположение что в данной подборке окажутся люди приблизительно от 18 до 25 лет, которые уже могут быть клиентами банка, но врядли уже владуют недвижимостью. Однако возраст рассматриваемых клиентов довольно разнообразен, причем, как мы видим, как раз большинство клиентов возраста 25+. Проверим есть ли в данных о наличии недвижимости нулевые значения."
   ]
  },
  {
   "cell_type": "code",
   "execution_count": 6,
   "metadata": {},
   "outputs": [
    {
     "name": "stdout",
     "output_type": "stream",
     "text": [
      "382\n"
     ]
    }
   ],
   "source": [
    "print(churn_data.loc[churn_data['Tenure'] == 0]['Tenure'].count())"
   ]
  },
  {
   "cell_type": "markdown",
   "metadata": {},
   "source": [
    "Выясняется что всё же отсутствии недвижимости обозначается нулем а не пропущенным значением. Что ж, просто так заменить на 0 нет предпосылок, как и брать среднее или медианное значение. При этом отсутствующих данных чуть больше 9%. Казалось бы можно попробовать и удалить строки с отсутствующими данными, но:   \n",
    "1. даже 9% отсутствующих данных многовато, для простого удаления строк;   \n",
    "2. для других задач отсутствующих данных может быть много больше, а на данный момент ни одна из известных нам моделей не работает с NaN.   \n",
    "   \n",
    "Пора учиться работать с ними средствами <a href = \"https://scikit-learn.org/stable/modules/impute.html#impute\">`scikit-learn`</a>   \n",
    "Сделаем это чуть ниже, после обработки данных."
   ]
  },
  {
   "cell_type": "markdown",
   "metadata": {},
   "source": [
    "P.s.: кстати, как вариант интересен способ: данную колонку представить целевым признаком (по крайней мере пока их у нас 9%), из всех строк с отсутствующим значением сделать тестовую выборку, оставшиеся данные разбить на обучающую и валидационную, обучить, добиться хороших метрик, предсказать по тестовой и предсказанные значения вернуть в исходный датасет...🤔"
   ]
  },
  {
   "cell_type": "code",
   "execution_count": null,
   "metadata": {},
   "outputs": [],
   "source": []
  },
  {
   "cell_type": "code",
   "execution_count": 7,
   "metadata": {},
   "outputs": [
    {
     "data": {
      "text/plain": [
       "0"
      ]
     },
     "metadata": {},
     "output_type": "display_data"
    }
   ],
   "source": [
    "display(churn_data.duplicated().sum())"
   ]
  },
  {
   "cell_type": "markdown",
   "metadata": {},
   "source": [
    "Дублированных данных нет, хорошо."
   ]
  },
  {
   "cell_type": "code",
   "execution_count": 8,
   "metadata": {},
   "outputs": [
    {
     "data": {
      "text/plain": [
       "Index(['RowNumber', 'CustomerId', 'Surname', 'CreditScore', 'Geography',\n",
       "       'Gender', 'Age', 'Tenure', 'Balance', 'NumOfProducts', 'HasCrCard',\n",
       "       'IsActiveMember', 'EstimatedSalary', 'Exited'],\n",
       "      dtype='object')"
      ]
     },
     "metadata": {},
     "output_type": "display_data"
    }
   ],
   "source": [
    "display(churn_data.columns)"
   ]
  },
  {
   "cell_type": "markdown",
   "metadata": {},
   "source": [
    "<a id = '1.2'></a>\n",
    "Заменим названия колонок."
   ]
  },
  {
   "cell_type": "code",
   "execution_count": 9,
   "metadata": {},
   "outputs": [],
   "source": [
    "columns_new_names = ['row_number', 'customer_id', 'surname', 'credit_score', 'geography', 'gender', 'age', 'tenure', 'balance', 'num_of_products', 'has_credit_card', 'is_active_member', 'estimated_salary', 'exited']\n",
    "churn_data.set_axis(columns_new_names, axis = 'columns', inplace = 'True')"
   ]
  },
  {
   "cell_type": "code",
   "execution_count": 10,
   "metadata": {},
   "outputs": [],
   "source": [
    "churn_data.drop(['row_number', 'surname'], axis = 1, inplace = True)"
   ]
  },
  {
   "cell_type": "markdown",
   "metadata": {},
   "source": [
    "<a id = '1.3'></a>\n",
    "Теперь необходимо применить технику прямого кодирования к колонкам `Geography` и `Gender`, при этом, чтобы не попасть в дамми-ловушку, добавим аргумент **drop_first**."
   ]
  },
  {
   "cell_type": "code",
   "execution_count": 11,
   "metadata": {},
   "outputs": [],
   "source": [
    "churn_data_ohe = pd.get_dummies(churn_data, drop_first = True)\n"
   ]
  },
  {
   "cell_type": "code",
   "execution_count": 12,
   "metadata": {},
   "outputs": [
    {
     "data": {
      "text/html": [
       "<div>\n",
       "<style scoped>\n",
       "    .dataframe tbody tr th:only-of-type {\n",
       "        vertical-align: middle;\n",
       "    }\n",
       "\n",
       "    .dataframe tbody tr th {\n",
       "        vertical-align: top;\n",
       "    }\n",
       "\n",
       "    .dataframe thead th {\n",
       "        text-align: right;\n",
       "    }\n",
       "</style>\n",
       "<table border=\"1\" class=\"dataframe\">\n",
       "  <thead>\n",
       "    <tr style=\"text-align: right;\">\n",
       "      <th></th>\n",
       "      <th>customer_id</th>\n",
       "      <th>credit_score</th>\n",
       "      <th>age</th>\n",
       "      <th>tenure</th>\n",
       "      <th>balance</th>\n",
       "      <th>num_of_products</th>\n",
       "      <th>has_credit_card</th>\n",
       "      <th>is_active_member</th>\n",
       "      <th>estimated_salary</th>\n",
       "      <th>exited</th>\n",
       "      <th>geography_Germany</th>\n",
       "      <th>geography_Spain</th>\n",
       "      <th>gender_Male</th>\n",
       "    </tr>\n",
       "  </thead>\n",
       "  <tbody>\n",
       "    <tr>\n",
       "      <td>0</td>\n",
       "      <td>15634602</td>\n",
       "      <td>619</td>\n",
       "      <td>42</td>\n",
       "      <td>2.0</td>\n",
       "      <td>0.00</td>\n",
       "      <td>1</td>\n",
       "      <td>1</td>\n",
       "      <td>1</td>\n",
       "      <td>101348.88</td>\n",
       "      <td>1</td>\n",
       "      <td>0</td>\n",
       "      <td>0</td>\n",
       "      <td>0</td>\n",
       "    </tr>\n",
       "    <tr>\n",
       "      <td>1</td>\n",
       "      <td>15647311</td>\n",
       "      <td>608</td>\n",
       "      <td>41</td>\n",
       "      <td>1.0</td>\n",
       "      <td>83807.86</td>\n",
       "      <td>1</td>\n",
       "      <td>0</td>\n",
       "      <td>1</td>\n",
       "      <td>112542.58</td>\n",
       "      <td>0</td>\n",
       "      <td>0</td>\n",
       "      <td>1</td>\n",
       "      <td>0</td>\n",
       "    </tr>\n",
       "    <tr>\n",
       "      <td>2</td>\n",
       "      <td>15619304</td>\n",
       "      <td>502</td>\n",
       "      <td>42</td>\n",
       "      <td>8.0</td>\n",
       "      <td>159660.80</td>\n",
       "      <td>3</td>\n",
       "      <td>1</td>\n",
       "      <td>0</td>\n",
       "      <td>113931.57</td>\n",
       "      <td>1</td>\n",
       "      <td>0</td>\n",
       "      <td>0</td>\n",
       "      <td>0</td>\n",
       "    </tr>\n",
       "    <tr>\n",
       "      <td>3</td>\n",
       "      <td>15701354</td>\n",
       "      <td>699</td>\n",
       "      <td>39</td>\n",
       "      <td>1.0</td>\n",
       "      <td>0.00</td>\n",
       "      <td>2</td>\n",
       "      <td>0</td>\n",
       "      <td>0</td>\n",
       "      <td>93826.63</td>\n",
       "      <td>0</td>\n",
       "      <td>0</td>\n",
       "      <td>0</td>\n",
       "      <td>0</td>\n",
       "    </tr>\n",
       "    <tr>\n",
       "      <td>4</td>\n",
       "      <td>15737888</td>\n",
       "      <td>850</td>\n",
       "      <td>43</td>\n",
       "      <td>2.0</td>\n",
       "      <td>125510.82</td>\n",
       "      <td>1</td>\n",
       "      <td>1</td>\n",
       "      <td>1</td>\n",
       "      <td>79084.10</td>\n",
       "      <td>0</td>\n",
       "      <td>0</td>\n",
       "      <td>1</td>\n",
       "      <td>0</td>\n",
       "    </tr>\n",
       "  </tbody>\n",
       "</table>\n",
       "</div>"
      ],
      "text/plain": [
       "   customer_id  credit_score  age  tenure    balance  num_of_products  \\\n",
       "0     15634602           619   42     2.0       0.00                1   \n",
       "1     15647311           608   41     1.0   83807.86                1   \n",
       "2     15619304           502   42     8.0  159660.80                3   \n",
       "3     15701354           699   39     1.0       0.00                2   \n",
       "4     15737888           850   43     2.0  125510.82                1   \n",
       "\n",
       "   has_credit_card  is_active_member  estimated_salary  exited  \\\n",
       "0                1                 1         101348.88       1   \n",
       "1                0                 1         112542.58       0   \n",
       "2                1                 0         113931.57       1   \n",
       "3                0                 0          93826.63       0   \n",
       "4                1                 1          79084.10       0   \n",
       "\n",
       "   geography_Germany  geography_Spain  gender_Male  \n",
       "0                  0                0            0  \n",
       "1                  0                1            0  \n",
       "2                  0                0            0  \n",
       "3                  0                0            0  \n",
       "4                  0                1            0  "
      ]
     },
     "metadata": {},
     "output_type": "display_data"
    }
   ],
   "source": [
    "display(churn_data_ohe.head())"
   ]
  },
  {
   "cell_type": "markdown",
   "metadata": {},
   "source": [
    "<a id = '1.4'></a>\n",
    "Заполняем пропуски с помощью `IterativeImputer`."
   ]
  },
  {
   "cell_type": "code",
   "execution_count": 13,
   "metadata": {},
   "outputs": [],
   "source": [
    "imp = IterativeImputer(random_state = 1, n_nearest_features = 10)\n",
    "churn_data_transformed = imp.fit_transform(churn_data_ohe)"
   ]
  },
  {
   "cell_type": "code",
   "execution_count": 14,
   "metadata": {},
   "outputs": [],
   "source": [
    "imputed_churn_data = pd.DataFrame(data = churn_data_transformed, columns = churn_data_ohe.columns)"
   ]
  },
  {
   "cell_type": "code",
   "execution_count": 15,
   "metadata": {},
   "outputs": [
    {
     "name": "stdout",
     "output_type": "stream",
     "text": [
      "<class 'pandas.core.frame.DataFrame'>\n",
      "RangeIndex: 10000 entries, 0 to 9999\n",
      "Data columns (total 13 columns):\n",
      "customer_id          10000 non-null float64\n",
      "credit_score         10000 non-null float64\n",
      "age                  10000 non-null float64\n",
      "tenure               10000 non-null float64\n",
      "balance              10000 non-null float64\n",
      "num_of_products      10000 non-null float64\n",
      "has_credit_card      10000 non-null float64\n",
      "is_active_member     10000 non-null float64\n",
      "estimated_salary     10000 non-null float64\n",
      "exited               10000 non-null float64\n",
      "geography_Germany    10000 non-null float64\n",
      "geography_Spain      10000 non-null float64\n",
      "gender_Male          10000 non-null float64\n",
      "dtypes: float64(13)\n",
      "memory usage: 1015.8 KB\n"
     ]
    }
   ],
   "source": [
    "imputed_churn_data.info()"
   ]
  },
  {
   "cell_type": "code",
   "execution_count": 16,
   "metadata": {},
   "outputs": [
    {
     "data": {
      "text/html": [
       "<div>\n",
       "<style scoped>\n",
       "    .dataframe tbody tr th:only-of-type {\n",
       "        vertical-align: middle;\n",
       "    }\n",
       "\n",
       "    .dataframe tbody tr th {\n",
       "        vertical-align: top;\n",
       "    }\n",
       "\n",
       "    .dataframe thead th {\n",
       "        text-align: right;\n",
       "    }\n",
       "</style>\n",
       "<table border=\"1\" class=\"dataframe\">\n",
       "  <thead>\n",
       "    <tr style=\"text-align: right;\">\n",
       "      <th></th>\n",
       "      <th>customer_id</th>\n",
       "      <th>credit_score</th>\n",
       "      <th>age</th>\n",
       "      <th>tenure</th>\n",
       "      <th>balance</th>\n",
       "      <th>num_of_products</th>\n",
       "      <th>has_credit_card</th>\n",
       "      <th>is_active_member</th>\n",
       "      <th>estimated_salary</th>\n",
       "      <th>exited</th>\n",
       "      <th>geography_Germany</th>\n",
       "      <th>geography_Spain</th>\n",
       "      <th>gender_Male</th>\n",
       "    </tr>\n",
       "  </thead>\n",
       "  <tbody>\n",
       "    <tr>\n",
       "      <td>859</td>\n",
       "      <td>15809087.0</td>\n",
       "      <td>598.0</td>\n",
       "      <td>64.0</td>\n",
       "      <td>1.000000</td>\n",
       "      <td>0.00</td>\n",
       "      <td>2.0</td>\n",
       "      <td>1.0</td>\n",
       "      <td>0.0</td>\n",
       "      <td>195635.30</td>\n",
       "      <td>1.0</td>\n",
       "      <td>0.0</td>\n",
       "      <td>0.0</td>\n",
       "      <td>1.0</td>\n",
       "    </tr>\n",
       "    <tr>\n",
       "      <td>7508</td>\n",
       "      <td>15580366.0</td>\n",
       "      <td>566.0</td>\n",
       "      <td>54.0</td>\n",
       "      <td>4.000000</td>\n",
       "      <td>118614.60</td>\n",
       "      <td>2.0</td>\n",
       "      <td>1.0</td>\n",
       "      <td>1.0</td>\n",
       "      <td>172601.62</td>\n",
       "      <td>0.0</td>\n",
       "      <td>1.0</td>\n",
       "      <td>0.0</td>\n",
       "      <td>1.0</td>\n",
       "    </tr>\n",
       "    <tr>\n",
       "      <td>7450</td>\n",
       "      <td>15679801.0</td>\n",
       "      <td>712.0</td>\n",
       "      <td>39.0</td>\n",
       "      <td>5.000000</td>\n",
       "      <td>163097.55</td>\n",
       "      <td>2.0</td>\n",
       "      <td>1.0</td>\n",
       "      <td>1.0</td>\n",
       "      <td>23702.42</td>\n",
       "      <td>0.0</td>\n",
       "      <td>0.0</td>\n",
       "      <td>1.0</td>\n",
       "      <td>0.0</td>\n",
       "    </tr>\n",
       "    <tr>\n",
       "      <td>3183</td>\n",
       "      <td>15734161.0</td>\n",
       "      <td>636.0</td>\n",
       "      <td>43.0</td>\n",
       "      <td>4.957114</td>\n",
       "      <td>0.00</td>\n",
       "      <td>2.0</td>\n",
       "      <td>1.0</td>\n",
       "      <td>0.0</td>\n",
       "      <td>43128.95</td>\n",
       "      <td>0.0</td>\n",
       "      <td>0.0</td>\n",
       "      <td>0.0</td>\n",
       "      <td>1.0</td>\n",
       "    </tr>\n",
       "    <tr>\n",
       "      <td>6094</td>\n",
       "      <td>15575623.0</td>\n",
       "      <td>589.0</td>\n",
       "      <td>31.0</td>\n",
       "      <td>10.000000</td>\n",
       "      <td>110635.32</td>\n",
       "      <td>1.0</td>\n",
       "      <td>1.0</td>\n",
       "      <td>0.0</td>\n",
       "      <td>148218.86</td>\n",
       "      <td>0.0</td>\n",
       "      <td>0.0</td>\n",
       "      <td>0.0</td>\n",
       "      <td>0.0</td>\n",
       "    </tr>\n",
       "    <tr>\n",
       "      <td>5039</td>\n",
       "      <td>15775490.0</td>\n",
       "      <td>660.0</td>\n",
       "      <td>38.0</td>\n",
       "      <td>5.000000</td>\n",
       "      <td>110570.78</td>\n",
       "      <td>2.0</td>\n",
       "      <td>1.0</td>\n",
       "      <td>0.0</td>\n",
       "      <td>195906.59</td>\n",
       "      <td>0.0</td>\n",
       "      <td>0.0</td>\n",
       "      <td>0.0</td>\n",
       "      <td>0.0</td>\n",
       "    </tr>\n",
       "    <tr>\n",
       "      <td>7191</td>\n",
       "      <td>15567839.0</td>\n",
       "      <td>501.0</td>\n",
       "      <td>42.0</td>\n",
       "      <td>9.000000</td>\n",
       "      <td>114631.23</td>\n",
       "      <td>1.0</td>\n",
       "      <td>0.0</td>\n",
       "      <td>1.0</td>\n",
       "      <td>91429.74</td>\n",
       "      <td>0.0</td>\n",
       "      <td>0.0</td>\n",
       "      <td>0.0</td>\n",
       "      <td>1.0</td>\n",
       "    </tr>\n",
       "    <tr>\n",
       "      <td>6531</td>\n",
       "      <td>15675231.0</td>\n",
       "      <td>518.0</td>\n",
       "      <td>45.0</td>\n",
       "      <td>8.000000</td>\n",
       "      <td>0.00</td>\n",
       "      <td>2.0</td>\n",
       "      <td>1.0</td>\n",
       "      <td>1.0</td>\n",
       "      <td>36193.07</td>\n",
       "      <td>0.0</td>\n",
       "      <td>0.0</td>\n",
       "      <td>0.0</td>\n",
       "      <td>0.0</td>\n",
       "    </tr>\n",
       "    <tr>\n",
       "      <td>6930</td>\n",
       "      <td>15680685.0</td>\n",
       "      <td>751.0</td>\n",
       "      <td>30.0</td>\n",
       "      <td>3.000000</td>\n",
       "      <td>165257.20</td>\n",
       "      <td>1.0</td>\n",
       "      <td>0.0</td>\n",
       "      <td>0.0</td>\n",
       "      <td>134822.05</td>\n",
       "      <td>0.0</td>\n",
       "      <td>0.0</td>\n",
       "      <td>0.0</td>\n",
       "      <td>1.0</td>\n",
       "    </tr>\n",
       "    <tr>\n",
       "      <td>1336</td>\n",
       "      <td>15682563.0</td>\n",
       "      <td>618.0</td>\n",
       "      <td>38.0</td>\n",
       "      <td>5.000000</td>\n",
       "      <td>126473.99</td>\n",
       "      <td>1.0</td>\n",
       "      <td>1.0</td>\n",
       "      <td>0.0</td>\n",
       "      <td>91972.49</td>\n",
       "      <td>0.0</td>\n",
       "      <td>0.0</td>\n",
       "      <td>1.0</td>\n",
       "      <td>1.0</td>\n",
       "    </tr>\n",
       "  </tbody>\n",
       "</table>\n",
       "</div>"
      ],
      "text/plain": [
       "      customer_id  credit_score   age     tenure    balance  num_of_products  \\\n",
       "859    15809087.0         598.0  64.0   1.000000       0.00              2.0   \n",
       "7508   15580366.0         566.0  54.0   4.000000  118614.60              2.0   \n",
       "7450   15679801.0         712.0  39.0   5.000000  163097.55              2.0   \n",
       "3183   15734161.0         636.0  43.0   4.957114       0.00              2.0   \n",
       "6094   15575623.0         589.0  31.0  10.000000  110635.32              1.0   \n",
       "5039   15775490.0         660.0  38.0   5.000000  110570.78              2.0   \n",
       "7191   15567839.0         501.0  42.0   9.000000  114631.23              1.0   \n",
       "6531   15675231.0         518.0  45.0   8.000000       0.00              2.0   \n",
       "6930   15680685.0         751.0  30.0   3.000000  165257.20              1.0   \n",
       "1336   15682563.0         618.0  38.0   5.000000  126473.99              1.0   \n",
       "\n",
       "      has_credit_card  is_active_member  estimated_salary  exited  \\\n",
       "859               1.0               0.0         195635.30     1.0   \n",
       "7508              1.0               1.0         172601.62     0.0   \n",
       "7450              1.0               1.0          23702.42     0.0   \n",
       "3183              1.0               0.0          43128.95     0.0   \n",
       "6094              1.0               0.0         148218.86     0.0   \n",
       "5039              1.0               0.0         195906.59     0.0   \n",
       "7191              0.0               1.0          91429.74     0.0   \n",
       "6531              1.0               1.0          36193.07     0.0   \n",
       "6930              0.0               0.0         134822.05     0.0   \n",
       "1336              1.0               0.0          91972.49     0.0   \n",
       "\n",
       "      geography_Germany  geography_Spain  gender_Male  \n",
       "859                 0.0              0.0          1.0  \n",
       "7508                1.0              0.0          1.0  \n",
       "7450                0.0              1.0          0.0  \n",
       "3183                0.0              0.0          1.0  \n",
       "6094                0.0              0.0          0.0  \n",
       "5039                0.0              0.0          0.0  \n",
       "7191                0.0              0.0          1.0  \n",
       "6531                0.0              0.0          0.0  \n",
       "6930                0.0              0.0          1.0  \n",
       "1336                0.0              1.0          1.0  "
      ]
     },
     "metadata": {},
     "output_type": "display_data"
    }
   ],
   "source": [
    "display(imputed_churn_data.sample(10))"
   ]
  },
  {
   "cell_type": "markdown",
   "metadata": {},
   "source": [
    "<a id = '1.5'></a>\n",
    "Что ж, заполнение пропущенных значений выполнено. Теперь приведем всё к более логичным типам данным."
   ]
  },
  {
   "cell_type": "code",
   "execution_count": 17,
   "metadata": {},
   "outputs": [],
   "source": [
    "columns_to_uint8 = ['age', 'tenure', 'num_of_products', 'has_credit_card', 'is_active_member', 'exited', 'geography_Germany', 'geography_Spain', 'gender_Male']\n",
    "for column in columns_to_uint8:\n",
    "    imputed_churn_data[column] = imputed_churn_data[column].astype(np.uint8)\n",
    "    \n",
    "imputed_churn_data['customer_id'] = imputed_churn_data['customer_id'].astype('int')\n",
    "imputed_churn_data['credit_score'] = imputed_churn_data['credit_score'].astype('int')"
   ]
  },
  {
   "cell_type": "code",
   "execution_count": 18,
   "metadata": {},
   "outputs": [
    {
     "name": "stdout",
     "output_type": "stream",
     "text": [
      "<class 'pandas.core.frame.DataFrame'>\n",
      "RangeIndex: 10000 entries, 0 to 9999\n",
      "Data columns (total 13 columns):\n",
      "customer_id          10000 non-null int64\n",
      "credit_score         10000 non-null int64\n",
      "age                  10000 non-null uint8\n",
      "tenure               10000 non-null uint8\n",
      "balance              10000 non-null float64\n",
      "num_of_products      10000 non-null uint8\n",
      "has_credit_card      10000 non-null uint8\n",
      "is_active_member     10000 non-null uint8\n",
      "estimated_salary     10000 non-null float64\n",
      "exited               10000 non-null uint8\n",
      "geography_Germany    10000 non-null uint8\n",
      "geography_Spain      10000 non-null uint8\n",
      "gender_Male          10000 non-null uint8\n",
      "dtypes: float64(2), int64(2), uint8(9)\n",
      "memory usage: 400.5 KB\n"
     ]
    }
   ],
   "source": [
    "imputed_churn_data.info()"
   ]
  },
  {
   "cell_type": "markdown",
   "metadata": {},
   "source": [
    "<a id = '1.6'></a>\n",
    "Преобразование типов выполнено успешно.   \n",
    "Разобьём генеральную совокупность на обучающую, валидационную и тестовую выборки."
   ]
  },
  {
   "cell_type": "code",
   "execution_count": 19,
   "metadata": {},
   "outputs": [],
   "source": [
    "churn_train, churn_interim = train_test_split(imputed_churn_data, test_size = 0.4, random_state = 1)"
   ]
  },
  {
   "cell_type": "markdown",
   "metadata": {},
   "source": [
    "Так как *'test_train_split'* разделяет исходные данные на две выборки, а нам нужны три в соотношении 3:1:1 - мы сначала разделили генеральную совокупность на выборки с соотношением 3:2. 60% оставляем на обучающую выборку в переменной `churn_train`. Оставшиеся 40% записываем во временную переменную `churn_interium`."
   ]
  },
  {
   "cell_type": "code",
   "execution_count": 20,
   "metadata": {},
   "outputs": [],
   "source": [
    "churn_valid, churn_test = train_test_split(churn_interim, test_size = 0.5, random_state = 1)"
   ]
  },
  {
   "cell_type": "markdown",
   "metadata": {},
   "source": [
    "Теперь разделили 40% генеральной совокупности на валидационную и тестовую выборки в соотношении 1:1 (таким образом получим для двух выборок по 20% от генеральной совокупности). Запишем результаты в переменные `churn_valid` и `churn_test`."
   ]
  },
  {
   "cell_type": "code",
   "execution_count": 21,
   "metadata": {},
   "outputs": [
    {
     "name": "stdout",
     "output_type": "stream",
     "text": [
      "Размер обучающей выборки: 6000 \n",
      "Размер валидационной выборки: 2000 \n",
      "Размер тестовой выборки: 2000\n"
     ]
    }
   ],
   "source": [
    "print('Размер обучающей выборки: {} \\nРазмер валидационной выборки: {} \\nРазмер тестовой выборки: {}' \n",
    "      .format(len(churn_train), len(churn_valid), len(churn_test)))"
   ]
  },
  {
   "cell_type": "code",
   "execution_count": 22,
   "metadata": {},
   "outputs": [],
   "source": [
    "del churn_interim"
   ]
  },
  {
   "cell_type": "markdown",
   "metadata": {},
   "source": [
    "Проверили как разбились выборки и удалили временную переменную `churn_interim`, чтобы не валялась в памяти. Больше она нам не нужна. Теперь полученные выборки разделяем на признаки и цели."
   ]
  },
  {
   "cell_type": "code",
   "execution_count": 23,
   "metadata": {},
   "outputs": [],
   "source": [
    "churn_train_features = churn_train.drop(['exited'], axis = 1)\n",
    "churn_train_target = churn_train['exited']"
   ]
  },
  {
   "cell_type": "code",
   "execution_count": 24,
   "metadata": {},
   "outputs": [],
   "source": [
    "churn_valid_features = churn_valid.drop(['exited'], axis = 1)\n",
    "churn_valid_target = churn_valid['exited']"
   ]
  },
  {
   "cell_type": "code",
   "execution_count": 25,
   "metadata": {},
   "outputs": [],
   "source": [
    "churn_test_features = churn_test.drop(['exited'], axis = 1)\n",
    "churn_test_target = churn_test['exited']"
   ]
  },
  {
   "cell_type": "markdown",
   "metadata": {},
   "source": [
    "Данные подготовлены к дальнейшей работе."
   ]
  },
  {
   "cell_type": "markdown",
   "metadata": {},
   "source": [
    "___\n",
    "[*К содержанию*](#back)"
   ]
  },
  {
   "cell_type": "markdown",
   "metadata": {},
   "source": [
    "## 2. Исследование задачи\n",
    "___"
   ]
  },
  {
   "cell_type": "markdown",
   "metadata": {},
   "source": [
    "<a id = '2.1'></a>\n",
    "Оценим дисбаланс классов."
   ]
  },
  {
   "cell_type": "code",
   "execution_count": 26,
   "metadata": {},
   "outputs": [],
   "source": [
    "frequencies_data = pd.DataFrame(data = [churn_train_target.value_counts(normalize = True), \\\n",
    "                                        churn_valid_target.value_counts(normalize = True), \\\n",
    "                                        churn_test_target.value_counts(normalize = True)], \\\n",
    "                                        index = ['train','valid','test'])"
   ]
  },
  {
   "cell_type": "code",
   "execution_count": 27,
   "metadata": {},
   "outputs": [
    {
     "name": "stdout",
     "output_type": "stream",
     "text": [
      "<class 'pandas.core.frame.DataFrame'>\n",
      "Index: 3 entries, train to test\n",
      "Data columns (total 2 columns):\n",
      "0    3 non-null float64\n",
      "1    3 non-null float64\n",
      "dtypes: float64(2)\n",
      "memory usage: 72.0+ bytes\n"
     ]
    }
   ],
   "source": [
    "frequencies_data.info()"
   ]
  },
  {
   "cell_type": "code",
   "execution_count": 28,
   "metadata": {},
   "outputs": [
    {
     "data": {
      "text/plain": [
       "Text(0, 0.5, 'values count (relative unit)')"
      ]
     },
     "execution_count": 28,
     "metadata": {},
     "output_type": "execute_result"
    },
    {
     "data": {
      "image/png": "[encoded data removed]",
      "text/plain": [
       "<Figure size 1152x576 with 1 Axes>"
      ]
     },
     "metadata": {
      "needs_background": "light"
     },
     "output_type": "display_data"
    }
   ],
   "source": [
    "ax = frequencies_data.plot(kind = 'bar', grid = True, rot = 45, figsize = (16, 8), fontsize = 15)\n",
    "ax.set_xlabel('churn target', fontsize = 15)\n",
    "ax.set_ylabel('values count (relative unit)', fontsize = 15)"
   ]
  },
  {
   "cell_type": "markdown",
   "metadata": {},
   "source": [
    "Мы видим явно выраженный дисбаланс классов. Исследуем модели без учета этого дисбаланса."
   ]
  },
  {
   "cell_type": "markdown",
   "metadata": {},
   "source": [
    "<a id = '2.2'></a>\n",
    "Обучим три разные модели буз учета дисбаланса."
   ]
  },
  {
   "cell_type": "code",
   "execution_count": 29,
   "metadata": {},
   "outputs": [
    {
     "data": {
      "text/plain": [
       "DecisionTreeClassifier(class_weight=None, criterion='gini', max_depth=None,\n",
       "                       max_features=None, max_leaf_nodes=None,\n",
       "                       min_impurity_decrease=0.0, min_impurity_split=None,\n",
       "                       min_samples_leaf=1, min_samples_split=2,\n",
       "                       min_weight_fraction_leaf=0.0, presort=False,\n",
       "                       random_state=1, splitter='best')"
      ]
     },
     "execution_count": 29,
     "metadata": {},
     "output_type": "execute_result"
    }
   ],
   "source": [
    "dtc_model = DecisionTreeClassifier(random_state = 1)\n",
    "dtc_model.fit(churn_train_features, churn_train_target)"
   ]
  },
  {
   "cell_type": "code",
   "execution_count": 30,
   "metadata": {},
   "outputs": [
    {
     "data": {
      "text/plain": [
       "RandomForestClassifier(bootstrap=True, class_weight=None, criterion='gini',\n",
       "                       max_depth=None, max_features='auto', max_leaf_nodes=None,\n",
       "                       min_impurity_decrease=0.0, min_impurity_split=None,\n",
       "                       min_samples_leaf=1, min_samples_split=2,\n",
       "                       min_weight_fraction_leaf=0.0, n_estimators=10,\n",
       "                       n_jobs=None, oob_score=False, random_state=1, verbose=0,\n",
       "                       warm_start=False)"
      ]
     },
     "execution_count": 30,
     "metadata": {},
     "output_type": "execute_result"
    }
   ],
   "source": [
    "rfc_model = RandomForestClassifier(random_state = 1)\n",
    "rfc_model.fit(churn_train_features, churn_train_target)"
   ]
  },
  {
   "cell_type": "code",
   "execution_count": 31,
   "metadata": {},
   "outputs": [
    {
     "data": {
      "text/plain": [
       "LogisticRegression(C=1.0, class_weight=None, dual=False, fit_intercept=True,\n",
       "                   intercept_scaling=1, l1_ratio=None, max_iter=100,\n",
       "                   multi_class='warn', n_jobs=None, penalty='l2',\n",
       "                   random_state=1, solver='lbfgs', tol=0.0001, verbose=0,\n",
       "                   warm_start=False)"
      ]
     },
     "execution_count": 31,
     "metadata": {},
     "output_type": "execute_result"
    }
   ],
   "source": [
    "lr_model = LogisticRegression(random_state = 1, solver = 'lbfgs')\n",
    "lr_model.fit(churn_train_features, churn_train_target)"
   ]
  },
  {
   "cell_type": "code",
   "execution_count": 32,
   "metadata": {},
   "outputs": [],
   "source": [
    "dtc_predicted_valid = dtc_model.predict(churn_valid_features)\n",
    "rfc_predicted_valid = rfc_model.predict(churn_valid_features)\n",
    "lr_predicted_valid = lr_model.predict(churn_valid_features)"
   ]
  },
  {
   "cell_type": "markdown",
   "metadata": {},
   "source": [
    "<a id = '2.3'></a>\n",
    "Оценим качество моделей разными метриками."
   ]
  },
  {
   "cell_type": "code",
   "execution_count": 33,
   "metadata": {},
   "outputs": [],
   "source": [
    "dtc_accuracy_valid = accuracy_score(churn_valid_target, dtc_predicted_valid)\n",
    "rfc_accuracy_valid = accuracy_score(churn_valid_target, rfc_predicted_valid)\n",
    "lr_accuracy_valid = accuracy_score(churn_valid_target, lr_predicted_valid)"
   ]
  },
  {
   "cell_type": "code",
   "execution_count": 34,
   "metadata": {},
   "outputs": [
    {
     "name": "stdout",
     "output_type": "stream",
     "text": [
      "Accuracy модели DecisionTreeClassifier: 0.7880 \n",
      "Accuracy модели RandomForestClassifier: 0.8515       \n",
      "Accuracy модели LogisticRegression: 0.7895\n"
     ]
    }
   ],
   "source": [
    "print('Accuracy модели DecisionTreeClassifier: {:.4f} \\nAccuracy модели RandomForestClassifier: {:.4f} \\\n",
    "      \\nAccuracy модели LogisticRegression: {:.4f}'.format(dtc_accuracy_valid, rfc_accuracy_valid, lr_accuracy_valid))"
   ]
  },
  {
   "cell_type": "markdown",
   "metadata": {},
   "source": [
    "Создадим константную модель и сравним её метрику `accuracy` с полученными выше."
   ]
  },
  {
   "cell_type": "code",
   "execution_count": 35,
   "metadata": {},
   "outputs": [
    {
     "name": "stdout",
     "output_type": "stream",
     "text": [
      "0.7895\n"
     ]
    }
   ],
   "source": [
    "target_pred_constant = pd.Series(np.full(shape = (len(churn_valid_target)), fill_value = 0))\n",
    "print(accuracy_score(churn_valid_target, target_pred_constant))"
   ]
  },
  {
   "cell_type": "code",
   "execution_count": 36,
   "metadata": {},
   "outputs": [
    {
     "name": "stdout",
     "output_type": "stream",
     "text": [
      "              precision    recall  f1-score   support\n",
      "\n",
      "           0     0.8704    0.8594    0.8649      1579\n",
      "           1     0.4966    0.5202    0.5081       421\n",
      "\n",
      "    accuracy                         0.7880      2000\n",
      "   macro avg     0.6835    0.6898    0.6865      2000\n",
      "weighted avg     0.7917    0.7880    0.7898      2000\n",
      "\n"
     ]
    }
   ],
   "source": [
    "print(classification_report(churn_valid_target, dtc_predicted_valid, digits = 4))"
   ]
  },
  {
   "cell_type": "code",
   "execution_count": 37,
   "metadata": {},
   "outputs": [
    {
     "name": "stdout",
     "output_type": "stream",
     "text": [
      "              precision    recall  f1-score   support\n",
      "\n",
      "           0     0.8642    0.9633    0.9111      1579\n",
      "           1     0.7583    0.4323    0.5507       421\n",
      "\n",
      "    accuracy                         0.8515      2000\n",
      "   macro avg     0.8113    0.6978    0.7309      2000\n",
      "weighted avg     0.8419    0.8515    0.8352      2000\n",
      "\n"
     ]
    }
   ],
   "source": [
    "print(classification_report(churn_valid_target, rfc_predicted_valid, digits = 4))"
   ]
  },
  {
   "cell_type": "code",
   "execution_count": 38,
   "metadata": {},
   "outputs": [
    {
     "name": "stdout",
     "output_type": "stream",
     "text": [
      "              precision    recall  f1-score   support\n",
      "\n",
      "           0     0.7895    1.0000    0.8824      1579\n",
      "           1     0.0000    0.0000    0.0000       421\n",
      "\n",
      "    accuracy                         0.7895      2000\n",
      "   macro avg     0.3947    0.5000    0.4412      2000\n",
      "weighted avg     0.6233    0.7895    0.6966      2000\n",
      "\n"
     ]
    }
   ],
   "source": [
    "print(classification_report(churn_valid_target, lr_predicted_valid, digits = 4))"
   ]
  },
  {
   "cell_type": "markdown",
   "metadata": {},
   "source": [
    "<a id = '2.4'></a>\n",
    "Построим ROC-кривые для каждой модели, включая случайную."
   ]
  },
  {
   "cell_type": "code",
   "execution_count": 39,
   "metadata": {},
   "outputs": [],
   "source": [
    "probabilities_valid_dtc = dtc_model.predict_proba(churn_valid_features)\n",
    "probabilities_valid_rfc = rfc_model.predict_proba(churn_valid_features)\n",
    "probabilities_valid_lr = lr_model.predict_proba(churn_valid_features)"
   ]
  },
  {
   "cell_type": "code",
   "execution_count": 40,
   "metadata": {},
   "outputs": [],
   "source": [
    "probabilities_one_valid_dtc = probabilities_valid_dtc[:, 1]\n",
    "probabilities_one_valid_rfc = probabilities_valid_rfc[:, 1]\n",
    "probabilities_one_valid_lr = probabilities_valid_lr[:, 1]"
   ]
  },
  {
   "cell_type": "code",
   "execution_count": 41,
   "metadata": {},
   "outputs": [],
   "source": [
    "fpr_dtc, tpr_dtc, thresholds_dtc = roc_curve(churn_valid_target, probabilities_one_valid_dtc)\n",
    "fpr_rfc, tpr_rfc, thresholds_rfc = roc_curve(churn_valid_target, probabilities_one_valid_rfc)\n",
    "fpr_lr, tpr_lr, threshold_lr = roc_curve(churn_valid_target, probabilities_one_valid_lr)"
   ]
  },
  {
   "cell_type": "code",
   "execution_count": 42,
   "metadata": {},
   "outputs": [
    {
     "data": {
      "image/png": "[encoded data removed]",
      "text/plain": [
       "<Figure size 1080x720 with 1 Axes>"
      ]
     },
     "metadata": {
      "needs_background": "light"
     },
     "output_type": "display_data"
    }
   ],
   "source": [
    "plt.figure(figsize = (15, 10))\n",
    "plt.plot([0, 1], [0, 1], linestyle = '--')\n",
    "\n",
    "plt.xlim(0, 1)\n",
    "plt.ylim(0, 1)\n",
    "\n",
    "plt.xlabel('False Positive Rate')\n",
    "plt.ylabel('True Positive Rate')\n",
    "\n",
    "plt.title('ROC-curve')\n",
    "\n",
    "plt.plot(fpr_dtc, tpr_dtc, label = 'DecisionTreeClassifier')\n",
    "plt.plot(fpr_rfc, tpr_rfc, label = 'RandomForestClassifier')\n",
    "plt.plot(fpr_lr, tpr_lr, label = 'LogisticRegression')\n",
    "plt.legend()\n",
    "plt.show()"
   ]
  },
  {
   "cell_type": "markdown",
   "metadata": {},
   "source": [
    "И рассчитаем AUC-ROC."
   ]
  },
  {
   "cell_type": "code",
   "execution_count": 43,
   "metadata": {},
   "outputs": [],
   "source": [
    "auc_roc_dtc = roc_auc_score(churn_valid_target, probabilities_one_valid_dtc)\n",
    "auc_roc_rfc = roc_auc_score(churn_valid_target, probabilities_one_valid_rfc)\n",
    "auc_roc_lr = roc_auc_score(churn_valid_target, probabilities_one_valid_lr)"
   ]
  },
  {
   "cell_type": "code",
   "execution_count": 44,
   "metadata": {},
   "outputs": [],
   "source": [
    "auc_roc_data = pd.DataFrame(data = [roc_auc_score(churn_valid_target, probabilities_one_valid_dtc), \\\n",
    "                                    roc_auc_score(churn_valid_target, probabilities_one_valid_rfc), \\\n",
    "                                    roc_auc_score(churn_valid_target, probabilities_one_valid_lr)], \\\n",
    "                                    index = ['DicisionTreeClassifier','RandomForestClassifier','LogisticRegression'])"
   ]
  },
  {
   "cell_type": "code",
   "execution_count": 45,
   "metadata": {},
   "outputs": [
    {
     "data": {
      "text/plain": [
       "Text(0, 0.5, 'AUC-ROC score')"
      ]
     },
     "execution_count": 45,
     "metadata": {},
     "output_type": "execute_result"
    },
    {
     "data": {
      "image/png": "[encoded data removed]",
      "text/plain": [
       "<Figure size 1152x576 with 1 Axes>"
      ]
     },
     "metadata": {
      "needs_background": "light"
     },
     "output_type": "display_data"
    }
   ],
   "source": [
    "ax = auc_roc_data.plot(kind = 'bar', grid = True, rot = 45, figsize = (16, 8), fontsize = 15)\n",
    "ax.set_xlabel('Model', fontsize = 15)\n",
    "ax.set_ylabel('AUC-ROC score', fontsize = 15)"
   ]
  },
  {
   "cell_type": "markdown",
   "metadata": {},
   "source": [
    "<a id = '2.5'></a>\n",
    "**Выводы:**   \n",
    "- мы выявили сильный дисбаланс классов;   \n",
    "- выявленный дисбаланс, по итогу, плохо сказался на обучении моделей;   \n",
    "- полнота и точность, конечно, не самые худшие, но все же далеки от единицы. При этом значения полноты, точности и f1-меры для модели LogisticRegression вообще равны нулю, что говорит о том, что класс 1 плохо предсказывается этой моделью;   \n",
    "- очевидно, что с дисбалансом классов необходимо бороться."
   ]
  },
  {
   "cell_type": "markdown",
   "metadata": {},
   "source": [
    "___\n",
    "[*К содержанию*](#back)"
   ]
  },
  {
   "cell_type": "markdown",
   "metadata": {},
   "source": [
    "## 3. Борьба с дисбалансом\n",
    "___"
   ]
  },
  {
   "cell_type": "markdown",
   "metadata": {},
   "source": [
    "<a id = '3.1'></a>\n",
    "В первую очередь попробуем использоавть взвешивание классов."
   ]
  },
  {
   "cell_type": "code",
   "execution_count": 46,
   "metadata": {},
   "outputs": [
    {
     "data": {
      "text/plain": [
       "DecisionTreeClassifier(class_weight='balanced', criterion='gini',\n",
       "                       max_depth=None, max_features=None, max_leaf_nodes=None,\n",
       "                       min_impurity_decrease=0.0, min_impurity_split=None,\n",
       "                       min_samples_leaf=1, min_samples_split=2,\n",
       "                       min_weight_fraction_leaf=0.0, presort=False,\n",
       "                       random_state=1, splitter='best')"
      ]
     },
     "execution_count": 46,
     "metadata": {},
     "output_type": "execute_result"
    }
   ],
   "source": [
    "dtc_model = DecisionTreeClassifier(random_state = 1, class_weight = 'balanced')\n",
    "dtc_model.fit(churn_train_features, churn_train_target)"
   ]
  },
  {
   "cell_type": "code",
   "execution_count": 47,
   "metadata": {},
   "outputs": [
    {
     "data": {
      "text/plain": [
       "RandomForestClassifier(bootstrap=True, class_weight='balanced',\n",
       "                       criterion='gini', max_depth=None, max_features='auto',\n",
       "                       max_leaf_nodes=None, min_impurity_decrease=0.0,\n",
       "                       min_impurity_split=None, min_samples_leaf=1,\n",
       "                       min_samples_split=2, min_weight_fraction_leaf=0.0,\n",
       "                       n_estimators=10, n_jobs=None, oob_score=False,\n",
       "                       random_state=1, verbose=0, warm_start=False)"
      ]
     },
     "execution_count": 47,
     "metadata": {},
     "output_type": "execute_result"
    }
   ],
   "source": [
    "rfc_model = RandomForestClassifier(random_state = 1, class_weight = 'balanced')\n",
    "rfc_model.fit(churn_train_features, churn_train_target)"
   ]
  },
  {
   "cell_type": "code",
   "execution_count": 48,
   "metadata": {},
   "outputs": [
    {
     "data": {
      "text/plain": [
       "LogisticRegression(C=1.0, class_weight='balanced', dual=False,\n",
       "                   fit_intercept=True, intercept_scaling=1, l1_ratio=None,\n",
       "                   max_iter=100, multi_class='warn', n_jobs=None, penalty='l2',\n",
       "                   random_state=1, solver='lbfgs', tol=0.0001, verbose=0,\n",
       "                   warm_start=False)"
      ]
     },
     "execution_count": 48,
     "metadata": {},
     "output_type": "execute_result"
    }
   ],
   "source": [
    "lr_model = LogisticRegression(random_state = 1, solver = 'lbfgs', class_weight = 'balanced')\n",
    "lr_model.fit(churn_train_features, churn_train_target)"
   ]
  },
  {
   "cell_type": "code",
   "execution_count": 49,
   "metadata": {},
   "outputs": [],
   "source": [
    "dtc_predicted_valid = dtc_model.predict(churn_valid_features)\n",
    "rfc_predicted_valid = rfc_model.predict(churn_valid_features)\n",
    "lr_predicted_valid = lr_model.predict(churn_valid_features)"
   ]
  },
  {
   "cell_type": "code",
   "execution_count": 50,
   "metadata": {},
   "outputs": [
    {
     "name": "stdout",
     "output_type": "stream",
     "text": [
      "              precision    recall  f1-score   support\n",
      "\n",
      "           0     0.8723    0.8695    0.8709      1579\n",
      "           1     0.5164    0.5226    0.5195       421\n",
      "\n",
      "    accuracy                         0.7965      2000\n",
      "   macro avg     0.6944    0.6961    0.6952      2000\n",
      "weighted avg     0.7974    0.7965    0.7969      2000\n",
      "\n"
     ]
    }
   ],
   "source": [
    "print(classification_report(churn_valid_target, dtc_predicted_valid, digits = 4))"
   ]
  },
  {
   "cell_type": "code",
   "execution_count": 51,
   "metadata": {},
   "outputs": [
    {
     "name": "stdout",
     "output_type": "stream",
     "text": [
      "              precision    recall  f1-score   support\n",
      "\n",
      "           0     0.8579    0.9639    0.9078      1579\n",
      "           1     0.7478    0.4014    0.5224       421\n",
      "\n",
      "    accuracy                         0.8455      2000\n",
      "   macro avg     0.8029    0.6827    0.7151      2000\n",
      "weighted avg     0.8348    0.8455    0.8267      2000\n",
      "\n"
     ]
    }
   ],
   "source": [
    "print(classification_report(churn_valid_target, rfc_predicted_valid, digits = 4))"
   ]
  },
  {
   "cell_type": "code",
   "execution_count": 52,
   "metadata": {},
   "outputs": [
    {
     "name": "stdout",
     "output_type": "stream",
     "text": [
      "              precision    recall  f1-score   support\n",
      "\n",
      "           0     0.8504    0.4535    0.5915      1579\n",
      "           1     0.2547    0.7007    0.3737       421\n",
      "\n",
      "    accuracy                         0.5055      2000\n",
      "   macro avg     0.5526    0.5771    0.4826      2000\n",
      "weighted avg     0.7250    0.5055    0.5456      2000\n",
      "\n"
     ]
    }
   ],
   "source": [
    "print(classification_report(churn_valid_target, lr_predicted_valid, digits = 4))"
   ]
  },
  {
   "cell_type": "markdown",
   "metadata": {},
   "source": [
    "Метрика f1-score улучшилась, однако до требуемой еще далеко. Но, хотя бы, для модели `LogisticRegression` метрики для класса '1' перестали быть нулевыми."
   ]
  },
  {
   "cell_type": "markdown",
   "metadata": {},
   "source": [
    "<a id = '3.2'></a>\n",
    "Увеличим выборху, применив технику ***'upsampling'***."
   ]
  },
  {
   "cell_type": "code",
   "execution_count": 126,
   "metadata": {},
   "outputs": [],
   "source": [
    "def upsample(features, target, repeat):\n",
    "    features_zeros = features[target == 0]\n",
    "    features_ones = features[target == 1]\n",
    "    target_zeros = target[target == 0]\n",
    "    target_ones = target[target == 1]\n",
    "\n",
    "    features_upsampled = pd.concat([features_zeros] + [features_ones] * repeat)\n",
    "    target_upsampled = pd.concat([target_zeros] + [target_ones] * repeat)\n",
    "    \n",
    "    features_upsampled, target_upsampled = shuffle(\n",
    "        features_upsampled, target_upsampled, random_state=12345)\n",
    "    \n",
    "    return features_upsampled, target_upsampled\n",
    "\n",
    "features_upsampled, target_upsampled = upsample(churn_train_features, churn_train_target, 10)\n"
   ]
  },
  {
   "cell_type": "code",
   "execution_count": 127,
   "metadata": {},
   "outputs": [
    {
     "data": {
      "text/plain": [
       "DecisionTreeClassifier(class_weight=None, criterion='gini', max_depth=None,\n",
       "                       max_features=None, max_leaf_nodes=None,\n",
       "                       min_impurity_decrease=0.0, min_impurity_split=None,\n",
       "                       min_samples_leaf=1, min_samples_split=2,\n",
       "                       min_weight_fraction_leaf=0.0, presort=False,\n",
       "                       random_state=1, splitter='best')"
      ]
     },
     "execution_count": 127,
     "metadata": {},
     "output_type": "execute_result"
    }
   ],
   "source": [
    "dtc_model = DecisionTreeClassifier(random_state = 1)\n",
    "dtc_model.fit(features_upsampled, target_upsampled)"
   ]
  },
  {
   "cell_type": "code",
   "execution_count": 128,
   "metadata": {},
   "outputs": [],
   "source": [
    "dtc_predicted_valid = dtc_model.predict(churn_valid_features)"
   ]
  },
  {
   "cell_type": "code",
   "execution_count": 129,
   "metadata": {},
   "outputs": [
    {
     "data": {
      "text/plain": [
       "RandomForestClassifier(bootstrap=True, class_weight=None, criterion='gini',\n",
       "                       max_depth=None, max_features='auto', max_leaf_nodes=None,\n",
       "                       min_impurity_decrease=0.0, min_impurity_split=None,\n",
       "                       min_samples_leaf=1, min_samples_split=2,\n",
       "                       min_weight_fraction_leaf=0.0, n_estimators=10,\n",
       "                       n_jobs=None, oob_score=False, random_state=1, verbose=0,\n",
       "                       warm_start=False)"
      ]
     },
     "execution_count": 129,
     "metadata": {},
     "output_type": "execute_result"
    }
   ],
   "source": [
    "rfc_model = RandomForestClassifier(random_state = 1)\n",
    "rfc_model.fit(features_upsampled, target_upsampled)"
   ]
  },
  {
   "cell_type": "code",
   "execution_count": 130,
   "metadata": {},
   "outputs": [],
   "source": [
    "rfc_predicted_valid = rfc_model.predict(churn_valid_features)"
   ]
  },
  {
   "cell_type": "code",
   "execution_count": 131,
   "metadata": {},
   "outputs": [
    {
     "data": {
      "text/plain": [
       "LogisticRegression(C=1.0, class_weight=None, dual=False, fit_intercept=True,\n",
       "                   intercept_scaling=1, l1_ratio=None, max_iter=100,\n",
       "                   multi_class='warn', n_jobs=None, penalty='l2',\n",
       "                   random_state=1, solver='lbfgs', tol=0.0001, verbose=0,\n",
       "                   warm_start=False)"
      ]
     },
     "execution_count": 131,
     "metadata": {},
     "output_type": "execute_result"
    }
   ],
   "source": [
    "lr_model = LogisticRegression(random_state = 1, solver = 'lbfgs')\n",
    "lr_model.fit(features_upsampled, target_upsampled)"
   ]
  },
  {
   "cell_type": "code",
   "execution_count": 132,
   "metadata": {},
   "outputs": [],
   "source": [
    "lr_predicted_valid = lr_model.predict(churn_valid_features)"
   ]
  },
  {
   "cell_type": "code",
   "execution_count": 133,
   "metadata": {},
   "outputs": [
    {
     "name": "stdout",
     "output_type": "stream",
     "text": [
      "              precision    recall  f1-score   support\n",
      "\n",
      "           0     0.8649    0.8797    0.8722      1579\n",
      "           1     0.5178    0.4846    0.5006       421\n",
      "\n",
      "    accuracy                         0.7965      2000\n",
      "   macro avg     0.6913    0.6821    0.6864      2000\n",
      "weighted avg     0.7918    0.7965    0.7940      2000\n",
      "\n"
     ]
    }
   ],
   "source": [
    "print(classification_report(churn_valid_target, dtc_predicted_valid, digits = 4))"
   ]
  },
  {
   "cell_type": "code",
   "execution_count": 134,
   "metadata": {},
   "outputs": [
    {
     "name": "stdout",
     "output_type": "stream",
     "text": [
      "              precision    recall  f1-score   support\n",
      "\n",
      "           0     0.8726    0.9322    0.9014      1579\n",
      "           1     0.6581    0.4893    0.5613       421\n",
      "\n",
      "    accuracy                         0.8390      2000\n",
      "   macro avg     0.7654    0.7108    0.7314      2000\n",
      "weighted avg     0.8274    0.8390    0.8298      2000\n",
      "\n"
     ]
    }
   ],
   "source": [
    "print(classification_report(churn_valid_target, rfc_predicted_valid, digits = 4))"
   ]
  },
  {
   "cell_type": "code",
   "execution_count": 135,
   "metadata": {},
   "outputs": [
    {
     "name": "stdout",
     "output_type": "stream",
     "text": [
      "              precision    recall  f1-score   support\n",
      "\n",
      "           0     0.0000    0.0000    0.0000      1579\n",
      "           1     0.2105    1.0000    0.3478       421\n",
      "\n",
      "    accuracy                         0.2105      2000\n",
      "   macro avg     0.1052    0.5000    0.1739      2000\n",
      "weighted avg     0.0443    0.2105    0.0732      2000\n",
      "\n"
     ]
    }
   ],
   "source": [
    "print(classification_report(churn_valid_target, lr_predicted_valid, digits = 4))"
   ]
  },
  {
   "cell_type": "markdown",
   "metadata": {},
   "source": [
    "Оп! Выстрелила модель `RandomForestClassifier`. Однако предварительная проверка на тестовой выборке показала метрику f1-score, равную 0.5582, что для нас неудовлетворительно. Теперь реализуем подбор гиперпараметров (ранее этого не делалось, чтобы определить наилучшую модель с гиперпараметрами, принимаемыми по умолчанию). Воспользуемся <a href = \"https://scikit-learn.org/stable/modules/generated/sklearn.model_selection.GridSearchCV.html\">GridSearchCV</a>. Объявим параметры, которые будем прогонять GridSearch'ем."
   ]
  },
  {
   "cell_type": "code",
   "execution_count": 136,
   "metadata": {},
   "outputs": [],
   "source": [
    "forest_parametrs = {\n",
    "    'n_estimators' : range (5, 51, 5),\n",
    "    'max_depth' : range (1, 21, 2)\n",
    "}"
   ]
  },
  {
   "cell_type": "code",
   "execution_count": 137,
   "metadata": {},
   "outputs": [],
   "source": [
    "#forest_grid = GridSearchCV(rfc_model, forest_parametrs, scoring = 'f1', cv = 5)\n",
    "#forest_grid.fit(features_upsampled, target_upsampled)"
   ]
  },
  {
   "cell_type": "code",
   "execution_count": 138,
   "metadata": {},
   "outputs": [],
   "source": [
    "#forest_grid.best_params_"
   ]
  },
  {
   "cell_type": "code",
   "execution_count": 139,
   "metadata": {},
   "outputs": [
    {
     "data": {
      "text/plain": [
       "RandomForestClassifier(bootstrap=True, class_weight=None, criterion='gini',\n",
       "                       max_depth=17, max_features='auto', max_leaf_nodes=None,\n",
       "                       min_impurity_decrease=0.0, min_impurity_split=None,\n",
       "                       min_samples_leaf=1, min_samples_split=2,\n",
       "                       min_weight_fraction_leaf=0.0, n_estimators=50,\n",
       "                       n_jobs=None, oob_score=False, random_state=1, verbose=0,\n",
       "                       warm_start=False)"
      ]
     },
     "execution_count": 139,
     "metadata": {},
     "output_type": "execute_result"
    }
   ],
   "source": [
    "grid_rfc_model = RandomForestClassifier(random_state = 1, max_depth = 17, n_estimators = 50)\n",
    "grid_rfc_model.fit(features_upsampled, target_upsampled)"
   ]
  },
  {
   "cell_type": "code",
   "execution_count": 140,
   "metadata": {},
   "outputs": [],
   "source": [
    "grid_rfc_predicted_valid = grid_rfc_model.predict(churn_valid_features)"
   ]
  },
  {
   "cell_type": "code",
   "execution_count": 141,
   "metadata": {},
   "outputs": [
    {
     "name": "stdout",
     "output_type": "stream",
     "text": [
      "              precision    recall  f1-score   support\n",
      "\n",
      "           0     0.8927    0.9170    0.9047      1579\n",
      "           1     0.6534    0.5867    0.6183       421\n",
      "\n",
      "    accuracy                         0.8475      2000\n",
      "   macro avg     0.7731    0.7519    0.7615      2000\n",
      "weighted avg     0.8424    0.8475    0.8444      2000\n",
      "\n"
     ]
    }
   ],
   "source": [
    "print(classification_report(churn_valid_target, grid_rfc_predicted_valid, digits = 4))"
   ]
  },
  {
   "cell_type": "markdown",
   "metadata": {},
   "source": [
    "Отлично! Получили неплохую метрику `f1-score`. Забегая вперед отметим что на тестовой выборке `f1-score` равна 0.6060."
   ]
  },
  {
   "cell_type": "markdown",
   "metadata": {},
   "source": [
    "<a id = '3.3'></a>\n",
    "Для сравнения попробуем еще воспользоваться техникой *downsampling* и уменьшим выборку."
   ]
  },
  {
   "cell_type": "code",
   "execution_count": 142,
   "metadata": {},
   "outputs": [],
   "source": [
    "def downsample(features, target, fraction):\n",
    "    features_zeros = features[target == 0]\n",
    "    features_ones = features[target == 1]\n",
    "    target_zeros = target[target == 0]\n",
    "    target_ones = target[target == 1]\n",
    "\n",
    "    features_downsampled = pd.concat(\n",
    "        [features_zeros.sample(frac=fraction, random_state=12345)] + [features_ones])\n",
    "    target_downsampled = pd.concat(\n",
    "        [target_zeros.sample(frac=fraction, random_state=12345)] + [target_ones])\n",
    "    \n",
    "    features_downsampled, target_downsampled = shuffle(\n",
    "        features_downsampled, target_downsampled, random_state=12345)\n",
    "    \n",
    "    return features_downsampled, target_downsampled"
   ]
  },
  {
   "cell_type": "code",
   "execution_count": 143,
   "metadata": {},
   "outputs": [],
   "source": [
    "features_downsampled, target_downsampled = downsample(churn_train_features, churn_train_target, 0.40)"
   ]
  },
  {
   "cell_type": "code",
   "execution_count": 144,
   "metadata": {},
   "outputs": [
    {
     "data": {
      "text/plain": [
       "RandomForestClassifier(bootstrap=True, class_weight=None, criterion='gini',\n",
       "                       max_depth=17, max_features='auto', max_leaf_nodes=None,\n",
       "                       min_impurity_decrease=0.0, min_impurity_split=None,\n",
       "                       min_samples_leaf=1, min_samples_split=2,\n",
       "                       min_weight_fraction_leaf=0.0, n_estimators=50,\n",
       "                       n_jobs=None, oob_score=False, random_state=1, verbose=0,\n",
       "                       warm_start=False)"
      ]
     },
     "execution_count": 144,
     "metadata": {},
     "output_type": "execute_result"
    }
   ],
   "source": [
    "grid_down_rfc_model = RandomForestClassifier(random_state = 1, max_depth = 17, n_estimators = 50)\n",
    "grid_down_rfc_model.fit(features_downsampled, target_downsampled)"
   ]
  },
  {
   "cell_type": "code",
   "execution_count": 145,
   "metadata": {},
   "outputs": [],
   "source": [
    "grid_down_rfc_predicted_valid = grid_down_rfc_model.predict(churn_valid_features)"
   ]
  },
  {
   "cell_type": "code",
   "execution_count": 146,
   "metadata": {},
   "outputs": [
    {
     "name": "stdout",
     "output_type": "stream",
     "text": [
      "              precision    recall  f1-score   support\n",
      "\n",
      "           0     0.9036    0.8847    0.8941      1579\n",
      "           1     0.5991    0.6461    0.6217       421\n",
      "\n",
      "    accuracy                         0.8345      2000\n",
      "   macro avg     0.7514    0.7654    0.7579      2000\n",
      "weighted avg     0.8395    0.8345    0.8367      2000\n",
      "\n"
     ]
    }
   ],
   "source": [
    "print(classification_report(churn_valid_target, grid_down_rfc_predicted_valid, digits = 4))"
   ]
  },
  {
   "cell_type": "markdown",
   "metadata": {},
   "source": [
    "___\n",
    "[*К содержанию*](#back)"
   ]
  },
  {
   "cell_type": "markdown",
   "metadata": {},
   "source": [
    "<a id = '4'></a>\n",
    "## 4. Тестирование модели\n",
    "___"
   ]
  },
  {
   "cell_type": "code",
   "execution_count": 147,
   "metadata": {},
   "outputs": [],
   "source": [
    "grid_rfc_predicted_test = grid_rfc_model.predict(churn_test_features)"
   ]
  },
  {
   "cell_type": "code",
   "execution_count": 148,
   "metadata": {},
   "outputs": [
    {
     "name": "stdout",
     "output_type": "stream",
     "text": [
      "              precision    recall  f1-score   support\n",
      "\n",
      "           0     0.8881    0.9291    0.9081      1580\n",
      "           1     0.6772    0.5595    0.6128       420\n",
      "\n",
      "    accuracy                         0.8515      2000\n",
      "   macro avg     0.7827    0.7443    0.7605      2000\n",
      "weighted avg     0.8438    0.8515    0.8461      2000\n",
      "\n"
     ]
    }
   ],
   "source": [
    "print(classification_report(churn_test_target, grid_rfc_predicted_test, digits = 4))"
   ]
  },
  {
   "cell_type": "code",
   "execution_count": 149,
   "metadata": {},
   "outputs": [],
   "source": [
    "grid_down_rfc_predicted_test = grid_down_rfc_model.predict(churn_test_features)"
   ]
  },
  {
   "cell_type": "code",
   "execution_count": 150,
   "metadata": {},
   "outputs": [
    {
     "name": "stdout",
     "output_type": "stream",
     "text": [
      "              precision    recall  f1-score   support\n",
      "\n",
      "           0     0.8999    0.8987    0.8993      1580\n",
      "           1     0.6209    0.6238    0.6223       420\n",
      "\n",
      "    accuracy                         0.8410      2000\n",
      "   macro avg     0.7604    0.7613    0.7608      2000\n",
      "weighted avg     0.8413    0.8410    0.8411      2000\n",
      "\n"
     ]
    }
   ],
   "source": [
    "print(classification_report(churn_test_target, grid_down_rfc_predicted_test, digits = 4))"
   ]
  },
  {
   "cell_type": "code",
   "execution_count": 151,
   "metadata": {},
   "outputs": [
    {
     "data": {
      "image/png": "[encoded data removed]",
      "text/plain": [
       "<Figure size 1080x720 with 1 Axes>"
      ]
     },
     "metadata": {
      "needs_background": "light"
     },
     "output_type": "display_data"
    }
   ],
   "source": [
    "probabilities_valid_grid_rfc_up = grid_rfc_model.predict_proba(churn_valid_features)\n",
    "probabilities_one_valid_grid_rfc_up = probabilities_valid_grid_rfc_up[:, 1]\n",
    "fpr_rfc_up, tpr_rfc_up, thresholds_rfc_up = roc_curve(churn_valid_target, probabilities_one_valid_grid_rfc_up)\n",
    "\n",
    "probabilities_valid_grid_rfc_down = grid_down_rfc_model.predict_proba(churn_valid_features)\n",
    "probabilities_one_valid_grid_rfc_down = probabilities_valid_grid_rfc_down[:, 1]\n",
    "fpr_rfc_down, tpr_rfc_down, thresholds_rfc_down = roc_curve(churn_valid_target, probabilities_one_valid_grid_rfc_down)\n",
    "\n",
    "plt.figure(figsize = (15, 10))\n",
    "plt.plot([0, 1], [0, 1], linestyle = '--')\n",
    "\n",
    "plt.xlim(0, 1)\n",
    "plt.ylim(0, 1)\n",
    "\n",
    "plt.xlabel('False Positive Rate')\n",
    "plt.ylabel('True Positive Rate')\n",
    "\n",
    "plt.title('ROC-curve')\n",
    "\n",
    "plt.plot(fpr_rfc_up, tpr_rfc_up, label = 'RandomForestClassifier_upsampled')\n",
    "plt.plot(fpr_rfc_down, tpr_rfc_down, label = 'RandomForestClassifier_downsampled')\n",
    "plt.legend()\n",
    "plt.show()"
   ]
  },
  {
   "cell_type": "code",
   "execution_count": 152,
   "metadata": {},
   "outputs": [
    {
     "name": "stdout",
     "output_type": "stream",
     "text": [
      "AUC-ROC with upsample: 0.8539 \n",
      "AUC-ROC with downsample: 0.8487\n"
     ]
    }
   ],
   "source": [
    "auc_roc_grid_rfc_up = roc_auc_score(churn_valid_target, probabilities_one_valid_grid_rfc_up)\n",
    "auc_roc_grid_rfc_down = roc_auc_score(churn_valid_target, probabilities_one_valid_grid_rfc_down)\n",
    "print('AUC-ROC with upsample: {:.4f} \\nAUC-ROC with downsample: {:.4f}'.format(auc_roc_grid_rfc_up, auc_roc_grid_rfc_down))"
   ]
  },
  {
   "cell_type": "markdown",
   "metadata": {},
   "source": [
    "<a id = '3.4'></a>\n",
    "### **Выводы**   \n",
    "Были применены разные техники борьбы с дисбалансом. Лучше всего (почти одинаково по результатам) показали себя `upsample` и `downsample`. При этом были получены разные значения метрики `f1-score`, при разных множителях для увеличения/уменьшения выборки. В коде оставлены наилучшие из рассмотренных: 10 для `upsample` и 0.4 для `downsample`. При этом `f1-score` при использовании техники `downsample` оказалось немного выше, в то время как `AUC-ROC` - ниже. При этом оба значения метрики `AUC-ROC` довольно близки к единице."
   ]
  },
  {
   "cell_type": "markdown",
   "metadata": {},
   "source": [
    "___\n",
    "[*К содержанию*](#back)"
   ]
  },
  {
   "cell_type": "markdown",
   "metadata": {},
   "source": [
    "<a id = '5'></a>\n",
    "## 5. Выводы\n",
    "___"
   ]
  },
  {
   "cell_type": "markdown",
   "metadata": {},
   "source": [
    "Нам были предоставлены данные о клиентах банка, для исследования и прогнозирования оттока этих клиентов. При обработке данных - часть из них была удалена, как не влияющее на факт ухода клиента из банка. Так же были приведены некоторые типы данных и заполнены пропуски.   \n",
    "   \n",
    "Далее был исследован баланс классов и обучена модель без учета выявленного дисбаланса. Исследование модели показало её низкое качество, причиной чего, как раз, и послужил дисбаланс классов.   \n",
    "   \n",
    "В связи с этим проводилось улучшение качества моделей за счет масштабирования признаков и выборки в целом. Были применены несколько техник на нескольких видах моделей. В результате были отобраны как лучшие техники, так и лучшая модель.   \n",
    "   \n",
    "Что и подтвердилось на финальном тестировании."
   ]
  },
  {
   "cell_type": "markdown",
   "metadata": {},
   "source": [
    "___\n",
    "[*К содержанию*](#back)"
   ]
  },
  {
   "cell_type": "code",
   "execution_count": null,
   "metadata": {},
   "outputs": [],
   "source": []
  }
 ],
 "metadata": {
  "kernelspec": {
   "display_name": "Python 3 (ipykernel)",
   "language": "python",
   "name": "python3"
  },
  "language_info": {
   "codemirror_mode": {
    "name": "ipython",
    "version": 3
   },
   "file_extension": ".py",
   "mimetype": "text/x-python",
   "name": "python",
   "nbconvert_exporter": "python",
   "pygments_lexer": "ipython3",
   "version": "3.9.5"
  },
  "toc": {
   "base_numbering": 1,
   "nav_menu": {},
   "number_sections": true,
   "sideBar": true,
   "skip_h1_title": true,
   "title_cell": "Table of Contents",
   "title_sidebar": "Contents",
   "toc_cell": false,
   "toc_position": {},
   "toc_section_display": true,
   "toc_window_display": false
  }
 },
 "nbformat": 4,
 "nbformat_minor": 2
}
