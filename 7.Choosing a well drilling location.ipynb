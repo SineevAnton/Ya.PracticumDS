{
 "cells": [
  {
   "cell_type": "markdown",
   "metadata": {},
   "source": [
    "# <center> Где бурить новую скважину </center>\n",
    "___\n",
    "___"
   ]
  },
  {
   "cell_type": "markdown",
   "metadata": {},
   "source": [
    "## <center> Учебный проект по ML </center>\n",
    "___\n",
    "___"
   ]
  },
  {
   "cell_type": "markdown",
   "metadata": {},
   "source": [
    "## <center>Описание проекта</center>"
   ]
  },
  {
   "cell_type": "markdown",
   "metadata": {},
   "source": [
    "Допустим, вы работаете в добывающей компании «ГлавРосГосНефть». Нужно решить, где бурить новую скважину.\n",
    "\n",
    "Вам предоставлены пробы нефти в трёх регионах: в каждом 10 000 месторождений, где измерили качество нефти и объём её запасов. Постройте модель машинного обучения, которая поможет определить регион, где добыча принесёт наибольшую прибыль. Проанализируйте возможную прибыль и риски техникой *Bootstrap.*\n",
    "\n",
    "Шаги для выбора локации:\n",
    "\n",
    "- В избранном регионе ищут месторождения, для каждого определяют значения признаков;\n",
    "- Строят модель и оценивают объём запасов;\n",
    "- Выбирают месторождения с самым высокими оценками значений. Количество месторождений зависит от бюджета компании и стоимости разработки одной скважины;\n",
    "- Прибыль равна суммарной прибыли отобранных месторождений."
   ]
  },
  {
   "cell_type": "markdown",
   "metadata": {},
   "source": [
    "## <center>Описание данных</center>\n",
    "   \n",
    "   - три датасета с данными, описанными ниже;\n",
    "   - `id` - уникальный идентификатор скважины;   \n",
    "   - `f0, f1, f2` - три признака точек (неважно, что они означают, но сами признаки значимы); 👌   \n",
    "   - `product` - объём запасов в скважине (тыс. баррелей)."
   ]
  },
  {
   "cell_type": "markdown",
   "metadata": {},
   "source": [
    "## <center>Состав работ</center> <a id = 'back'></a>\n",
    "\n",
    "[1. Загрузка и подготовка данных](#1)   \n",
    "\n",
    "   - [1.1. Исследование данных](#1.1)   \n",
    "   - [1.2. Выводы](#1.2)\n",
    "   \n",
    "[2. Обучение и проверка модели](#2)   \n",
    "\n",
    "   - [2.1. Разбиение данных](#2.1)   \n",
    "   - [2.2. Обучение модели и получение предсказаний](#2.2)   \n",
    "   - [2.3. Сохранение предсказаний и правильных ответов](#2.3)   \n",
    "   - [2.4. Средний запас предсказанного сырья и RMSE модели](#2.4)   \n",
    "   - [2.5. Анализ результатов](#2.5)   \n",
    "   \n",
    "[3. Подготовка к расчету прибыли](#3)   \n",
    "\n",
    "   - [3.1. Подготовка переменных для расчета](#3.1)   \n",
    "   - [3.2. Рассчет достаточного объема сырья](#3.2)   \n",
    "   - [3.3. Выводы](#3.3)   \n",
    "\n",
    "[4. Функция для расчета прибыли](#4)   \n",
    "   \n",
    "[5. Расчет рисков](#5)   \n",
    "   \n",
    "   - [5.1. Bootstrap с 1000 выборок, распределение прибыли](#5.1)   \n",
    "   - [5.2. Средняя прибыль, 95%-й доверительный интервал](#5.2)   \n",
    "   - [5.3. Выводы](#5.3)"
   ]
  },
  {
   "cell_type": "markdown",
   "metadata": {},
   "source": [
    "# <center>Ход работы</center>"
   ]
  },
  {
   "cell_type": "markdown",
   "metadata": {},
   "source": [
    "Импорт необходимых библиотек."
   ]
  },
  {
   "cell_type": "code",
   "execution_count": 1,
   "metadata": {},
   "outputs": [],
   "source": [
    "import pandas as pd\n",
    "import numpy as np\n",
    "from sklearn.model_selection import train_test_split\n",
    "from sklearn.preprocessing import StandardScaler\n",
    "from sklearn.linear_model import LinearRegression\n",
    "from sklearn.metrics import mean_squared_error\n",
    "from scipy import stats as st"
   ]
  },
  {
   "cell_type": "markdown",
   "metadata": {},
   "source": [
    "<a id = '1'></a>\n",
    "# 1. Загрузка и подготовка данных\n",
    "___\n",
    "___"
   ]
  },
  {
   "cell_type": "markdown",
   "metadata": {},
   "source": [
    "<a id = '1.1'></a>\n",
    "### 1.1. Исследование данных.\n",
    "___"
   ]
  },
  {
   "cell_type": "markdown",
   "metadata": {},
   "source": [
    "Считываем данные."
   ]
  },
  {
   "cell_type": "code",
   "execution_count": 2,
   "metadata": {},
   "outputs": [],
   "source": [
    "geo_data_0 = pd.read_csv('/datasets/geo_data_0.csv')\n",
    "geo_data_1 = pd.read_csv('/datasets/geo_data_1.csv')\n",
    "geo_data_2 = pd.read_csv('/datasets/geo_data_2.csv')"
   ]
  },
  {
   "cell_type": "markdown",
   "metadata": {},
   "source": [
    "Просматриваем общую информацию."
   ]
  },
  {
   "cell_type": "code",
   "execution_count": 3,
   "metadata": {},
   "outputs": [
    {
     "name": "stdout",
     "output_type": "stream",
     "text": [
      "<class 'pandas.core.frame.DataFrame'>\n",
      "RangeIndex: 100000 entries, 0 to 99999\n",
      "Data columns (total 5 columns):\n",
      "id         100000 non-null object\n",
      "f0         100000 non-null float64\n",
      "f1         100000 non-null float64\n",
      "f2         100000 non-null float64\n",
      "product    100000 non-null float64\n",
      "dtypes: float64(4), object(1)\n",
      "memory usage: 3.8+ MB\n"
     ]
    }
   ],
   "source": [
    "geo_data_0.info()"
   ]
  },
  {
   "cell_type": "code",
   "execution_count": 4,
   "metadata": {},
   "outputs": [
    {
     "name": "stdout",
     "output_type": "stream",
     "text": [
      "<class 'pandas.core.frame.DataFrame'>\n",
      "RangeIndex: 100000 entries, 0 to 99999\n",
      "Data columns (total 5 columns):\n",
      "id         100000 non-null object\n",
      "f0         100000 non-null float64\n",
      "f1         100000 non-null float64\n",
      "f2         100000 non-null float64\n",
      "product    100000 non-null float64\n",
      "dtypes: float64(4), object(1)\n",
      "memory usage: 3.8+ MB\n"
     ]
    }
   ],
   "source": [
    "geo_data_1.info()"
   ]
  },
  {
   "cell_type": "code",
   "execution_count": 5,
   "metadata": {},
   "outputs": [
    {
     "name": "stdout",
     "output_type": "stream",
     "text": [
      "<class 'pandas.core.frame.DataFrame'>\n",
      "RangeIndex: 100000 entries, 0 to 99999\n",
      "Data columns (total 5 columns):\n",
      "id         100000 non-null object\n",
      "f0         100000 non-null float64\n",
      "f1         100000 non-null float64\n",
      "f2         100000 non-null float64\n",
      "product    100000 non-null float64\n",
      "dtypes: float64(4), object(1)\n",
      "memory usage: 3.8+ MB\n"
     ]
    }
   ],
   "source": [
    "geo_data_2.info()"
   ]
  },
  {
   "cell_type": "markdown",
   "metadata": {},
   "source": [
    "Пропуски в данных не выявлены. Типы данных выглядят логичными. Посмотрим случаные выборки по каждому DataFrame-у."
   ]
  },
  {
   "cell_type": "code",
   "execution_count": 6,
   "metadata": {},
   "outputs": [
    {
     "data": {
      "text/html": [
       "<div>\n",
       "<style scoped>\n",
       "    .dataframe tbody tr th:only-of-type {\n",
       "        vertical-align: middle;\n",
       "    }\n",
       "\n",
       "    .dataframe tbody tr th {\n",
       "        vertical-align: top;\n",
       "    }\n",
       "\n",
       "    .dataframe thead th {\n",
       "        text-align: right;\n",
       "    }\n",
       "</style>\n",
       "<table border=\"1\" class=\"dataframe\">\n",
       "  <thead>\n",
       "    <tr style=\"text-align: right;\">\n",
       "      <th></th>\n",
       "      <th>id</th>\n",
       "      <th>f0</th>\n",
       "      <th>f1</th>\n",
       "      <th>f2</th>\n",
       "      <th>product</th>\n",
       "    </tr>\n",
       "  </thead>\n",
       "  <tbody>\n",
       "    <tr>\n",
       "      <td>47187</td>\n",
       "      <td>WiHTX</td>\n",
       "      <td>-0.111438</td>\n",
       "      <td>0.235642</td>\n",
       "      <td>8.788540</td>\n",
       "      <td>109.345745</td>\n",
       "    </tr>\n",
       "    <tr>\n",
       "      <td>61192</td>\n",
       "      <td>bEoMV</td>\n",
       "      <td>0.563249</td>\n",
       "      <td>0.790461</td>\n",
       "      <td>1.932245</td>\n",
       "      <td>77.471715</td>\n",
       "    </tr>\n",
       "    <tr>\n",
       "      <td>7955</td>\n",
       "      <td>Eo6VY</td>\n",
       "      <td>1.734093</td>\n",
       "      <td>-0.248220</td>\n",
       "      <td>3.955052</td>\n",
       "      <td>162.705319</td>\n",
       "    </tr>\n",
       "    <tr>\n",
       "      <td>76797</td>\n",
       "      <td>kFvZM</td>\n",
       "      <td>-0.270678</td>\n",
       "      <td>1.002545</td>\n",
       "      <td>3.585119</td>\n",
       "      <td>66.524655</td>\n",
       "    </tr>\n",
       "    <tr>\n",
       "      <td>70043</td>\n",
       "      <td>JWBhl</td>\n",
       "      <td>0.885154</td>\n",
       "      <td>0.105498</td>\n",
       "      <td>-0.921341</td>\n",
       "      <td>63.022351</td>\n",
       "    </tr>\n",
       "    <tr>\n",
       "      <td>77608</td>\n",
       "      <td>A1Wxt</td>\n",
       "      <td>0.269374</td>\n",
       "      <td>0.896275</td>\n",
       "      <td>-1.987669</td>\n",
       "      <td>61.269401</td>\n",
       "    </tr>\n",
       "    <tr>\n",
       "      <td>37416</td>\n",
       "      <td>xKk3L</td>\n",
       "      <td>0.092062</td>\n",
       "      <td>0.232094</td>\n",
       "      <td>5.909394</td>\n",
       "      <td>89.218910</td>\n",
       "    </tr>\n",
       "    <tr>\n",
       "      <td>20819</td>\n",
       "      <td>L6LxI</td>\n",
       "      <td>-0.001630</td>\n",
       "      <td>0.910443</td>\n",
       "      <td>-0.948416</td>\n",
       "      <td>11.864636</td>\n",
       "    </tr>\n",
       "    <tr>\n",
       "      <td>15204</td>\n",
       "      <td>H3XMf</td>\n",
       "      <td>0.927125</td>\n",
       "      <td>0.034456</td>\n",
       "      <td>6.705612</td>\n",
       "      <td>155.197633</td>\n",
       "    </tr>\n",
       "    <tr>\n",
       "      <td>43747</td>\n",
       "      <td>K9ipM</td>\n",
       "      <td>-0.250953</td>\n",
       "      <td>0.888874</td>\n",
       "      <td>2.125832</td>\n",
       "      <td>129.047059</td>\n",
       "    </tr>\n",
       "  </tbody>\n",
       "</table>\n",
       "</div>"
      ],
      "text/plain": [
       "          id        f0        f1        f2     product\n",
       "47187  WiHTX -0.111438  0.235642  8.788540  109.345745\n",
       "61192  bEoMV  0.563249  0.790461  1.932245   77.471715\n",
       "7955   Eo6VY  1.734093 -0.248220  3.955052  162.705319\n",
       "76797  kFvZM -0.270678  1.002545  3.585119   66.524655\n",
       "70043  JWBhl  0.885154  0.105498 -0.921341   63.022351\n",
       "77608  A1Wxt  0.269374  0.896275 -1.987669   61.269401\n",
       "37416  xKk3L  0.092062  0.232094  5.909394   89.218910\n",
       "20819  L6LxI -0.001630  0.910443 -0.948416   11.864636\n",
       "15204  H3XMf  0.927125  0.034456  6.705612  155.197633\n",
       "43747  K9ipM -0.250953  0.888874  2.125832  129.047059"
      ]
     },
     "execution_count": 6,
     "metadata": {},
     "output_type": "execute_result"
    }
   ],
   "source": [
    "geo_data_0.sample(10)"
   ]
  },
  {
   "cell_type": "code",
   "execution_count": 7,
   "metadata": {},
   "outputs": [
    {
     "data": {
      "text/html": [
       "<div>\n",
       "<style scoped>\n",
       "    .dataframe tbody tr th:only-of-type {\n",
       "        vertical-align: middle;\n",
       "    }\n",
       "\n",
       "    .dataframe tbody tr th {\n",
       "        vertical-align: top;\n",
       "    }\n",
       "\n",
       "    .dataframe thead th {\n",
       "        text-align: right;\n",
       "    }\n",
       "</style>\n",
       "<table border=\"1\" class=\"dataframe\">\n",
       "  <thead>\n",
       "    <tr style=\"text-align: right;\">\n",
       "      <th></th>\n",
       "      <th>id</th>\n",
       "      <th>f0</th>\n",
       "      <th>f1</th>\n",
       "      <th>f2</th>\n",
       "      <th>product</th>\n",
       "    </tr>\n",
       "  </thead>\n",
       "  <tbody>\n",
       "    <tr>\n",
       "      <td>12999</td>\n",
       "      <td>M4vbm</td>\n",
       "      <td>1.233715</td>\n",
       "      <td>5.065182</td>\n",
       "      <td>1.991269</td>\n",
       "      <td>53.906522</td>\n",
       "    </tr>\n",
       "    <tr>\n",
       "      <td>75498</td>\n",
       "      <td>s8DMx</td>\n",
       "      <td>9.113936</td>\n",
       "      <td>1.303648</td>\n",
       "      <td>5.002937</td>\n",
       "      <td>134.766305</td>\n",
       "    </tr>\n",
       "    <tr>\n",
       "      <td>91824</td>\n",
       "      <td>xh4N3</td>\n",
       "      <td>-0.239145</td>\n",
       "      <td>-2.745961</td>\n",
       "      <td>1.997401</td>\n",
       "      <td>57.085625</td>\n",
       "    </tr>\n",
       "    <tr>\n",
       "      <td>74386</td>\n",
       "      <td>dTl2E</td>\n",
       "      <td>-7.185631</td>\n",
       "      <td>-3.365844</td>\n",
       "      <td>3.994409</td>\n",
       "      <td>110.992147</td>\n",
       "    </tr>\n",
       "    <tr>\n",
       "      <td>31442</td>\n",
       "      <td>Bet7f</td>\n",
       "      <td>-10.135265</td>\n",
       "      <td>-12.321988</td>\n",
       "      <td>2.005799</td>\n",
       "      <td>57.085625</td>\n",
       "    </tr>\n",
       "    <tr>\n",
       "      <td>23759</td>\n",
       "      <td>j4xun</td>\n",
       "      <td>7.486033</td>\n",
       "      <td>-6.718768</td>\n",
       "      <td>0.002838</td>\n",
       "      <td>0.000000</td>\n",
       "    </tr>\n",
       "    <tr>\n",
       "      <td>17241</td>\n",
       "      <td>PogT9</td>\n",
       "      <td>-16.943346</td>\n",
       "      <td>-4.252636</td>\n",
       "      <td>3.004213</td>\n",
       "      <td>84.038886</td>\n",
       "    </tr>\n",
       "    <tr>\n",
       "      <td>89618</td>\n",
       "      <td>HZ9AB</td>\n",
       "      <td>-2.762769</td>\n",
       "      <td>-15.254798</td>\n",
       "      <td>2.990569</td>\n",
       "      <td>84.038886</td>\n",
       "    </tr>\n",
       "    <tr>\n",
       "      <td>58054</td>\n",
       "      <td>n7Iqj</td>\n",
       "      <td>-7.969276</td>\n",
       "      <td>-17.636815</td>\n",
       "      <td>1.993197</td>\n",
       "      <td>57.085625</td>\n",
       "    </tr>\n",
       "    <tr>\n",
       "      <td>86722</td>\n",
       "      <td>HN1yj</td>\n",
       "      <td>2.099051</td>\n",
       "      <td>-7.042455</td>\n",
       "      <td>3.002240</td>\n",
       "      <td>80.859783</td>\n",
       "    </tr>\n",
       "  </tbody>\n",
       "</table>\n",
       "</div>"
      ],
      "text/plain": [
       "          id         f0         f1        f2     product\n",
       "12999  M4vbm   1.233715   5.065182  1.991269   53.906522\n",
       "75498  s8DMx   9.113936   1.303648  5.002937  134.766305\n",
       "91824  xh4N3  -0.239145  -2.745961  1.997401   57.085625\n",
       "74386  dTl2E  -7.185631  -3.365844  3.994409  110.992147\n",
       "31442  Bet7f -10.135265 -12.321988  2.005799   57.085625\n",
       "23759  j4xun   7.486033  -6.718768  0.002838    0.000000\n",
       "17241  PogT9 -16.943346  -4.252636  3.004213   84.038886\n",
       "89618  HZ9AB  -2.762769 -15.254798  2.990569   84.038886\n",
       "58054  n7Iqj  -7.969276 -17.636815  1.993197   57.085625\n",
       "86722  HN1yj   2.099051  -7.042455  3.002240   80.859783"
      ]
     },
     "execution_count": 7,
     "metadata": {},
     "output_type": "execute_result"
    }
   ],
   "source": [
    "geo_data_1.sample(10)"
   ]
  },
  {
   "cell_type": "code",
   "execution_count": 8,
   "metadata": {},
   "outputs": [
    {
     "data": {
      "text/html": [
       "<div>\n",
       "<style scoped>\n",
       "    .dataframe tbody tr th:only-of-type {\n",
       "        vertical-align: middle;\n",
       "    }\n",
       "\n",
       "    .dataframe tbody tr th {\n",
       "        vertical-align: top;\n",
       "    }\n",
       "\n",
       "    .dataframe thead th {\n",
       "        text-align: right;\n",
       "    }\n",
       "</style>\n",
       "<table border=\"1\" class=\"dataframe\">\n",
       "  <thead>\n",
       "    <tr style=\"text-align: right;\">\n",
       "      <th></th>\n",
       "      <th>id</th>\n",
       "      <th>f0</th>\n",
       "      <th>f1</th>\n",
       "      <th>f2</th>\n",
       "      <th>product</th>\n",
       "    </tr>\n",
       "  </thead>\n",
       "  <tbody>\n",
       "    <tr>\n",
       "      <td>25745</td>\n",
       "      <td>7dfwv</td>\n",
       "      <td>-2.304091</td>\n",
       "      <td>0.014520</td>\n",
       "      <td>7.682439</td>\n",
       "      <td>166.130134</td>\n",
       "    </tr>\n",
       "    <tr>\n",
       "      <td>92361</td>\n",
       "      <td>ANLfQ</td>\n",
       "      <td>-0.348385</td>\n",
       "      <td>1.751950</td>\n",
       "      <td>5.072449</td>\n",
       "      <td>92.380305</td>\n",
       "    </tr>\n",
       "    <tr>\n",
       "      <td>36518</td>\n",
       "      <td>4x6Rg</td>\n",
       "      <td>0.306517</td>\n",
       "      <td>1.923438</td>\n",
       "      <td>1.417978</td>\n",
       "      <td>120.369447</td>\n",
       "    </tr>\n",
       "    <tr>\n",
       "      <td>21579</td>\n",
       "      <td>rwXSE</td>\n",
       "      <td>-0.236579</td>\n",
       "      <td>1.857880</td>\n",
       "      <td>2.065170</td>\n",
       "      <td>50.384236</td>\n",
       "    </tr>\n",
       "    <tr>\n",
       "      <td>35889</td>\n",
       "      <td>ZTPnD</td>\n",
       "      <td>-1.300160</td>\n",
       "      <td>0.044068</td>\n",
       "      <td>-0.983820</td>\n",
       "      <td>53.024432</td>\n",
       "    </tr>\n",
       "    <tr>\n",
       "      <td>88926</td>\n",
       "      <td>aOlbp</td>\n",
       "      <td>0.801970</td>\n",
       "      <td>1.451340</td>\n",
       "      <td>8.568437</td>\n",
       "      <td>136.211753</td>\n",
       "    </tr>\n",
       "    <tr>\n",
       "      <td>66409</td>\n",
       "      <td>QtOsC</td>\n",
       "      <td>-1.595949</td>\n",
       "      <td>0.981343</td>\n",
       "      <td>3.126425</td>\n",
       "      <td>51.581960</td>\n",
       "    </tr>\n",
       "    <tr>\n",
       "      <td>86535</td>\n",
       "      <td>F6vdg</td>\n",
       "      <td>3.147743</td>\n",
       "      <td>-1.159563</td>\n",
       "      <td>5.927094</td>\n",
       "      <td>37.058733</td>\n",
       "    </tr>\n",
       "    <tr>\n",
       "      <td>38702</td>\n",
       "      <td>6luLj</td>\n",
       "      <td>1.837706</td>\n",
       "      <td>-0.840713</td>\n",
       "      <td>3.651428</td>\n",
       "      <td>74.648215</td>\n",
       "    </tr>\n",
       "    <tr>\n",
       "      <td>40685</td>\n",
       "      <td>sTvJ1</td>\n",
       "      <td>3.576620</td>\n",
       "      <td>-1.178782</td>\n",
       "      <td>-0.192776</td>\n",
       "      <td>164.393474</td>\n",
       "    </tr>\n",
       "  </tbody>\n",
       "</table>\n",
       "</div>"
      ],
      "text/plain": [
       "          id        f0        f1        f2     product\n",
       "25745  7dfwv -2.304091  0.014520  7.682439  166.130134\n",
       "92361  ANLfQ -0.348385  1.751950  5.072449   92.380305\n",
       "36518  4x6Rg  0.306517  1.923438  1.417978  120.369447\n",
       "21579  rwXSE -0.236579  1.857880  2.065170   50.384236\n",
       "35889  ZTPnD -1.300160  0.044068 -0.983820   53.024432\n",
       "88926  aOlbp  0.801970  1.451340  8.568437  136.211753\n",
       "66409  QtOsC -1.595949  0.981343  3.126425   51.581960\n",
       "86535  F6vdg  3.147743 -1.159563  5.927094   37.058733\n",
       "38702  6luLj  1.837706 -0.840713  3.651428   74.648215\n",
       "40685  sTvJ1  3.576620 -1.178782 -0.192776  164.393474"
      ]
     },
     "execution_count": 8,
     "metadata": {},
     "output_type": "execute_result"
    }
   ],
   "source": [
    "geo_data_2.sample(10)"
   ]
  },
  {
   "cell_type": "markdown",
   "metadata": {},
   "source": [
    "Понятно, что ничего не понятно, но данные, как сказано, важные. Критического ничего не выявлено. Однако в одной выборке промелькнул нулевой объем запасов в скважине. Посмотрим статистику по каждому из наборов."
   ]
  },
  {
   "cell_type": "code",
   "execution_count": 9,
   "metadata": {},
   "outputs": [
    {
     "data": {
      "text/html": [
       "<div>\n",
       "<style scoped>\n",
       "    .dataframe tbody tr th:only-of-type {\n",
       "        vertical-align: middle;\n",
       "    }\n",
       "\n",
       "    .dataframe tbody tr th {\n",
       "        vertical-align: top;\n",
       "    }\n",
       "\n",
       "    .dataframe thead th {\n",
       "        text-align: right;\n",
       "    }\n",
       "</style>\n",
       "<table border=\"1\" class=\"dataframe\">\n",
       "  <thead>\n",
       "    <tr style=\"text-align: right;\">\n",
       "      <th></th>\n",
       "      <th>f0</th>\n",
       "      <th>f1</th>\n",
       "      <th>f2</th>\n",
       "      <th>product</th>\n",
       "    </tr>\n",
       "  </thead>\n",
       "  <tbody>\n",
       "    <tr>\n",
       "      <td>count</td>\n",
       "      <td>100000.000000</td>\n",
       "      <td>100000.000000</td>\n",
       "      <td>100000.000000</td>\n",
       "      <td>100000.000000</td>\n",
       "    </tr>\n",
       "    <tr>\n",
       "      <td>mean</td>\n",
       "      <td>0.500419</td>\n",
       "      <td>0.250143</td>\n",
       "      <td>2.502647</td>\n",
       "      <td>92.500000</td>\n",
       "    </tr>\n",
       "    <tr>\n",
       "      <td>std</td>\n",
       "      <td>0.871832</td>\n",
       "      <td>0.504433</td>\n",
       "      <td>3.248248</td>\n",
       "      <td>44.288691</td>\n",
       "    </tr>\n",
       "    <tr>\n",
       "      <td>min</td>\n",
       "      <td>-1.408605</td>\n",
       "      <td>-0.848218</td>\n",
       "      <td>-12.088328</td>\n",
       "      <td>0.000000</td>\n",
       "    </tr>\n",
       "    <tr>\n",
       "      <td>25%</td>\n",
       "      <td>-0.072580</td>\n",
       "      <td>-0.200881</td>\n",
       "      <td>0.287748</td>\n",
       "      <td>56.497507</td>\n",
       "    </tr>\n",
       "    <tr>\n",
       "      <td>50%</td>\n",
       "      <td>0.502360</td>\n",
       "      <td>0.250252</td>\n",
       "      <td>2.515969</td>\n",
       "      <td>91.849972</td>\n",
       "    </tr>\n",
       "    <tr>\n",
       "      <td>75%</td>\n",
       "      <td>1.073581</td>\n",
       "      <td>0.700646</td>\n",
       "      <td>4.715088</td>\n",
       "      <td>128.564089</td>\n",
       "    </tr>\n",
       "    <tr>\n",
       "      <td>max</td>\n",
       "      <td>2.362331</td>\n",
       "      <td>1.343769</td>\n",
       "      <td>16.003790</td>\n",
       "      <td>185.364347</td>\n",
       "    </tr>\n",
       "  </tbody>\n",
       "</table>\n",
       "</div>"
      ],
      "text/plain": [
       "                  f0             f1             f2        product\n",
       "count  100000.000000  100000.000000  100000.000000  100000.000000\n",
       "mean        0.500419       0.250143       2.502647      92.500000\n",
       "std         0.871832       0.504433       3.248248      44.288691\n",
       "min        -1.408605      -0.848218     -12.088328       0.000000\n",
       "25%        -0.072580      -0.200881       0.287748      56.497507\n",
       "50%         0.502360       0.250252       2.515969      91.849972\n",
       "75%         1.073581       0.700646       4.715088     128.564089\n",
       "max         2.362331       1.343769      16.003790     185.364347"
      ]
     },
     "execution_count": 9,
     "metadata": {},
     "output_type": "execute_result"
    }
   ],
   "source": [
    "geo_data_0.describe()"
   ]
  },
  {
   "cell_type": "code",
   "execution_count": 10,
   "metadata": {},
   "outputs": [
    {
     "data": {
      "text/html": [
       "<div>\n",
       "<style scoped>\n",
       "    .dataframe tbody tr th:only-of-type {\n",
       "        vertical-align: middle;\n",
       "    }\n",
       "\n",
       "    .dataframe tbody tr th {\n",
       "        vertical-align: top;\n",
       "    }\n",
       "\n",
       "    .dataframe thead th {\n",
       "        text-align: right;\n",
       "    }\n",
       "</style>\n",
       "<table border=\"1\" class=\"dataframe\">\n",
       "  <thead>\n",
       "    <tr style=\"text-align: right;\">\n",
       "      <th></th>\n",
       "      <th>f0</th>\n",
       "      <th>f1</th>\n",
       "      <th>f2</th>\n",
       "      <th>product</th>\n",
       "    </tr>\n",
       "  </thead>\n",
       "  <tbody>\n",
       "    <tr>\n",
       "      <td>count</td>\n",
       "      <td>100000.000000</td>\n",
       "      <td>100000.000000</td>\n",
       "      <td>100000.000000</td>\n",
       "      <td>100000.000000</td>\n",
       "    </tr>\n",
       "    <tr>\n",
       "      <td>mean</td>\n",
       "      <td>1.141296</td>\n",
       "      <td>-4.796579</td>\n",
       "      <td>2.494541</td>\n",
       "      <td>68.825000</td>\n",
       "    </tr>\n",
       "    <tr>\n",
       "      <td>std</td>\n",
       "      <td>8.965932</td>\n",
       "      <td>5.119872</td>\n",
       "      <td>1.703572</td>\n",
       "      <td>45.944423</td>\n",
       "    </tr>\n",
       "    <tr>\n",
       "      <td>min</td>\n",
       "      <td>-31.609576</td>\n",
       "      <td>-26.358598</td>\n",
       "      <td>-0.018144</td>\n",
       "      <td>0.000000</td>\n",
       "    </tr>\n",
       "    <tr>\n",
       "      <td>25%</td>\n",
       "      <td>-6.298551</td>\n",
       "      <td>-8.267985</td>\n",
       "      <td>1.000021</td>\n",
       "      <td>26.953261</td>\n",
       "    </tr>\n",
       "    <tr>\n",
       "      <td>50%</td>\n",
       "      <td>1.153055</td>\n",
       "      <td>-4.813172</td>\n",
       "      <td>2.011479</td>\n",
       "      <td>57.085625</td>\n",
       "    </tr>\n",
       "    <tr>\n",
       "      <td>75%</td>\n",
       "      <td>8.621015</td>\n",
       "      <td>-1.332816</td>\n",
       "      <td>3.999904</td>\n",
       "      <td>107.813044</td>\n",
       "    </tr>\n",
       "    <tr>\n",
       "      <td>max</td>\n",
       "      <td>29.421755</td>\n",
       "      <td>18.734063</td>\n",
       "      <td>5.019721</td>\n",
       "      <td>137.945408</td>\n",
       "    </tr>\n",
       "  </tbody>\n",
       "</table>\n",
       "</div>"
      ],
      "text/plain": [
       "                  f0             f1             f2        product\n",
       "count  100000.000000  100000.000000  100000.000000  100000.000000\n",
       "mean        1.141296      -4.796579       2.494541      68.825000\n",
       "std         8.965932       5.119872       1.703572      45.944423\n",
       "min       -31.609576     -26.358598      -0.018144       0.000000\n",
       "25%        -6.298551      -8.267985       1.000021      26.953261\n",
       "50%         1.153055      -4.813172       2.011479      57.085625\n",
       "75%         8.621015      -1.332816       3.999904     107.813044\n",
       "max        29.421755      18.734063       5.019721     137.945408"
      ]
     },
     "execution_count": 10,
     "metadata": {},
     "output_type": "execute_result"
    }
   ],
   "source": [
    "geo_data_1.describe()"
   ]
  },
  {
   "cell_type": "code",
   "execution_count": 11,
   "metadata": {},
   "outputs": [
    {
     "data": {
      "text/html": [
       "<div>\n",
       "<style scoped>\n",
       "    .dataframe tbody tr th:only-of-type {\n",
       "        vertical-align: middle;\n",
       "    }\n",
       "\n",
       "    .dataframe tbody tr th {\n",
       "        vertical-align: top;\n",
       "    }\n",
       "\n",
       "    .dataframe thead th {\n",
       "        text-align: right;\n",
       "    }\n",
       "</style>\n",
       "<table border=\"1\" class=\"dataframe\">\n",
       "  <thead>\n",
       "    <tr style=\"text-align: right;\">\n",
       "      <th></th>\n",
       "      <th>f0</th>\n",
       "      <th>f1</th>\n",
       "      <th>f2</th>\n",
       "      <th>product</th>\n",
       "    </tr>\n",
       "  </thead>\n",
       "  <tbody>\n",
       "    <tr>\n",
       "      <td>count</td>\n",
       "      <td>100000.000000</td>\n",
       "      <td>100000.000000</td>\n",
       "      <td>100000.000000</td>\n",
       "      <td>100000.000000</td>\n",
       "    </tr>\n",
       "    <tr>\n",
       "      <td>mean</td>\n",
       "      <td>0.002023</td>\n",
       "      <td>-0.002081</td>\n",
       "      <td>2.495128</td>\n",
       "      <td>95.000000</td>\n",
       "    </tr>\n",
       "    <tr>\n",
       "      <td>std</td>\n",
       "      <td>1.732045</td>\n",
       "      <td>1.730417</td>\n",
       "      <td>3.473445</td>\n",
       "      <td>44.749921</td>\n",
       "    </tr>\n",
       "    <tr>\n",
       "      <td>min</td>\n",
       "      <td>-8.760004</td>\n",
       "      <td>-7.084020</td>\n",
       "      <td>-11.970335</td>\n",
       "      <td>0.000000</td>\n",
       "    </tr>\n",
       "    <tr>\n",
       "      <td>25%</td>\n",
       "      <td>-1.162288</td>\n",
       "      <td>-1.174820</td>\n",
       "      <td>0.130359</td>\n",
       "      <td>59.450441</td>\n",
       "    </tr>\n",
       "    <tr>\n",
       "      <td>50%</td>\n",
       "      <td>0.009424</td>\n",
       "      <td>-0.009482</td>\n",
       "      <td>2.484236</td>\n",
       "      <td>94.925613</td>\n",
       "    </tr>\n",
       "    <tr>\n",
       "      <td>75%</td>\n",
       "      <td>1.158535</td>\n",
       "      <td>1.163678</td>\n",
       "      <td>4.858794</td>\n",
       "      <td>130.595027</td>\n",
       "    </tr>\n",
       "    <tr>\n",
       "      <td>max</td>\n",
       "      <td>7.238262</td>\n",
       "      <td>7.844801</td>\n",
       "      <td>16.739402</td>\n",
       "      <td>190.029838</td>\n",
       "    </tr>\n",
       "  </tbody>\n",
       "</table>\n",
       "</div>"
      ],
      "text/plain": [
       "                  f0             f1             f2        product\n",
       "count  100000.000000  100000.000000  100000.000000  100000.000000\n",
       "mean        0.002023      -0.002081       2.495128      95.000000\n",
       "std         1.732045       1.730417       3.473445      44.749921\n",
       "min        -8.760004      -7.084020     -11.970335       0.000000\n",
       "25%        -1.162288      -1.174820       0.130359      59.450441\n",
       "50%         0.009424      -0.009482       2.484236      94.925613\n",
       "75%         1.158535       1.163678       4.858794     130.595027\n",
       "max         7.238262       7.844801      16.739402     190.029838"
      ]
     },
     "execution_count": 11,
     "metadata": {},
     "output_type": "execute_result"
    }
   ],
   "source": [
    "geo_data_2.describe()"
   ]
  },
  {
   "cell_type": "markdown",
   "metadata": {},
   "source": [
    "И снова ничего аномального. Проверим ещё дубликаты."
   ]
  },
  {
   "cell_type": "code",
   "execution_count": 12,
   "metadata": {},
   "outputs": [
    {
     "data": {
      "text/plain": [
       "0"
      ]
     },
     "execution_count": 12,
     "metadata": {},
     "output_type": "execute_result"
    }
   ],
   "source": [
    "geo_data_0.duplicated().sum()"
   ]
  },
  {
   "cell_type": "code",
   "execution_count": 13,
   "metadata": {},
   "outputs": [
    {
     "data": {
      "text/plain": [
       "0"
      ]
     },
     "execution_count": 13,
     "metadata": {},
     "output_type": "execute_result"
    }
   ],
   "source": [
    "geo_data_1.duplicated().sum()"
   ]
  },
  {
   "cell_type": "code",
   "execution_count": 14,
   "metadata": {},
   "outputs": [
    {
     "data": {
      "text/plain": [
       "0"
      ]
     },
     "execution_count": 14,
     "metadata": {},
     "output_type": "execute_result"
    }
   ],
   "source": [
    "geo_data_2.duplicated().sum()"
   ]
  },
  {
   "cell_type": "markdown",
   "metadata": {},
   "source": [
    "Дубликатов нет. С предобработкой данных всё понятно - она не требуется. Займемся подготовкой.   \n",
    "Мы имеем дело с задачей линейной регрессии. Следовательно необходимо:   \n",
    "1. Избавится от категориального признака `id`;\n",
    "2. Привести численные признаки к одному масштабу."
   ]
  },
  {
   "cell_type": "code",
   "execution_count": 15,
   "metadata": {},
   "outputs": [
    {
     "data": {
      "text/plain": [
       "99990"
      ]
     },
     "execution_count": 15,
     "metadata": {},
     "output_type": "execute_result"
    }
   ],
   "source": [
    "geo_data_0['id'].nunique()"
   ]
  },
  {
   "cell_type": "code",
   "execution_count": 16,
   "metadata": {},
   "outputs": [
    {
     "data": {
      "text/plain": [
       "99996"
      ]
     },
     "execution_count": 16,
     "metadata": {},
     "output_type": "execute_result"
    }
   ],
   "source": [
    "geo_data_1['id'].nunique()"
   ]
  },
  {
   "cell_type": "code",
   "execution_count": 17,
   "metadata": {},
   "outputs": [
    {
     "data": {
      "text/plain": [
       "99996"
      ]
     },
     "execution_count": 17,
     "metadata": {},
     "output_type": "execute_result"
    }
   ],
   "source": [
    "geo_data_2['id'].nunique()"
   ]
  },
  {
   "cell_type": "markdown",
   "metadata": {},
   "source": [
    "<a id = 'reason'></a>\n",
    "Почти все значения `id` в наших наборах данных уникальны. Первый мыслью было применить прямое или порядковое кодирование. Однако для данного случая:   \n",
    "- минус прямого кодирования: добавлять 100000 столбцов? Глупо. Затратно. Не надо.\n",
    "- минус порядкового кодирования: да, добавится 1 столбец с числами от 0 до 99999. Но! По факту `id` - не полноценный признак, это просто придуманное название для идентификации скважины. Ничего не поменяется от того, что мы назовем её по другому. Кроме того, этот признак не обеспечивает повторяемости других признаков, как, например, в задаче про аэропорты из теоретической части. Т.е.: если у нас есть авиакомпания, положим, \"авиакомпания\", то в большинстве случаев плюсы и минусы этой авиакомпании будут примерно одинаковыми. А если у нас есть скважина \"скважина\", и мы другую так же назовем \"скважина\" - это не будет значить, что их признаки будут примерно одинаковыми.   \n",
    "\n",
    "Ввиду вышесказанного предлагается просто удалить столбцы `id`. В дальнейшем можно будет реализовать восстановление идентификации конкретной скважины по ее признакам (как выяснилось выше - из 3-х наборов данных, по 100000 вхождений, нет ни одной дублированной записи)"
   ]
  },
  {
   "cell_type": "code",
   "execution_count": 18,
   "metadata": {},
   "outputs": [],
   "source": [
    "geo_data_0.drop(columns = ['id'], inplace = True)\n",
    "geo_data_1.drop(columns = ['id'], inplace = True)\n",
    "geo_data_2.drop(columns = ['id'], inplace = True)"
   ]
  },
  {
   "cell_type": "markdown",
   "metadata": {},
   "source": [
    "Проверим удаление колонок."
   ]
  },
  {
   "cell_type": "code",
   "execution_count": 19,
   "metadata": {},
   "outputs": [
    {
     "data": {
      "text/plain": [
       "Index(['f0', 'f1', 'f2', 'product'], dtype='object')"
      ]
     },
     "execution_count": 19,
     "metadata": {},
     "output_type": "execute_result"
    }
   ],
   "source": [
    "geo_data_0.columns"
   ]
  },
  {
   "cell_type": "code",
   "execution_count": 20,
   "metadata": {},
   "outputs": [
    {
     "data": {
      "text/plain": [
       "Index(['f0', 'f1', 'f2', 'product'], dtype='object')"
      ]
     },
     "execution_count": 20,
     "metadata": {},
     "output_type": "execute_result"
    }
   ],
   "source": [
    "geo_data_1.columns"
   ]
  },
  {
   "cell_type": "code",
   "execution_count": 21,
   "metadata": {},
   "outputs": [
    {
     "data": {
      "text/plain": [
       "Index(['f0', 'f1', 'f2', 'product'], dtype='object')"
      ]
     },
     "execution_count": 21,
     "metadata": {},
     "output_type": "execute_result"
    }
   ],
   "source": [
    "geo_data_2.columns"
   ]
  },
  {
   "cell_type": "markdown",
   "metadata": {},
   "source": [
    "Всё нормально, заодно увидели что имена колонок не требуют корректировок. Необходимо еще отмасштабировать признаки, но этим займемся после разбиения данных [тут](#2.1)."
   ]
  },
  {
   "cell_type": "markdown",
   "metadata": {},
   "source": [
    "P.s.: появилась идея объединить все данные в один датафрейм и обучить отдельную модель на нём тоже. Создадим DataFrame."
   ]
  },
  {
   "cell_type": "code",
   "execution_count": 22,
   "metadata": {},
   "outputs": [
    {
     "data": {
      "text/plain": [
       "(300000, 4)"
      ]
     },
     "execution_count": 22,
     "metadata": {},
     "output_type": "execute_result"
    }
   ],
   "source": [
    "geo_data_full = pd.concat([geo_data_0, geo_data_1, geo_data_2])\n",
    "geo_data_full.shape"
   ]
  },
  {
   "cell_type": "code",
   "execution_count": 23,
   "metadata": {},
   "outputs": [
    {
     "data": {
      "text/html": [
       "<div>\n",
       "<style scoped>\n",
       "    .dataframe tbody tr th:only-of-type {\n",
       "        vertical-align: middle;\n",
       "    }\n",
       "\n",
       "    .dataframe tbody tr th {\n",
       "        vertical-align: top;\n",
       "    }\n",
       "\n",
       "    .dataframe thead th {\n",
       "        text-align: right;\n",
       "    }\n",
       "</style>\n",
       "<table border=\"1\" class=\"dataframe\">\n",
       "  <thead>\n",
       "    <tr style=\"text-align: right;\">\n",
       "      <th></th>\n",
       "      <th>f0</th>\n",
       "      <th>f1</th>\n",
       "      <th>f2</th>\n",
       "      <th>product</th>\n",
       "    </tr>\n",
       "  </thead>\n",
       "  <tbody>\n",
       "    <tr>\n",
       "      <td>56202</td>\n",
       "      <td>0.624318</td>\n",
       "      <td>0.618280</td>\n",
       "      <td>3.625438</td>\n",
       "      <td>101.250037</td>\n",
       "    </tr>\n",
       "    <tr>\n",
       "      <td>56662</td>\n",
       "      <td>13.009005</td>\n",
       "      <td>-9.493345</td>\n",
       "      <td>3.996087</td>\n",
       "      <td>107.813044</td>\n",
       "    </tr>\n",
       "    <tr>\n",
       "      <td>20634</td>\n",
       "      <td>0.007031</td>\n",
       "      <td>1.845669</td>\n",
       "      <td>1.895257</td>\n",
       "      <td>24.271354</td>\n",
       "    </tr>\n",
       "    <tr>\n",
       "      <td>76201</td>\n",
       "      <td>-10.350675</td>\n",
       "      <td>-6.427865</td>\n",
       "      <td>0.999644</td>\n",
       "      <td>30.132364</td>\n",
       "    </tr>\n",
       "    <tr>\n",
       "      <td>22211</td>\n",
       "      <td>0.976977</td>\n",
       "      <td>2.095971</td>\n",
       "      <td>0.943385</td>\n",
       "      <td>64.278045</td>\n",
       "    </tr>\n",
       "    <tr>\n",
       "      <td>65947</td>\n",
       "      <td>0.672837</td>\n",
       "      <td>-0.408983</td>\n",
       "      <td>11.221155</td>\n",
       "      <td>164.131032</td>\n",
       "    </tr>\n",
       "    <tr>\n",
       "      <td>65965</td>\n",
       "      <td>0.939506</td>\n",
       "      <td>0.125496</td>\n",
       "      <td>1.831852</td>\n",
       "      <td>131.724170</td>\n",
       "    </tr>\n",
       "    <tr>\n",
       "      <td>12071</td>\n",
       "      <td>0.657794</td>\n",
       "      <td>-0.398884</td>\n",
       "      <td>1.579647</td>\n",
       "      <td>132.058446</td>\n",
       "    </tr>\n",
       "    <tr>\n",
       "      <td>74217</td>\n",
       "      <td>0.542279</td>\n",
       "      <td>0.841057</td>\n",
       "      <td>3.325311</td>\n",
       "      <td>150.570384</td>\n",
       "    </tr>\n",
       "    <tr>\n",
       "      <td>62140</td>\n",
       "      <td>12.864829</td>\n",
       "      <td>-0.834672</td>\n",
       "      <td>0.989542</td>\n",
       "      <td>26.953261</td>\n",
       "    </tr>\n",
       "  </tbody>\n",
       "</table>\n",
       "</div>"
      ],
      "text/plain": [
       "              f0        f1         f2     product\n",
       "56202   0.624318  0.618280   3.625438  101.250037\n",
       "56662  13.009005 -9.493345   3.996087  107.813044\n",
       "20634   0.007031  1.845669   1.895257   24.271354\n",
       "76201 -10.350675 -6.427865   0.999644   30.132364\n",
       "22211   0.976977  2.095971   0.943385   64.278045\n",
       "65947   0.672837 -0.408983  11.221155  164.131032\n",
       "65965   0.939506  0.125496   1.831852  131.724170\n",
       "12071   0.657794 -0.398884   1.579647  132.058446\n",
       "74217   0.542279  0.841057   3.325311  150.570384\n",
       "62140  12.864829 -0.834672   0.989542   26.953261"
      ]
     },
     "execution_count": 23,
     "metadata": {},
     "output_type": "execute_result"
    }
   ],
   "source": [
    "geo_data_full.sample(10)"
   ]
  },
  {
   "cell_type": "markdown",
   "metadata": {},
   "source": [
    "Объединение прошло. Посмотрим, что из этого получится."
   ]
  },
  {
   "cell_type": "markdown",
   "metadata": {},
   "source": [
    "___\n",
    "[*К содержанию*](#back)"
   ]
  },
  {
   "cell_type": "markdown",
   "metadata": {},
   "source": [
    "<a id = '1.2'></a>\n",
    "### 1.2. Выводы.\n",
    "___"
   ]
  },
  {
   "cell_type": "markdown",
   "metadata": {},
   "source": [
    "В полученных данных:   \n",
    "   - отсутствуют пропуски;   \n",
    "   - отсутствуют дубликаты;\n",
    "   - типы данных логичны;   \n",
    "   - аномалий в распределении значений не обнаружено;   \n",
    "   - предобработка не требуется;   \n",
    "   - была удалена колонка `id`, как ненужная (обоснавание читать [тут](#reason) )\n",
    "   - масштабирование оставили для пункта 2.1."
   ]
  },
  {
   "cell_type": "markdown",
   "metadata": {},
   "source": [
    "___\n",
    "[*К содержанию*](#back)"
   ]
  },
  {
   "cell_type": "markdown",
   "metadata": {},
   "source": [
    "<a id = '2'></a>\n",
    "# 2. Обучение и проверка модели\n",
    "___\n",
    "___"
   ]
  },
  {
   "cell_type": "markdown",
   "metadata": {},
   "source": [
    "<a id = '2.1'></a>\n",
    "### 2.1. Разбиение данных.\n",
    "___"
   ]
  },
  {
   "cell_type": "markdown",
   "metadata": {},
   "source": [
    "Сформируем целевые и характерные признаки для каждого набора данных."
   ]
  },
  {
   "cell_type": "code",
   "execution_count": 24,
   "metadata": {},
   "outputs": [],
   "source": [
    "target_0 = geo_data_0['product']\n",
    "features_0 = geo_data_0.drop(['product'], axis = 1)\n",
    "target_1 = geo_data_1['product']\n",
    "features_1 = geo_data_1.drop(['product'], axis = 1)\n",
    "target_2 = geo_data_2['product']\n",
    "features_2 = geo_data_2.drop(['product'], axis = 1)"
   ]
  },
  {
   "cell_type": "code",
   "execution_count": 25,
   "metadata": {},
   "outputs": [],
   "source": [
    "target_full = geo_data_full['product']\n",
    "features_full = geo_data_full.drop(['product'], axis = 1)"
   ]
  },
  {
   "cell_type": "markdown",
   "metadata": {},
   "source": [
    "Разобьем данные на обучающие и валидационные выборки."
   ]
  },
  {
   "cell_type": "code",
   "execution_count": 26,
   "metadata": {},
   "outputs": [],
   "source": [
    "features_train_0, features_valid_0, target_train_0, target_valid_0 = train_test_split(\n",
    "    features_0, target_0, test_size = 0.25, random_state = 481516)\n",
    "features_train_1, features_valid_1, target_train_1, target_valid_1 = train_test_split(\n",
    "    features_1, target_1, test_size = 0.25, random_state = 481516)\n",
    "features_train_2, features_valid_2, target_train_2, target_valid_2 = train_test_split(\n",
    "    features_2, target_2, test_size = 0.25, random_state = 481516)"
   ]
  },
  {
   "cell_type": "code",
   "execution_count": 27,
   "metadata": {},
   "outputs": [],
   "source": [
    "features_train_full, features_valid_full, target_train_full, target_valid_full = train_test_split(\n",
    "    features_full, target_full, test_size = 0.25, random_state = 481516)"
   ]
  },
  {
   "cell_type": "markdown",
   "metadata": {},
   "source": [
    "Отмасштабируем характерные признаки для каждой из выборок."
   ]
  },
  {
   "cell_type": "code",
   "execution_count": 28,
   "metadata": {},
   "outputs": [],
   "source": [
    "scaler = StandardScaler()\n",
    "scaler.fit(features_train_0)\n",
    "features_train_0 = scaler.transform(features_train_0)\n",
    "features_valid_0 = scaler.transform(features_valid_0)"
   ]
  },
  {
   "cell_type": "code",
   "execution_count": 29,
   "metadata": {},
   "outputs": [],
   "source": [
    "scaler.fit(features_train_1)\n",
    "features_train_1 = scaler.transform(features_train_1)\n",
    "features_valid_1 = scaler.transform(features_valid_1)"
   ]
  },
  {
   "cell_type": "code",
   "execution_count": 30,
   "metadata": {},
   "outputs": [],
   "source": [
    "scaler.fit(features_train_2)\n",
    "features_train_2 = scaler.transform(features_train_2)\n",
    "features_valid_2 = scaler.transform(features_valid_2)"
   ]
  },
  {
   "cell_type": "code",
   "execution_count": 31,
   "metadata": {},
   "outputs": [],
   "source": [
    "scaler.fit(features_train_full)\n",
    "features_train_full = scaler.transform(features_train_full)\n",
    "features_valid_full = scaler.transform(features_valid_full)"
   ]
  },
  {
   "cell_type": "markdown",
   "metadata": {},
   "source": [
    "Разбили и отмасштабировали, едем дальше."
   ]
  },
  {
   "cell_type": "markdown",
   "metadata": {},
   "source": [
    "___\n",
    "[*К содержанию*](#back)"
   ]
  },
  {
   "cell_type": "markdown",
   "metadata": {},
   "source": [
    "<a id = '2.2'></a>\n",
    "### 2.2. Обучение модели и получение предсказаний.\n",
    "___"
   ]
  },
  {
   "cell_type": "markdown",
   "metadata": {},
   "source": [
    "Модель для нулевого региона (вообще логичнее - первого... Но чтобы в цифрах не путаться, пусть будет нулевой)."
   ]
  },
  {
   "cell_type": "code",
   "execution_count": 32,
   "metadata": {},
   "outputs": [],
   "source": [
    "model_0 = LinearRegression()\n",
    "model_0.fit(features_train_0, target_train_0)\n",
    "predicted_valid_0 = model_0.predict(features_valid_0)"
   ]
  },
  {
   "cell_type": "markdown",
   "metadata": {},
   "source": [
    "Модель для первого региона."
   ]
  },
  {
   "cell_type": "code",
   "execution_count": 33,
   "metadata": {},
   "outputs": [],
   "source": [
    "model_1 = LinearRegression()\n",
    "model_1.fit(features_train_1, target_train_1)\n",
    "predicted_valid_1 = model_1.predict(features_valid_1)"
   ]
  },
  {
   "cell_type": "markdown",
   "metadata": {},
   "source": [
    "Модель для второго региона."
   ]
  },
  {
   "cell_type": "code",
   "execution_count": 34,
   "metadata": {},
   "outputs": [],
   "source": [
    "model_2 = LinearRegression()\n",
    "model_2.fit(features_train_2, target_train_2)\n",
    "predicted_valid_2 = model_2.predict(features_valid_2)"
   ]
  },
  {
   "cell_type": "markdown",
   "metadata": {},
   "source": [
    "Модель для объединённых по регионам данных."
   ]
  },
  {
   "cell_type": "code",
   "execution_count": 35,
   "metadata": {},
   "outputs": [],
   "source": [
    "model_full = LinearRegression()\n",
    "model_full.fit(features_train_full, target_train_full)\n",
    "predicted_valid_full = model_full.predict(features_valid_full)"
   ]
  },
  {
   "cell_type": "markdown",
   "metadata": {},
   "source": [
    "___\n",
    "[*К содержанию*](#back)"
   ]
  },
  {
   "cell_type": "markdown",
   "metadata": {},
   "source": [
    "<a id = '2.3'></a>\n",
    "### 2.3. Сохраняем предсказания и правильные ответы.\n",
    "___"
   ]
  },
  {
   "cell_type": "code",
   "execution_count": 36,
   "metadata": {},
   "outputs": [],
   "source": [
    "predictions = [predicted_valid_0, predicted_valid_1, predicted_valid_2, predicted_valid_full]\n",
    "answers = [target_valid_0, target_valid_1, target_valid_2, target_valid_full]"
   ]
  },
  {
   "cell_type": "markdown",
   "metadata": {},
   "source": [
    "___\n",
    "[*К содержанию*](#back)"
   ]
  },
  {
   "cell_type": "markdown",
   "metadata": {},
   "source": [
    "<a id = '2.4'></a>\n",
    "### 2.4. Средний запас предсказанного сырья и RMSE модели.\n",
    "___"
   ]
  },
  {
   "cell_type": "code",
   "execution_count": 37,
   "metadata": {},
   "outputs": [
    {
     "name": "stdout",
     "output_type": "stream",
     "text": [
      "Средний запас сырья, предсказанный для одной точки в регионе 0 равен 92.53\n",
      "Средний запас сырья, предсказанный для одной точки в регионе 1 равен 68.89\n",
      "Средний запас сырья, предсказанный для одной точки в регионе 2 равен 94.85\n",
      "Средний запас сырья, предсказанный для одной точки в регионе 3 равен 85.54\n"
     ]
    }
   ],
   "source": [
    "for i in range(len(predictions)):\n",
    "    print('Средний запас сырья, предсказанный для одной точки в регионе', i, 'равен {:.2f}'.format(predictions[i].mean()))"
   ]
  },
  {
   "cell_type": "code",
   "execution_count": 38,
   "metadata": {},
   "outputs": [
    {
     "name": "stdout",
     "output_type": "stream",
     "text": [
      "Запас сырья, предсказанный для региона 0 равен 2313273.61\n",
      "Запас сырья, предсказанный для региона 1 равен 1722339.06\n",
      "Запас сырья, предсказанный для региона 2 равен 2371127.55\n",
      "Запас сырья, предсказанный для региона 3 равен 6415223.69\n"
     ]
    }
   ],
   "source": [
    "for i in range(len(predictions)):\n",
    "    print('Запас сырья, предсказанный для региона', i, 'равен {:.2f}'.format(predictions[i].sum()))"
   ]
  },
  {
   "cell_type": "code",
   "execution_count": 39,
   "metadata": {},
   "outputs": [
    {
     "name": "stdout",
     "output_type": "stream",
     "text": [
      "Модель 0, MSE 1429.7733, RMSE 37.8123\n",
      "Модель 1, MSE 0.7886, RMSE 0.8880\n",
      "Модель 2, MSE 1606.6521, RMSE 40.0831\n",
      "Модель 3, MSE 1505.4619, RMSE 38.8003\n"
     ]
    }
   ],
   "source": [
    "for i in range(len(predictions)):\n",
    "    print('Модель {}, MSE {:.4f}, RMSE {:.4f}'.format(i, mean_squared_error(answers[i], predictions[i]), mean_squared_error(answers[i], predictions[i]) ** 0.5))"
   ]
  },
  {
   "cell_type": "markdown",
   "metadata": {},
   "source": [
    "Примечание: в данных выводах под моделью 3 имеется в виду модель, обученная по объединенным данным."
   ]
  },
  {
   "cell_type": "markdown",
   "metadata": {},
   "source": [
    "___\n",
    "[*К содержанию*](#back)"
   ]
  },
  {
   "cell_type": "markdown",
   "metadata": {},
   "source": [
    "<a id = '2.5'></a>\n",
    "### 2.5. Анализ результатов.\n",
    "___"
   ]
  },
  {
   "cell_type": "markdown",
   "metadata": {},
   "source": [
    "Результаты для моделей 0, 2 и 3 выглядят разумными. Модель 1 показала слишком низкие значения метрик `MSE` и `RMSE`. Проверим, на всякий случай, модели на адекватность."
   ]
  },
  {
   "cell_type": "code",
   "execution_count": 40,
   "metadata": {},
   "outputs": [],
   "source": [
    "predicted_valid_mean_list = [\n",
    "    pd.Series(target_train_0.mean(), index = target_valid_0.index),\n",
    "    pd.Series(target_train_1.mean(), index = target_valid_1.index),\n",
    "    pd.Series(target_train_2.mean(), index = target_valid_2.index),\n",
    "    pd.Series(target_train_full.mean(), index = target_valid_full.index)\n",
    "]"
   ]
  },
  {
   "cell_type": "code",
   "execution_count": 41,
   "metadata": {},
   "outputs": [
    {
     "name": "stdout",
     "output_type": "stream",
     "text": [
      "Модель 0, MSE 1977.3623, RMSE 44.4675\n",
      "Модель 1, MSE 2109.2036, RMSE 45.9261\n",
      "Модель 2, MSE 2000.9307, RMSE 44.7318\n",
      "Модель 3, MSE 2161.6001, RMSE 46.4930\n"
     ]
    }
   ],
   "source": [
    "for i in range(len(answers)):\n",
    "    print('Модель {}, MSE {:.4f}, RMSE {:.4f}'.format(i, mean_squared_error(answers[i], predicted_valid_mean_list[i]), mean_squared_error(answers[i], predicted_valid_mean_list[i]) ** 0.5))"
   ]
  },
  {
   "cell_type": "markdown",
   "metadata": {},
   "source": [
    "Итог: с моделью 1 явно что-то не так. Модель 0 неплоха, но модель 2 показала себя наилучшим образом, с разницей в RMSE всего примерно на 4 единицы. С этой моделью далее и будем работать."
   ]
  },
  {
   "cell_type": "markdown",
   "metadata": {},
   "source": [
    "Дополнение: модель 3, обученная по объединенным данным, тоже показала себя неплохо: немного лучше чем модель 1, но, всё же, хуже, чем модель 2. Предыдущее утверждение верно: продолжаем работать со второй моделью."
   ]
  },
  {
   "cell_type": "markdown",
   "metadata": {},
   "source": [
    "Дополнение 2 (больше для себя): задался вдруг вопросом \"а если обучить на отмасштабированных признаках, а обучить на неотмасштабированных?\". Логикой понимал что, ммм, нелогичная затея, даже причины придумал. Но попробавать интересно. Итог: было закоменчено масштабирование валидационной выборки, предсказания получились очень хорошими, но RMSE по константным данным меньше почти в два раза, чем у валидных данных. Собственно - плохая идея)"
   ]
  },
  {
   "cell_type": "markdown",
   "metadata": {},
   "source": [
    "___\n",
    "[*К содержанию*](#back)"
   ]
  },
  {
   "cell_type": "markdown",
   "metadata": {},
   "source": [
    "<a id = '3'></a>\n",
    "# 3. Подготовка к расчёту прибыли\n",
    "___\n",
    "___"
   ]
  },
  {
   "cell_type": "markdown",
   "metadata": {},
   "source": [
    "<a id = '3.1'></a>\n",
    "### 3.1. Подготовка переменных для расчета.\n",
    "___"
   ]
  },
  {
   "cell_type": "markdown",
   "metadata": {},
   "source": [
    "Создаем константы на основании предоставленных нам данных."
   ]
  },
  {
   "cell_type": "code",
   "execution_count": 42,
   "metadata": {},
   "outputs": [],
   "source": [
    "BUDGET = 10000000000       #бюджет на разработку скважин, руб.\n",
    "RESEARCHED_BORE = 500      #количество точек исследования в регионе, шт.\n",
    "ML_BORE = 200              #количество точек для модели ML, шт. (из 500 точек)\n",
    "ONE_BARREL_PRICE = 450     #доход с одной баррели сырья, руб.\n",
    "ONE_THOUSAND_BARREL_PRICE = 450000       #доход с 1000 баррелей сырья, руб.\n",
    "ACCEPTABLE_PROBABILITY_OF_LOSS = 0.025   #допустимая вероятность убытков. (2,5%)"
   ]
  },
  {
   "cell_type": "markdown",
   "metadata": {},
   "source": [
    "___\n",
    "[*К содержанию*](#back)"
   ]
  },
  {
   "cell_type": "markdown",
   "metadata": {},
   "source": [
    "<a id = '3.2'></a>\n",
    "### 3.2. Рассчет достаточного объема сырья.\n",
    "___"
   ]
  },
  {
   "cell_type": "markdown",
   "metadata": {},
   "source": [
    "У нас нет информации о расходах, только допустимый бюджет на разработку.   \n",
    "У нас нет информации о финансовых обязательствах компании, операционных расходах и т.д., поэтому будем считать, что 450 рублей это чистая прибыль компании с продажи одной баррели нефти.   \n",
    "У нас нет информации, какую итоговую прибыль хочет получить компания с продажи сырья.   \n",
    "Значит за достаточный объем сырья будем принимать тот объем, продажи которого как минимум должны покрыть бюджет на разработку скважин, а потом уже будем выбирать те регионы, которые впоследствии принесут и больший доход.   \n",
    "Тогда:"
   ]
  },
  {
   "cell_type": "code",
   "execution_count": 43,
   "metadata": {},
   "outputs": [
    {
     "name": "stdout",
     "output_type": "stream",
     "text": [
      "Достаточный объем сырья с двухсот точек: 22222222.22 баррелей или 22222.22 тыс. баррелей (в размерности предоставленных данных)\n"
     ]
    }
   ],
   "source": [
    "sufficient_volume = BUDGET / ONE_BARREL_PRICE\n",
    "print('Достаточный объем сырья с двухсот точек: {:.2f} баррелей или {:.2f} тыс. баррелей (в размерности предоставленных данных)'.format(sufficient_volume, sufficient_volume/1000))"
   ]
  },
  {
   "cell_type": "code",
   "execution_count": 44,
   "metadata": {},
   "outputs": [
    {
     "name": "stdout",
     "output_type": "stream",
     "text": [
      "Достаточный объем сырья с одной точки: 111111.11 баррелей или 111.11 тыс. баррелей (в размерности предоставленных данных)\n"
     ]
    }
   ],
   "source": [
    "print('Достаточный объем сырья с одной точки: {:.2f} баррелей или {:.2f} тыс. баррелей (в размерности предоставленных данных)'.format(sufficient_volume / 200, sufficient_volume/200000))"
   ]
  },
  {
   "cell_type": "markdown",
   "metadata": {},
   "source": [
    "Для удобства далее 1 тыс. баррелей будем называть 1 еденицей продукта (ед. прод.) как указано в ТЗ, и в каком виде нам предоставлены данные."
   ]
  },
  {
   "cell_type": "markdown",
   "metadata": {},
   "source": [
    "___\n",
    "[*К содержанию*](#back)"
   ]
  },
  {
   "cell_type": "markdown",
   "metadata": {},
   "source": [
    "<a id = '3.3'></a>\n",
    "### 3.3. Выводы.\n",
    "___"
   ]
  },
  {
   "cell_type": "markdown",
   "metadata": {},
   "source": [
    "Что ж, ранее лучшая модель нам предсказала на одну точку среднее значение, равное 94.85 ед. прод.   \n",
    "Не самый лучший результат, но, возможно, что это связанно с представленными данными, в частности с тем, что количество выборок аж 100000, что, разумеется, благотворно сказывается на обучении моделей. При этом при статистическом анализе предоставленых данных выявлено, что в каждом наборе максимальный объем ед. прод выше требуемого, а в двух наборах данных даже 75%-й квантиль выше 111,11 ед. прод.   \n",
    "В любом случае дальше это будет проверено ещё раз."
   ]
  },
  {
   "cell_type": "markdown",
   "metadata": {},
   "source": [
    "___\n",
    "[*К содержанию*](#back)"
   ]
  },
  {
   "cell_type": "markdown",
   "metadata": {},
   "source": [
    "<a id = '4'></a>\n",
    "# 4. Функция для расчета прибыли.\n",
    "___\n",
    "___"
   ]
  },
  {
   "cell_type": "markdown",
   "metadata": {},
   "source": [
    "Напишем функцию для расчета прибыли.   \n",
    "Напомним: в регионе исследуются 500 точек, из которых выбираются 200 с наилучшими предсказаниями.   \n",
    "Логика работы функции:\n",
    "   - в качестве аргумента функция принимает ответы, предсказания и количество скважин с наилучшими показателями;\n",
    "   - полученные предсказания сортируются по убыванию;\n",
    "   - получаем индексы лучших предсказаний;\n",
    "   - получаем реальные данные об объеме сырья по индексам;\n",
    "   - суммируются первые 200 реальных значений объема сырья;\n",
    "   - полученное значение умножается на стоимость ед. прод. и возвращается как прибыль."
   ]
  },
  {
   "cell_type": "code",
   "execution_count": 45,
   "metadata": {},
   "outputs": [],
   "source": [
    "def profit_calculation(target, predictions, count = ML_BORE):\n",
    "    \n",
    "    predictions = pd.Series(predictions)\n",
    "    predictions.index = target.index\n",
    "    \n",
    "    pred_sorted = predictions.sort_values(ascending = False)\n",
    "    selected = target[pred_sorted.index][:ML_BORE]\n",
    "\n",
    "    total_profit = (selected.sum()*ONE_THOUSAND_BARREL_PRICE) - BUDGET\n",
    "            \n",
    "    return total_profit"
   ]
  },
  {
   "cell_type": "markdown",
   "metadata": {},
   "source": [
    "Проверим работоспособность функции на полученных ранее предсказаниях."
   ]
  },
  {
   "cell_type": "code",
   "execution_count": 46,
   "metadata": {},
   "outputs": [
    {
     "name": "stdout",
     "output_type": "stream",
     "text": [
      "Прибыль с региона  0 равна 3194884841.8524227\n",
      "Прибыль с региона  1 равна 2415086696.681511\n",
      "Прибыль с региона  2 равна 2577222625.788872\n",
      "Прибыль с региона  3 равна 786445858.3951969\n"
     ]
    }
   ],
   "source": [
    "for i in range(len(answers)):\n",
    "    print('Прибыль с региона ', i, 'равна', profit_calculation(answers[i], predictions[i], ML_BORE))"
   ]
  },
  {
   "cell_type": "markdown",
   "metadata": {},
   "source": [
    "Хорошая прибыль, покрывает расходы. Однако помним что выборка была 100000, и при исследовании всего 500 точек, из которых будут браться 200 для ML, не факт что получим такие же значения."
   ]
  },
  {
   "cell_type": "markdown",
   "metadata": {},
   "source": [
    "___\n",
    "[*К содержанию*](#back)"
   ]
  },
  {
   "cell_type": "markdown",
   "metadata": {},
   "source": [
    "<a id = '5'></a>\n",
    "# 5. Расчёт рисков \n",
    "___\n",
    "___"
   ]
  },
  {
   "cell_type": "markdown",
   "metadata": {},
   "source": [
    "<a id = '5.1'></a>\n",
    "### 5.1. Bootstrap с 1000 выборок, распределение прибыли.\n",
    "___"
   ]
  },
  {
   "cell_type": "markdown",
   "metadata": {},
   "source": [
    "Для применения техники Bootstrap удобнее будет написать функцию."
   ]
  },
  {
   "cell_type": "code",
   "execution_count": 47,
   "metadata": {},
   "outputs": [],
   "source": [
    "state = np.random.RandomState(481516)\n",
    "\n",
    "def bootstrap_1000(target, predictions, count = ML_BORE):\n",
    "    \n",
    "    predictions = pd.Series(predictions)\n",
    "    profit_list = []\n",
    "    predictions.index = target.index\n",
    "    \n",
    "    for i in range(count):\n",
    "        target_subsample = target.sample(RESEARCHED_BORE, replace = True, random_state = state)\n",
    "        pred_subsample = predictions[target_subsample.index]\n",
    "        \n",
    "        profit = profit_calculation(target_subsample, pred_subsample)\n",
    "        profit_list.append(profit)\n",
    "    \n",
    "    profit_list = pd.Series(profit_list)\n",
    "    \n",
    "    return profit_list"
   ]
  },
  {
   "cell_type": "markdown",
   "metadata": {},
   "source": [
    "Составим список прибылей по регионам (в этот раз объединённые данные не учитываем)."
   ]
  },
  {
   "cell_type": "code",
   "execution_count": 48,
   "metadata": {},
   "outputs": [],
   "source": [
    "regions_profit_list = []\n",
    "for i in range(3):\n",
    "    regions_profit_list.append(bootstrap_1000(answers[i], predictions[i]))"
   ]
  },
  {
   "cell_type": "code",
   "execution_count": 49,
   "metadata": {},
   "outputs": [
    {
     "name": "stdout",
     "output_type": "stream",
     "text": [
      "Распределение прибыли по региону 0 от -157752128.57635117 до 1396619167.0686264\n",
      "Распределение прибыли по региону 1 от -78815613.45598984 до 1047747764.5515041\n",
      "Распределение прибыли по региону 2 от -739283794.9509277 до 925734190.4122505\n"
     ]
    }
   ],
   "source": [
    "for i in range(len(regions_profit_list)):\n",
    "    print('Распределение прибыли по региону', i, 'от', regions_profit_list[i].min(), 'до', regions_profit_list[i].max())"
   ]
  },
  {
   "cell_type": "markdown",
   "metadata": {},
   "source": [
    "___\n",
    "[*К содержанию*](#back)"
   ]
  },
  {
   "cell_type": "markdown",
   "metadata": {},
   "source": [
    "<a id = '5.2'></a>\n",
    "### 5.2. Средняя прибыль, 95%-й доверительный интервал.\n",
    "___"
   ]
  },
  {
   "cell_type": "markdown",
   "metadata": {},
   "source": [
    "Напишем функцию поиска средней прибыли и 95% доверительного интервала."
   ]
  },
  {
   "cell_type": "code",
   "execution_count": 50,
   "metadata": {},
   "outputs": [],
   "source": [
    "#def print_stats(probs):\n",
    "#    for proba in probs:\n",
    "#        print('Среднее значение прибыли равно: ', proba.mean())\n",
    "#        print('95% доверительный интервал равен:', st.t.interval(0.95, len(proba) - 1, loc = proba.mean(), scale = proba.sem()))"
   ]
  },
  {
   "cell_type": "code",
   "execution_count": 51,
   "metadata": {},
   "outputs": [],
   "source": [
    "def print_stats(probs):\n",
    "    for proba in probs:\n",
    "        print('Среднее значение прибыли равно: ', proba.mean())\n",
    "        print('95% доверительный интервал равен:', proba.quantile(0.025), ':', proba.quantile(0.975))"
   ]
  },
  {
   "cell_type": "code",
   "execution_count": 52,
   "metadata": {},
   "outputs": [
    {
     "name": "stdout",
     "output_type": "stream",
     "text": [
      "Среднее значение прибыли равно:  480964071.09406424\n",
      "95% доверительный интервал равен: -57588346.97523742 : 1002826516.4026724\n",
      "Среднее значение прибыли равно:  501897578.7879619\n",
      "95% доверительный интервал равен: 65229870.14375734 : 907389176.061705\n",
      "Среднее значение прибыли равно:  418491837.4540251\n",
      "95% доверительный интервал равен: -157112773.27931565 : 891344354.2704538\n"
     ]
    }
   ],
   "source": [
    "print_stats(regions_profit_list)"
   ]
  },
  {
   "cell_type": "markdown",
   "metadata": {},
   "source": [
    "Определим риски.\n",
    "Так как по определению ТЗ риск есть отрицательная прибыль, то идея следующая: для полученных списков прибылей из каждой вычитаем бюджет на разработку скважин, подсчитываем количество отрицательных значений и делим его на длину списка прибылей. Напишем под это функцию."
   ]
  },
  {
   "cell_type": "code",
   "execution_count": 53,
   "metadata": {},
   "outputs": [],
   "source": [
    "def risk(profit):\n",
    "    negative_profit_count = 0\n",
    "    for i in range(len(profit)):\n",
    "        if (profit[i]) < 0:\n",
    "            negative_profit_count += 1\n",
    "    return negative_profit_count/len(profit) * 100"
   ]
  },
  {
   "cell_type": "code",
   "execution_count": 54,
   "metadata": {},
   "outputs": [
    {
     "name": "stdout",
     "output_type": "stream",
     "text": [
      "Риск убытка для региона 0 равен 4.0 %\n",
      "Риск убытка для региона 1 равен 1.0 %\n",
      "Риск убытка для региона 2 равен 7.000000000000001 %\n"
     ]
    }
   ],
   "source": [
    "for i in range(len(regions_profit_list)):\n",
    "    print('Риск убытка для региона', i, 'равен', risk(regions_profit_list[i]), '%')"
   ]
  },
  {
   "cell_type": "markdown",
   "metadata": {},
   "source": [
    "___\n",
    "[*К содержанию*](#back)"
   ]
  },
  {
   "cell_type": "markdown",
   "metadata": {},
   "source": [
    "<a id = '5.3'></a>\n",
    "### 5.3. Выводы.\n",
    "___"
   ]
  },
  {
   "cell_type": "markdown",
   "metadata": {},
   "source": [
    "Итак, самым благоприятным для разработки признаётся регион 1:\n",
    "- минимальный риск убытков;\n",
    "- наибольшее среднее значение прибыли;\n",
    "- наиболее благоприятный доверительный интервал для среднего значения прибыли;\n",
    "- это единственный регион, который в принципе показал вероятность убытков меньше допустимой по ТЗ (1% < 2.5%)"
   ]
  },
  {
   "cell_type": "markdown",
   "metadata": {},
   "source": [
    "___\n",
    "[*К содержанию*](#back)"
   ]
  },
  {
   "cell_type": "code",
   "execution_count": null,
   "metadata": {},
   "outputs": [],
   "source": []
  }
 ],
 "metadata": {
  "kernelspec": {
   "display_name": "Python 3 (ipykernel)",
   "language": "python",
   "name": "python3"
  },
  "language_info": {
   "codemirror_mode": {
    "name": "ipython",
    "version": 3
   },
   "file_extension": ".py",
   "mimetype": "text/x-python",
   "name": "python",
   "nbconvert_exporter": "python",
   "pygments_lexer": "ipython3",
   "version": "3.9.5"
  },
  "toc": {
   "base_numbering": 1,
   "nav_menu": {},
   "number_sections": true,
   "sideBar": true,
   "skip_h1_title": true,
   "title_cell": "Table of Contents",
   "title_sidebar": "Contents",
   "toc_cell": false,
   "toc_position": {},
   "toc_section_display": true,
   "toc_window_display": false
  }
 },
 "nbformat": 4,
 "nbformat_minor": 2
}
